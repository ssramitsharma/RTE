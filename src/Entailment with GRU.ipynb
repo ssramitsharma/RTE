{
 "cells": [
  {
   "cell_type": "markdown",
   "metadata": {},
   "source": [
    "We’ll start by doing all necessary imports, and we’ll let our Jupyter Notebook know that it should display graphs and images in the notebook itself."
   ]
  },
  {
   "cell_type": "code",
   "execution_count": 1,
   "metadata": {},
   "outputs": [
    {
     "name": "stdout",
     "output_type": "stream",
     "text": [
      "--- 4.410743713378906e-05 seconds ---\n"
     ]
    }
   ],
   "source": [
    "%matplotlib inline\n",
    "#Reference : https://www.oreilly.com/learning/textual-entailment-with-tensorflow\n",
    "import time\n",
    "start_time = time.time()\n",
    "print(\"--- %s seconds ---\" % (time.time() - start_time))\n",
    "import tensorflow as tf\n",
    "import numpy as np\n",
    "import matplotlib.pyplot as plt\n",
    "import matplotlib.ticker as ticker\n",
    "import urllib\n",
    "import sys\n",
    "import os\n",
    "import zipfile\n",
    "learning_rate = 0.0001\n"
   ]
  },
  {
   "cell_type": "code",
   "execution_count": 2,
   "metadata": {},
   "outputs": [],
   "source": [
    "glove_zip_file = \"glove.6B.zip\"\n",
    "glove_vectors_file = \"glove.6B.50d.txt\"\n",
    "\n",
    "snli_zip_file = \"snli_1.0.zip\"\n",
    "snli_dev_file = \"snli_1.0_dev.txt\"\n",
    "snli_full_dataset_file = \"snli_1.0_train.txt\""
   ]
  },
  {
   "cell_type": "code",
   "execution_count": 3,
   "metadata": {},
   "outputs": [],
   "source": [
    "from six.moves.urllib.request import urlretrieve\n",
    "    \n",
    "#large file - 862 MB\n",
    "if (not os.path.isfile(glove_zip_file) and\n",
    "    not os.path.isfile(glove_vectors_file)):\n",
    "    urlretrieve (\"http://nlp.stanford.edu/data/glove.6B.zip\", \n",
    "                 glove_zip_file)\n",
    "\n",
    "#medium-sized file - 94.6 MB\n",
    "if (not os.path.isfile(snli_zip_file) and\n",
    "    not os.path.isfile(snli_dev_file)):\n",
    "    urlretrieve (\"https://nlp.stanford.edu/projects/snli/snli_1.0.zip\", \n",
    "                 snli_zip_file)"
   ]
  },
  {
   "cell_type": "code",
   "execution_count": 4,
   "metadata": {},
   "outputs": [],
   "source": [
    "def unzip_single_file(zip_file_name, output_file_name):\n",
    "    \"\"\"\n",
    "        If the outFile is already created, don't recreate\n",
    "        If the outFile does not exist, create it from the zipFile\n",
    "    \"\"\"\n",
    "    if not os.path.isfile(output_file_name):\n",
    "        with open(output_file_name, 'wb') as out_file:\n",
    "            with zipfile.ZipFile(zip_file_name) as zipped:\n",
    "                for info in zipped.infolist():\n",
    "                    if output_file_name in info.filename:\n",
    "                        with zipped.open(info) as requested_file:\n",
    "                            out_file.write(requested_file.read())\n",
    "                            return\n",
    "\n",
    "unzip_single_file(glove_zip_file, glove_vectors_file)\n",
    "unzip_single_file(snli_zip_file, snli_dev_file)\n",
    "# unzip_single_file(snli_zip_file, snli_full_dataset_file)"
   ]
  },
  {
   "cell_type": "markdown",
   "metadata": {},
   "source": [
    "---\n",
    "\n",
    "Now that we have our GloVe vectors downloaded, we can load them into memory, deserializing the space separated format into a Python dictionary:"
   ]
  },
  {
   "cell_type": "code",
   "execution_count": 5,
   "metadata": {},
   "outputs": [],
   "source": [
    "glove_wordmap = {}\n",
    "with open(glove_vectors_file, \"r\") as glove:\n",
    "    for line in glove:\n",
    "        name, vector = tuple(line.split(\" \", 1))\n",
    "        glove_wordmap[name] = np.fromstring(vector, sep=\" \")"
   ]
  },
  {
   "cell_type": "markdown",
   "metadata": {},
   "source": [
    "---\n",
    "\n",
    "Once we have our words, we need our input to contain entire sentences and process it through a neural network. Let's start with making the sequence:"
   ]
  },
  {
   "cell_type": "code",
   "execution_count": 6,
   "metadata": {},
   "outputs": [],
   "source": [
    "def sentence2sequence(sentence):\n",
    "    \"\"\"\n",
    "     \n",
    "    - Turns an input sentence into an (n,d) matrix, \n",
    "        where n is the number of tokens in the sentence\n",
    "        and d is the number of dimensions each word vector has.\n",
    "    \n",
    "      Tensorflow doesn't need to be used here, as simply\n",
    "      turning the sentence into a sequence based off our \n",
    "      mapping does not need the computational power that\n",
    "      Tensorflow provides. Normal Python suffices for this task.\n",
    "    \"\"\"\n",
    "    tokens = sentence.lower().split(\" \")\n",
    "    rows = []\n",
    "    words = []\n",
    "    #Greedy search for tokens\n",
    "    for token in tokens:\n",
    "        i = len(token)\n",
    "        while len(token) > 0 and i > 0:\n",
    "            word = token[:i]\n",
    "            if word in glove_wordmap:\n",
    "                rows.append(glove_wordmap[word])\n",
    "                words.append(word)\n",
    "                token = token[i:]\n",
    "                i = len(token)\n",
    "            else:\n",
    "                i = i-1\n",
    "    return rows, words"
   ]
  },
  {
   "cell_type": "code",
   "execution_count": 7,
   "metadata": {},
   "outputs": [],
   "source": [
    "#Constants setup\n",
    "max_hypothesis_length, max_evidence_length = 30, 30\n",
    "batch_size, vector_size, hidden_size = 128, 50, 64\n",
    "\n",
    "lstm_size = hidden_size\n",
    "\n",
    "weight_decay = 0.0001\n",
    "\n",
    "\n",
    "\n",
    "input_p, output_p = 0.5, 0.5\n",
    "\n",
    "training_iterations_count = 100000\n",
    "\n",
    "display_step = 10\n",
    "\n",
    "def score_setup(row):\n",
    "    convert_dict = {\n",
    "      'entailment': 0,\n",
    "      'neutral': 1,\n",
    "      'contradiction': 2\n",
    "    }\n",
    "    score = np.zeros((3,))\n",
    "    for x in range(1,6):\n",
    "        tag = row[\"label\"+str(x)]\n",
    "        if tag in convert_dict: score[convert_dict[tag]] += 1\n",
    "    return score / (1.0*np.sum(score))\n",
    "\n",
    "def fit_to_size(matrix, shape):\n",
    "    res = np.zeros(shape)\n",
    "    slices = [slice(0,min(dim,shape[e])) for e, dim in enumerate(matrix.shape)]\n",
    "    res[slices] = matrix[slices]\n",
    "    return res\n"
   ]
  },
  {
   "cell_type": "code",
   "execution_count": 8,
   "metadata": {},
   "outputs": [],
   "source": [
    "def split_data_into_scores():\n",
    "    import csv\n",
    "    with open(\"snli_1.0_dev.txt\",\"r\") as data:\n",
    "        train = csv.DictReader(data, delimiter='\\t')\n",
    "        evi_sentences = []\n",
    "        hyp_sentences = []\n",
    "        labels = []\n",
    "        scores = []\n",
    "        for row in train:\n",
    "            hyp_sentences.append(np.vstack(\n",
    "                    sentence2sequence(row[\"sentence1\"].lower())[0]))\n",
    "            evi_sentences.append(np.vstack(\n",
    "                    sentence2sequence(row[\"sentence2\"].lower())[0]))\n",
    "            labels.append(row[\"gold_label\"])\n",
    "            scores.append(score_setup(row))\n",
    "        \n",
    "        hyp_sentences = np.stack([fit_to_size(x, (max_hypothesis_length, vector_size))\n",
    "                          for x in hyp_sentences])\n",
    "        evi_sentences = np.stack([fit_to_size(x, (max_evidence_length, vector_size))\n",
    "                          for x in evi_sentences])\n",
    "                                 \n",
    "        return (hyp_sentences, evi_sentences), labels, np.array(scores)\n",
    "    \n",
    "data_feature_list, correct_values, correct_scores = split_data_into_scores()\n",
    "\n",
    "l_h, l_e = max_hypothesis_length, max_evidence_length\n",
    "N, D, H = batch_size, vector_size, hidden_size\n",
    "l_seq = l_h + l_e\n"
   ]
  },
  {
   "cell_type": "code",
   "execution_count": 9,
   "metadata": {},
   "outputs": [],
   "source": [
    "tf.reset_default_graph()"
   ]
  },
  {
   "cell_type": "code",
   "execution_count": 10,
   "metadata": {},
   "outputs": [],
   "source": [
    "lstm = tf.contrib.rnn.GRUCell(lstm_size)"
   ]
  },
  {
   "cell_type": "code",
   "execution_count": 11,
   "metadata": {},
   "outputs": [],
   "source": [
    "lstm_drop =  tf.contrib.rnn.DropoutWrapper(lstm, input_p, output_p)"
   ]
  },
  {
   "cell_type": "code",
   "execution_count": 12,
   "metadata": {},
   "outputs": [
    {
     "name": "stdout",
     "output_type": "stream",
     "text": [
      "y Tensor(\"label:0\", shape=(128, 3), dtype=float32)\n",
      "c Tensor(\"add:0\", shape=(128, 3), dtype=float32)\n"
     ]
    }
   ],
   "source": [
    "# N: The number of elements in each of our batches, \n",
    "#   which we use to train subsets of data for efficiency's sake.\n",
    "# l_h: The maximum length of a hypothesis, or the second sentence.  This is\n",
    "#   used because training an RNN is extraordinarily difficult without \n",
    "#   rolling it out to a fixed length.\n",
    "# l_e: The maximum length of evidence, the first sentence.  This is used\n",
    "#   because training an RNN is extraordinarily difficult without \n",
    "#   rolling it out to a fixed length.\n",
    "# D: The size of our used GloVe or other vectors.\n",
    "hyp = tf.placeholder(tf.float32, [N, l_h, D], 'hypothesis')\n",
    "evi = tf.placeholder(tf.float32, [N, l_e, D], 'evidence')\n",
    "y = tf.placeholder(tf.float32, [N, 3], 'label')\n",
    "print('y',y)\n",
    "# hyp: Where the hypotheses will be stored during training.\n",
    "# evi: Where the evidences will be stored during training.\n",
    "# y: Where correct scores will be stored during training.\n",
    "\n",
    "# lstm_size: the size of the gates in the LSTM, \n",
    "#    as in the first LSTM layer's initialization.\n",
    "lstm_back = tf.contrib.rnn.GRUCell(lstm_size)\n",
    "# lstm_back:  The LSTM used for looking backwards \n",
    "#   through the sentences, similar to lstm.\n",
    "\n",
    "# input_p: the probability that inputs to the LSTM will be retained at each\n",
    "#   iteration of dropout.\n",
    "# output_p: the probability that outputs from the LSTM will be retained at \n",
    "#   each iteration of dropout.\n",
    "lstm_drop_back = tf.contrib.rnn.DropoutWrapper(lstm_back, input_p, output_p)\n",
    "# lstm_drop_back:  A dropout wrapper for lstm_back, like lstm_drop.\n",
    "\n",
    "\n",
    "fc_initializer = tf.random_normal_initializer(stddev=0.1) \n",
    "# fc_initializer: initial values for the fully connected layer's weights.\n",
    "# hidden_size: the size of the outputs from each lstm layer.  \n",
    "#   Multiplied by 2 to account for the two LSTMs.\n",
    "fc_weight = tf.get_variable('fc_weight', [2*hidden_size, 3], \n",
    "                            initializer = fc_initializer)\n",
    "# fc_weight: Storage for the fully connected layer's weights.\n",
    "fc_bias = tf.get_variable('bias', [3])\n",
    "# fc_bias: Storage for the fully connected layer's bias.\n",
    "\n",
    "# tf.GraphKeys.REGULARIZATION_LOSSES:  A key to a collection in the graph\n",
    "#   designated for losses due to regularization.\n",
    "#   In this case, this portion of loss is regularization on the weights\n",
    "#   for the fully connected layer.\n",
    "tf.add_to_collection(tf.GraphKeys.REGULARIZATION_LOSSES, \n",
    "                     tf.nn.l2_loss(fc_weight)) \n",
    "\n",
    "x = tf.concat([hyp, evi], 1) # N, (Lh+Le), d\n",
    "# Permuting batch_size and n_steps\n",
    "x = tf.transpose(x, [1, 0, 2]) # (Le+Lh), N, d\n",
    "# Reshaping to (n_steps*batch_size, n_input)\n",
    "x = tf.reshape(x, [-1, vector_size]) # (Le+Lh)*N, d\n",
    "# Split to get a list of 'n_steps' tensors of shape (batch_size, n_input)\n",
    "x = tf.split(x, l_seq,)\n",
    "\n",
    "# x: the inputs to the bidirectional_rnn\n",
    "\n",
    "\n",
    "# tf.contrib.rnn.static_bidirectional_rnn: Runs the input through\n",
    "#   two recurrent networks, one that runs the inputs forward and one\n",
    "#   that runs the inputs in reversed order, combining the outputs.\n",
    "rnn_outputs, _, _ = tf.contrib.rnn.static_bidirectional_rnn(lstm, lstm_back,\n",
    "                                                            x, dtype=tf.float32)\n",
    "# rnn_outputs: the list of LSTM outputs, as a list. \n",
    "#   What we want is the latest output, rnn_outputs[-1]\n",
    "\n",
    "classification_scores = tf.matmul(rnn_outputs[-1], fc_weight) + fc_bias\n",
    "print('c',classification_scores)\n",
    "# The scores are relative certainties for how likely the output matches\n",
    "#   a certain entailment: \n",
    "#     0: Positive entailment\n",
    "#     1: Neutral entailment\n",
    "#     2: Negative entailment"
   ]
  },
  {
   "cell_type": "code",
   "execution_count": 13,
   "metadata": {
    "scrolled": true
   },
   "outputs": [],
   "source": [
    "with tf.variable_scope('Accuracy'):\n",
    "    predicts = tf.cast(tf.argmax(classification_scores, 1), 'int32')\n",
    "    y_label = tf.cast(tf.argmax(y, 1), 'int32')\n",
    "    corrects = tf.equal(predicts, y_label)\n",
    "    num_corrects = tf.reduce_sum(tf.cast(corrects, tf.float32))\n",
    "    accuracy = tf.reduce_mean(tf.cast(corrects, tf.float32))\n",
    "\n",
    "with tf.variable_scope(\"loss\"):\n",
    "    cross_entropy = tf.nn.softmax_cross_entropy_with_logits(\n",
    "        logits = classification_scores, labels = y)\n",
    "    loss = tf.reduce_mean(cross_entropy)\n",
    "    total_loss = loss + weight_decay * tf.add_n(\n",
    "        tf.get_collection(tf.GraphKeys.REGULARIZATION_LOSSES))\n",
    "with tf.variable_scope('logging'):\n",
    "    tf.summary.scalar('Accuracy', accuracy)\n",
    "    summary = tf.summary.merge_all()\n",
    "\n",
    "saver = tf.train.Saver()\n",
    "\n",
    "optimizer = tf.train.GradientDescentOptimizer(learning_rate)\n",
    "\n",
    "opt_op = optimizer.minimize(total_loss)"
   ]
  },
  {
   "cell_type": "code",
   "execution_count": 14,
   "metadata": {},
   "outputs": [
    {
     "name": "stderr",
     "output_type": "stream",
     "text": [
      "\r",
      "  0%|          | 0/782 [00:00<?, ?it/s]"
     ]
    },
    {
     "name": "stdout",
     "output_type": "stream",
     "text": [
      "Iter 0.0, Minibatch Loss= 1.237018, Training Accuracy= 0.36719\n",
      "c Tensor(\"Accuracy/Cast:0\", shape=(128,), dtype=int32)\n",
      "y Tensor(\"Accuracy/Cast_1:0\", shape=(128,), dtype=int32)\n"
     ]
    },
    {
     "name": "stderr",
     "output_type": "stream",
     "text": [
      "  1%|          | 9/782 [00:03<05:12,  2.47it/s]"
     ]
    },
    {
     "name": "stdout",
     "output_type": "stream",
     "text": [
      "Iter 10.0, Minibatch Loss= 1.420697, Training Accuracy= 0.22656\n",
      "c Tensor(\"Accuracy/Cast:0\", shape=(128,), dtype=int32)\n",
      "y Tensor(\"Accuracy/Cast_1:0\", shape=(128,), dtype=int32)\n"
     ]
    },
    {
     "name": "stderr",
     "output_type": "stream",
     "text": [
      "  3%|▎         | 20/782 [00:04<02:49,  4.50it/s]"
     ]
    },
    {
     "name": "stdout",
     "output_type": "stream",
     "text": [
      "Iter 20.0, Minibatch Loss= 1.369558, Training Accuracy= 0.30469\n",
      "c Tensor(\"Accuracy/Cast:0\", shape=(128,), dtype=int32)\n",
      "y Tensor(\"Accuracy/Cast_1:0\", shape=(128,), dtype=int32)\n"
     ]
    },
    {
     "name": "stderr",
     "output_type": "stream",
     "text": [
      "  4%|▎         | 28/782 [00:05<02:21,  5.34it/s]"
     ]
    },
    {
     "name": "stdout",
     "output_type": "stream",
     "text": [
      "Iter 30.0, Minibatch Loss= 1.311908, Training Accuracy= 0.29688\n",
      "c Tensor(\"Accuracy/Cast:0\", shape=(128,), dtype=int32)\n",
      "y Tensor(\"Accuracy/Cast_1:0\", shape=(128,), dtype=int32)\n"
     ]
    },
    {
     "name": "stderr",
     "output_type": "stream",
     "text": [
      "  5%|▌         | 40/782 [00:06<01:51,  6.65it/s]"
     ]
    },
    {
     "name": "stdout",
     "output_type": "stream",
     "text": [
      "Iter 40.0, Minibatch Loss= 1.306388, Training Accuracy= 0.32031\n",
      "c Tensor(\"Accuracy/Cast:0\", shape=(128,), dtype=int32)\n",
      "y Tensor(\"Accuracy/Cast_1:0\", shape=(128,), dtype=int32)\n"
     ]
    },
    {
     "name": "stderr",
     "output_type": "stream",
     "text": [
      "  6%|▌         | 48/782 [00:06<01:42,  7.16it/s]"
     ]
    },
    {
     "name": "stdout",
     "output_type": "stream",
     "text": [
      "Iter 50.0, Minibatch Loss= 1.293746, Training Accuracy= 0.33594\n",
      "c Tensor(\"Accuracy/Cast:0\", shape=(128,), dtype=int32)\n",
      "y Tensor(\"Accuracy/Cast_1:0\", shape=(128,), dtype=int32)\n"
     ]
    },
    {
     "name": "stderr",
     "output_type": "stream",
     "text": [
      "  8%|▊         | 60/782 [00:07<01:30,  7.95it/s]"
     ]
    },
    {
     "name": "stdout",
     "output_type": "stream",
     "text": [
      "Iter 60.0, Minibatch Loss= 1.321059, Training Accuracy= 0.36719\n",
      "c Tensor(\"Accuracy/Cast:0\", shape=(128,), dtype=int32)\n",
      "y Tensor(\"Accuracy/Cast_1:0\", shape=(128,), dtype=int32)\n"
     ]
    },
    {
     "name": "stderr",
     "output_type": "stream",
     "text": [
      "  9%|▉         | 69/782 [00:08<01:25,  8.37it/s]"
     ]
    },
    {
     "name": "stdout",
     "output_type": "stream",
     "text": [
      "Iter 70.0, Minibatch Loss= 1.389376, Training Accuracy= 0.26562\n",
      "c Tensor(\"Accuracy/Cast:0\", shape=(128,), dtype=int32)\n",
      "y Tensor(\"Accuracy/Cast_1:0\", shape=(128,), dtype=int32)\n"
     ]
    },
    {
     "name": "stderr",
     "output_type": "stream",
     "text": [
      " 10%|▉         | 77/782 [00:09<01:22,  8.53it/s]"
     ]
    },
    {
     "name": "stdout",
     "output_type": "stream",
     "text": [
      "Iter 80.0, Minibatch Loss= 1.303764, Training Accuracy= 0.32812\n",
      "c Tensor(\"Accuracy/Cast:0\", shape=(128,), dtype=int32)\n",
      "y Tensor(\"Accuracy/Cast_1:0\", shape=(128,), dtype=int32)\n"
     ]
    },
    {
     "name": "stderr",
     "output_type": "stream",
     "text": [
      " 11%|█         | 86/782 [00:09<01:18,  8.83it/s]"
     ]
    },
    {
     "name": "stdout",
     "output_type": "stream",
     "text": [
      "Iter 90.0, Minibatch Loss= 1.305147, Training Accuracy= 0.33594\n",
      "c Tensor(\"Accuracy/Cast:0\", shape=(128,), dtype=int32)\n",
      "y Tensor(\"Accuracy/Cast_1:0\", shape=(128,), dtype=int32)\n"
     ]
    },
    {
     "name": "stderr",
     "output_type": "stream",
     "text": [
      " 13%|█▎        | 98/782 [00:10<01:14,  9.19it/s]"
     ]
    },
    {
     "name": "stdout",
     "output_type": "stream",
     "text": [
      "Iter 100.0, Minibatch Loss= 1.319216, Training Accuracy= 0.35938\n",
      "c Tensor(\"Accuracy/Cast:0\", shape=(128,), dtype=int32)\n",
      "y Tensor(\"Accuracy/Cast_1:0\", shape=(128,), dtype=int32)\n"
     ]
    },
    {
     "name": "stderr",
     "output_type": "stream",
     "text": [
      " 14%|█▍        | 110/782 [00:11<01:12,  9.25it/s]"
     ]
    },
    {
     "name": "stdout",
     "output_type": "stream",
     "text": [
      "Iter 110.0, Minibatch Loss= 1.266755, Training Accuracy= 0.35938\n",
      "c Tensor(\"Accuracy/Cast:0\", shape=(128,), dtype=int32)\n",
      "y Tensor(\"Accuracy/Cast_1:0\", shape=(128,), dtype=int32)\n"
     ]
    },
    {
     "name": "stderr",
     "output_type": "stream",
     "text": [
      " 15%|█▌        | 119/782 [00:12<01:12,  9.19it/s]"
     ]
    },
    {
     "name": "stdout",
     "output_type": "stream",
     "text": [
      "Iter 120.0, Minibatch Loss= 1.304309, Training Accuracy= 0.32812\n",
      "c Tensor(\"Accuracy/Cast:0\", shape=(128,), dtype=int32)\n",
      "y Tensor(\"Accuracy/Cast_1:0\", shape=(128,), dtype=int32)\n"
     ]
    },
    {
     "name": "stderr",
     "output_type": "stream",
     "text": [
      " 17%|█▋        | 130/782 [00:13<01:09,  9.41it/s]"
     ]
    },
    {
     "name": "stdout",
     "output_type": "stream",
     "text": [
      "Iter 130.0, Minibatch Loss= 1.369680, Training Accuracy= 0.28906\n",
      "c Tensor(\"Accuracy/Cast:0\", shape=(128,), dtype=int32)\n",
      "y Tensor(\"Accuracy/Cast_1:0\", shape=(128,), dtype=int32)\n"
     ]
    },
    {
     "name": "stderr",
     "output_type": "stream",
     "text": [
      " 18%|█▊        | 138/782 [00:14<01:07,  9.48it/s]"
     ]
    },
    {
     "name": "stdout",
     "output_type": "stream",
     "text": [
      "Iter 140.0, Minibatch Loss= 1.292157, Training Accuracy= 0.35938\n",
      "c Tensor(\"Accuracy/Cast:0\", shape=(128,), dtype=int32)\n",
      "y Tensor(\"Accuracy/Cast_1:0\", shape=(128,), dtype=int32)\n"
     ]
    },
    {
     "name": "stderr",
     "output_type": "stream",
     "text": [
      " 19%|█▉        | 150/782 [00:15<01:05,  9.71it/s]"
     ]
    },
    {
     "name": "stdout",
     "output_type": "stream",
     "text": [
      "Iter 150.0, Minibatch Loss= 1.340553, Training Accuracy= 0.34375\n",
      "c Tensor(\"Accuracy/Cast:0\", shape=(128,), dtype=int32)\n",
      "y Tensor(\"Accuracy/Cast_1:0\", shape=(128,), dtype=int32)\n"
     ]
    },
    {
     "name": "stderr",
     "output_type": "stream",
     "text": [
      " 20%|██        | 157/782 [00:16<01:04,  9.67it/s]"
     ]
    },
    {
     "name": "stdout",
     "output_type": "stream",
     "text": [
      "Iter 160.0, Minibatch Loss= 1.275220, Training Accuracy= 0.35938\n",
      "c Tensor(\"Accuracy/Cast:0\", shape=(128,), dtype=int32)\n",
      "y Tensor(\"Accuracy/Cast_1:0\", shape=(128,), dtype=int32)\n"
     ]
    },
    {
     "name": "stderr",
     "output_type": "stream",
     "text": [
      " 22%|██▏       | 169/782 [00:17<01:02,  9.87it/s]"
     ]
    },
    {
     "name": "stdout",
     "output_type": "stream",
     "text": [
      "Iter 170.0, Minibatch Loss= 1.271137, Training Accuracy= 0.33594\n",
      "c Tensor(\"Accuracy/Cast:0\", shape=(128,), dtype=int32)\n",
      "y Tensor(\"Accuracy/Cast_1:0\", shape=(128,), dtype=int32)\n"
     ]
    },
    {
     "name": "stderr",
     "output_type": "stream",
     "text": [
      " 23%|██▎       | 180/782 [00:17<01:00, 10.02it/s]"
     ]
    },
    {
     "name": "stdout",
     "output_type": "stream",
     "text": [
      "Iter 180.0, Minibatch Loss= 1.394372, Training Accuracy= 0.31250\n",
      "c Tensor(\"Accuracy/Cast:0\", shape=(128,), dtype=int32)\n",
      "y Tensor(\"Accuracy/Cast_1:0\", shape=(128,), dtype=int32)\n"
     ]
    },
    {
     "name": "stderr",
     "output_type": "stream",
     "text": [
      " 24%|██▍       | 187/782 [00:18<00:59,  9.99it/s]"
     ]
    },
    {
     "name": "stdout",
     "output_type": "stream",
     "text": [
      "Iter 190.0, Minibatch Loss= 1.325836, Training Accuracy= 0.31250\n",
      "c Tensor(\"Accuracy/Cast:0\", shape=(128,), dtype=int32)\n",
      "y Tensor(\"Accuracy/Cast_1:0\", shape=(128,), dtype=int32)\n"
     ]
    },
    {
     "name": "stderr",
     "output_type": "stream",
     "text": [
      " 25%|██▌       | 199/782 [00:19<00:57, 10.16it/s]"
     ]
    },
    {
     "name": "stdout",
     "output_type": "stream",
     "text": [
      "Iter 200.0, Minibatch Loss= 1.339285, Training Accuracy= 0.31250\n",
      "c Tensor(\"Accuracy/Cast:0\", shape=(128,), dtype=int32)\n",
      "y Tensor(\"Accuracy/Cast_1:0\", shape=(128,), dtype=int32)\n"
     ]
    },
    {
     "name": "stderr",
     "output_type": "stream",
     "text": [
      " 26%|██▋       | 207/782 [00:20<00:56, 10.18it/s]"
     ]
    },
    {
     "name": "stdout",
     "output_type": "stream",
     "text": [
      "Iter 210.0, Minibatch Loss= 1.259617, Training Accuracy= 0.37500\n",
      "c Tensor(\"Accuracy/Cast:0\", shape=(128,), dtype=int32)\n",
      "y Tensor(\"Accuracy/Cast_1:0\", shape=(128,), dtype=int32)\n"
     ]
    },
    {
     "name": "stderr",
     "output_type": "stream",
     "text": [
      " 28%|██▊       | 219/782 [00:21<00:54, 10.29it/s]"
     ]
    },
    {
     "name": "stdout",
     "output_type": "stream",
     "text": [
      "Iter 220.0, Minibatch Loss= 1.362679, Training Accuracy= 0.27344\n",
      "c Tensor(\"Accuracy/Cast:0\", shape=(128,), dtype=int32)\n",
      "y Tensor(\"Accuracy/Cast_1:0\", shape=(128,), dtype=int32)\n"
     ]
    },
    {
     "name": "stderr",
     "output_type": "stream",
     "text": [
      " 29%|██▉       | 230/782 [00:22<00:53, 10.38it/s]"
     ]
    },
    {
     "name": "stdout",
     "output_type": "stream",
     "text": [
      "Iter 230.0, Minibatch Loss= 1.296026, Training Accuracy= 0.35938\n",
      "c Tensor(\"Accuracy/Cast:0\", shape=(128,), dtype=int32)\n",
      "y Tensor(\"Accuracy/Cast_1:0\", shape=(128,), dtype=int32)\n"
     ]
    },
    {
     "name": "stderr",
     "output_type": "stream",
     "text": [
      " 30%|███       | 237/782 [00:23<00:53, 10.28it/s]"
     ]
    },
    {
     "name": "stdout",
     "output_type": "stream",
     "text": [
      "Iter 240.0, Minibatch Loss= 1.332457, Training Accuracy= 0.34375\n",
      "c Tensor(\"Accuracy/Cast:0\", shape=(128,), dtype=int32)\n",
      "y Tensor(\"Accuracy/Cast_1:0\", shape=(128,), dtype=int32)\n"
     ]
    },
    {
     "name": "stderr",
     "output_type": "stream",
     "text": [
      " 32%|███▏      | 249/782 [00:24<00:51, 10.31it/s]"
     ]
    },
    {
     "name": "stdout",
     "output_type": "stream",
     "text": [
      "Iter 250.0, Minibatch Loss= 1.256927, Training Accuracy= 0.35938\n",
      "c Tensor(\"Accuracy/Cast:0\", shape=(128,), dtype=int32)\n",
      "y Tensor(\"Accuracy/Cast_1:0\", shape=(128,), dtype=int32)\n"
     ]
    },
    {
     "name": "stderr",
     "output_type": "stream",
     "text": [
      " 33%|███▎      | 260/782 [00:25<00:50, 10.37it/s]"
     ]
    },
    {
     "name": "stdout",
     "output_type": "stream",
     "text": [
      "Iter 260.0, Minibatch Loss= 1.301425, Training Accuracy= 0.35938\n",
      "c Tensor(\"Accuracy/Cast:0\", shape=(128,), dtype=int32)\n",
      "y Tensor(\"Accuracy/Cast_1:0\", shape=(128,), dtype=int32)\n"
     ]
    },
    {
     "name": "stderr",
     "output_type": "stream",
     "text": [
      " 34%|███▍      | 267/782 [00:25<00:49, 10.35it/s]"
     ]
    },
    {
     "name": "stdout",
     "output_type": "stream",
     "text": [
      "Iter 270.0, Minibatch Loss= 1.328192, Training Accuracy= 0.33594\n",
      "c Tensor(\"Accuracy/Cast:0\", shape=(128,), dtype=int32)\n",
      "y Tensor(\"Accuracy/Cast_1:0\", shape=(128,), dtype=int32)\n"
     ]
    },
    {
     "name": "stderr",
     "output_type": "stream",
     "text": [
      " 36%|███▌      | 278/782 [00:26<00:48, 10.40it/s]"
     ]
    },
    {
     "name": "stdout",
     "output_type": "stream",
     "text": [
      "Iter 280.0, Minibatch Loss= 1.415861, Training Accuracy= 0.24219\n",
      "c Tensor(\"Accuracy/Cast:0\", shape=(128,), dtype=int32)\n",
      "y Tensor(\"Accuracy/Cast_1:0\", shape=(128,), dtype=int32)\n"
     ]
    },
    {
     "name": "stderr",
     "output_type": "stream",
     "text": [
      " 37%|███▋      | 289/782 [00:27<00:47, 10.36it/s]"
     ]
    },
    {
     "name": "stdout",
     "output_type": "stream",
     "text": [
      "Iter 290.0, Minibatch Loss= 1.251703, Training Accuracy= 0.37500\n",
      "c Tensor(\"Accuracy/Cast:0\", shape=(128,), dtype=int32)\n",
      "y Tensor(\"Accuracy/Cast_1:0\", shape=(128,), dtype=int32)\n"
     ]
    },
    {
     "name": "stderr",
     "output_type": "stream",
     "text": [
      " 38%|███▊      | 300/782 [00:28<00:46, 10.40it/s]"
     ]
    },
    {
     "name": "stdout",
     "output_type": "stream",
     "text": [
      "Iter 300.0, Minibatch Loss= 1.297153, Training Accuracy= 0.30469\n",
      "c Tensor(\"Accuracy/Cast:0\", shape=(128,), dtype=int32)\n",
      "y Tensor(\"Accuracy/Cast_1:0\", shape=(128,), dtype=int32)\n"
     ]
    },
    {
     "name": "stderr",
     "output_type": "stream",
     "text": [
      " 40%|███▉      | 310/782 [00:29<00:45, 10.38it/s]"
     ]
    },
    {
     "name": "stdout",
     "output_type": "stream",
     "text": [
      "Iter 310.0, Minibatch Loss= 1.196084, Training Accuracy= 0.40625\n",
      "c Tensor(\"Accuracy/Cast:0\", shape=(128,), dtype=int32)\n",
      "y Tensor(\"Accuracy/Cast_1:0\", shape=(128,), dtype=int32)\n"
     ]
    },
    {
     "name": "stderr",
     "output_type": "stream",
     "text": [
      " 41%|████      | 317/782 [00:30<00:45, 10.30it/s]"
     ]
    },
    {
     "name": "stdout",
     "output_type": "stream",
     "text": [
      "Iter 320.0, Minibatch Loss= 1.411694, Training Accuracy= 0.21094\n",
      "c Tensor(\"Accuracy/Cast:0\", shape=(128,), dtype=int32)\n",
      "y Tensor(\"Accuracy/Cast_1:0\", shape=(128,), dtype=int32)\n"
     ]
    },
    {
     "name": "stderr",
     "output_type": "stream",
     "text": [
      " 42%|████▏     | 326/782 [00:31<00:44, 10.35it/s]"
     ]
    },
    {
     "name": "stdout",
     "output_type": "stream",
     "text": [
      "Iter 330.0, Minibatch Loss= 1.326190, Training Accuracy= 0.32031\n",
      "c Tensor(\"Accuracy/Cast:0\", shape=(128,), dtype=int32)\n",
      "y Tensor(\"Accuracy/Cast_1:0\", shape=(128,), dtype=int32)\n"
     ]
    },
    {
     "name": "stderr",
     "output_type": "stream",
     "text": [
      " 43%|████▎     | 336/782 [00:32<00:42, 10.41it/s]"
     ]
    },
    {
     "name": "stdout",
     "output_type": "stream",
     "text": [
      "Iter 340.0, Minibatch Loss= 1.331024, Training Accuracy= 0.31250\n",
      "c Tensor(\"Accuracy/Cast:0\", shape=(128,), dtype=int32)\n",
      "y Tensor(\"Accuracy/Cast_1:0\", shape=(128,), dtype=int32)\n"
     ]
    },
    {
     "name": "stderr",
     "output_type": "stream",
     "text": [
      " 44%|████▍     | 346/782 [00:33<00:41, 10.47it/s]"
     ]
    },
    {
     "name": "stdout",
     "output_type": "stream",
     "text": [
      "Iter 350.0, Minibatch Loss= 1.308911, Training Accuracy= 0.27344\n",
      "c Tensor(\"Accuracy/Cast:0\", shape=(128,), dtype=int32)\n",
      "y Tensor(\"Accuracy/Cast_1:0\", shape=(128,), dtype=int32)\n"
     ]
    },
    {
     "name": "stderr",
     "output_type": "stream",
     "text": [
      " 46%|████▌     | 360/782 [00:33<00:39, 10.60it/s]"
     ]
    },
    {
     "name": "stdout",
     "output_type": "stream",
     "text": [
      "Iter 360.0, Minibatch Loss= 1.265778, Training Accuracy= 0.35156\n",
      "c Tensor(\"Accuracy/Cast:0\", shape=(128,), dtype=int32)\n",
      "y Tensor(\"Accuracy/Cast_1:0\", shape=(128,), dtype=int32)\n"
     ]
    },
    {
     "name": "stderr",
     "output_type": "stream",
     "text": [
      " 47%|████▋     | 369/782 [00:34<00:38, 10.63it/s]"
     ]
    },
    {
     "name": "stdout",
     "output_type": "stream",
     "text": [
      "Iter 370.0, Minibatch Loss= 1.242714, Training Accuracy= 0.38281\n",
      "c Tensor(\"Accuracy/Cast:0\", shape=(128,), dtype=int32)\n",
      "y Tensor(\"Accuracy/Cast_1:0\", shape=(128,), dtype=int32)\n"
     ]
    },
    {
     "name": "stderr",
     "output_type": "stream",
     "text": [
      " 48%|████▊     | 377/782 [00:35<00:38, 10.65it/s]"
     ]
    },
    {
     "name": "stdout",
     "output_type": "stream",
     "text": [
      "Iter 380.0, Minibatch Loss= 1.321563, Training Accuracy= 0.36719\n",
      "c Tensor(\"Accuracy/Cast:0\", shape=(128,), dtype=int32)\n",
      "y Tensor(\"Accuracy/Cast_1:0\", shape=(128,), dtype=int32)\n"
     ]
    },
    {
     "name": "stderr",
     "output_type": "stream",
     "text": [
      " 50%|████▉     | 389/782 [00:36<00:36, 10.72it/s]"
     ]
    },
    {
     "name": "stdout",
     "output_type": "stream",
     "text": [
      "Iter 390.0, Minibatch Loss= 1.272860, Training Accuracy= 0.35156\n",
      "c Tensor(\"Accuracy/Cast:0\", shape=(128,), dtype=int32)\n",
      "y Tensor(\"Accuracy/Cast_1:0\", shape=(128,), dtype=int32)\n"
     ]
    },
    {
     "name": "stderr",
     "output_type": "stream",
     "text": [
      " 51%|█████     | 396/782 [00:37<00:36, 10.70it/s]"
     ]
    },
    {
     "name": "stdout",
     "output_type": "stream",
     "text": [
      "Iter 400.0, Minibatch Loss= 1.416404, Training Accuracy= 0.22656\n",
      "c Tensor(\"Accuracy/Cast:0\", shape=(128,), dtype=int32)\n",
      "y Tensor(\"Accuracy/Cast_1:0\", shape=(128,), dtype=int32)\n"
     ]
    },
    {
     "name": "stderr",
     "output_type": "stream",
     "text": [
      " 52%|█████▏    | 406/782 [00:37<00:34, 10.75it/s]"
     ]
    },
    {
     "name": "stdout",
     "output_type": "stream",
     "text": [
      "Iter 410.0, Minibatch Loss= 1.324896, Training Accuracy= 0.25000\n",
      "c Tensor(\"Accuracy/Cast:0\", shape=(128,), dtype=int32)\n",
      "y Tensor(\"Accuracy/Cast_1:0\", shape=(128,), dtype=int32)\n"
     ]
    },
    {
     "name": "stderr",
     "output_type": "stream",
     "text": [
      " 53%|█████▎    | 416/782 [00:38<00:33, 10.79it/s]"
     ]
    },
    {
     "name": "stdout",
     "output_type": "stream",
     "text": [
      "Iter 420.0, Minibatch Loss= 1.282333, Training Accuracy= 0.33594\n",
      "c Tensor(\"Accuracy/Cast:0\", shape=(128,), dtype=int32)\n",
      "y Tensor(\"Accuracy/Cast_1:0\", shape=(128,), dtype=int32)\n"
     ]
    },
    {
     "name": "stderr",
     "output_type": "stream",
     "text": [
      " 55%|█████▍    | 430/782 [00:39<00:32, 10.90it/s]"
     ]
    },
    {
     "name": "stdout",
     "output_type": "stream",
     "text": [
      "Iter 430.0, Minibatch Loss= 1.274603, Training Accuracy= 0.37500\n",
      "c Tensor(\"Accuracy/Cast:0\", shape=(128,), dtype=int32)\n",
      "y Tensor(\"Accuracy/Cast_1:0\", shape=(128,), dtype=int32)\n"
     ]
    },
    {
     "name": "stderr",
     "output_type": "stream",
     "text": [
      " 56%|█████▌    | 439/782 [00:40<00:31, 10.93it/s]"
     ]
    },
    {
     "name": "stdout",
     "output_type": "stream",
     "text": [
      "Iter 440.0, Minibatch Loss= 1.378520, Training Accuracy= 0.30469\n",
      "c Tensor(\"Accuracy/Cast:0\", shape=(128,), dtype=int32)\n",
      "y Tensor(\"Accuracy/Cast_1:0\", shape=(128,), dtype=int32)\n"
     ]
    },
    {
     "name": "stderr",
     "output_type": "stream",
     "text": [
      " 57%|█████▋    | 447/782 [00:41<00:30, 10.90it/s]"
     ]
    },
    {
     "name": "stdout",
     "output_type": "stream",
     "text": [
      "Iter 450.0, Minibatch Loss= 1.350565, Training Accuracy= 0.29688\n",
      "c Tensor(\"Accuracy/Cast:0\", shape=(128,), dtype=int32)\n",
      "y Tensor(\"Accuracy/Cast_1:0\", shape=(128,), dtype=int32)\n"
     ]
    },
    {
     "name": "stderr",
     "output_type": "stream",
     "text": [
      " 59%|█████▉    | 460/782 [00:41<00:29, 10.98it/s]"
     ]
    },
    {
     "name": "stdout",
     "output_type": "stream",
     "text": [
      "Iter 460.0, Minibatch Loss= 1.275560, Training Accuracy= 0.32812\n",
      "c Tensor(\"Accuracy/Cast:0\", shape=(128,), dtype=int32)\n",
      "y Tensor(\"Accuracy/Cast_1:0\", shape=(128,), dtype=int32)\n"
     ]
    },
    {
     "name": "stderr",
     "output_type": "stream",
     "text": [
      " 60%|█████▉    | 468/782 [00:42<00:28, 10.97it/s]"
     ]
    },
    {
     "name": "stdout",
     "output_type": "stream",
     "text": [
      "Iter 470.0, Minibatch Loss= 1.302271, Training Accuracy= 0.35156\n",
      "c Tensor(\"Accuracy/Cast:0\", shape=(128,), dtype=int32)\n",
      "y Tensor(\"Accuracy/Cast_1:0\", shape=(128,), dtype=int32)\n"
     ]
    },
    {
     "name": "stderr",
     "output_type": "stream",
     "text": [
      " 61%|██████    | 476/782 [00:43<00:27, 10.97it/s]"
     ]
    },
    {
     "name": "stdout",
     "output_type": "stream",
     "text": [
      "Iter 480.0, Minibatch Loss= 1.349419, Training Accuracy= 0.28125\n",
      "c Tensor(\"Accuracy/Cast:0\", shape=(128,), dtype=int32)\n",
      "y Tensor(\"Accuracy/Cast_1:0\", shape=(128,), dtype=int32)\n"
     ]
    },
    {
     "name": "stderr",
     "output_type": "stream",
     "text": [
      " 62%|██████▏   | 486/782 [00:44<00:26, 11.01it/s]"
     ]
    },
    {
     "name": "stdout",
     "output_type": "stream",
     "text": [
      "Iter 490.0, Minibatch Loss= 1.326871, Training Accuracy= 0.29688\n",
      "c Tensor(\"Accuracy/Cast:0\", shape=(128,), dtype=int32)\n",
      "y Tensor(\"Accuracy/Cast_1:0\", shape=(128,), dtype=int32)\n"
     ]
    },
    {
     "name": "stderr",
     "output_type": "stream",
     "text": [
      " 64%|██████▍   | 499/782 [00:44<00:25, 11.09it/s]"
     ]
    },
    {
     "name": "stdout",
     "output_type": "stream",
     "text": [
      "Iter 500.0, Minibatch Loss= 1.369215, Training Accuracy= 0.28906\n",
      "c Tensor(\"Accuracy/Cast:0\", shape=(128,), dtype=int32)\n",
      "y Tensor(\"Accuracy/Cast_1:0\", shape=(128,), dtype=int32)\n"
     ]
    },
    {
     "name": "stderr",
     "output_type": "stream",
     "text": [
      " 65%|██████▍   | 507/782 [00:45<00:24, 11.07it/s]"
     ]
    },
    {
     "name": "stdout",
     "output_type": "stream",
     "text": [
      "Iter 510.0, Minibatch Loss= 1.367058, Training Accuracy= 0.33594\n",
      "c Tensor(\"Accuracy/Cast:0\", shape=(128,), dtype=int32)\n",
      "y Tensor(\"Accuracy/Cast_1:0\", shape=(128,), dtype=int32)\n"
     ]
    },
    {
     "name": "stderr",
     "output_type": "stream",
     "text": [
      " 66%|██████▌   | 516/782 [00:46<00:23, 11.09it/s]"
     ]
    },
    {
     "name": "stdout",
     "output_type": "stream",
     "text": [
      "Iter 520.0, Minibatch Loss= 1.244105, Training Accuracy= 0.35938\n",
      "c Tensor(\"Accuracy/Cast:0\", shape=(128,), dtype=int32)\n",
      "y Tensor(\"Accuracy/Cast_1:0\", shape=(128,), dtype=int32)\n"
     ]
    },
    {
     "name": "stderr",
     "output_type": "stream",
     "text": [
      " 67%|██████▋   | 526/782 [00:47<00:22, 11.13it/s]"
     ]
    },
    {
     "name": "stdout",
     "output_type": "stream",
     "text": [
      "Iter 530.0, Minibatch Loss= 1.237344, Training Accuracy= 0.38281\n",
      "c Tensor(\"Accuracy/Cast:0\", shape=(128,), dtype=int32)\n",
      "y Tensor(\"Accuracy/Cast_1:0\", shape=(128,), dtype=int32)\n"
     ]
    },
    {
     "name": "stderr",
     "output_type": "stream",
     "text": [
      " 69%|██████▉   | 539/782 [00:48<00:21, 11.18it/s]"
     ]
    },
    {
     "name": "stdout",
     "output_type": "stream",
     "text": [
      "Iter 540.0, Minibatch Loss= 1.286118, Training Accuracy= 0.32812\n",
      "c Tensor(\"Accuracy/Cast:0\", shape=(128,), dtype=int32)\n",
      "y Tensor(\"Accuracy/Cast_1:0\", shape=(128,), dtype=int32)\n"
     ]
    },
    {
     "name": "stderr",
     "output_type": "stream",
     "text": [
      " 70%|██████▉   | 547/782 [00:48<00:21, 11.19it/s]"
     ]
    },
    {
     "name": "stdout",
     "output_type": "stream",
     "text": [
      "Iter 550.0, Minibatch Loss= 1.315741, Training Accuracy= 0.32031\n",
      "c Tensor(\"Accuracy/Cast:0\", shape=(128,), dtype=int32)\n",
      "y Tensor(\"Accuracy/Cast_1:0\", shape=(128,), dtype=int32)\n"
     ]
    },
    {
     "name": "stderr",
     "output_type": "stream",
     "text": [
      " 71%|███████   | 556/782 [00:49<00:20, 11.21it/s]"
     ]
    },
    {
     "name": "stdout",
     "output_type": "stream",
     "text": [
      "Iter 560.0, Minibatch Loss= 1.430840, Training Accuracy= 0.25781\n",
      "c Tensor(\"Accuracy/Cast:0\", shape=(128,), dtype=int32)\n",
      "y Tensor(\"Accuracy/Cast_1:0\", shape=(128,), dtype=int32)\n"
     ]
    },
    {
     "name": "stderr",
     "output_type": "stream",
     "text": [
      " 72%|███████▏  | 566/782 [00:50<00:19, 11.26it/s]"
     ]
    },
    {
     "name": "stdout",
     "output_type": "stream",
     "text": [
      "Iter 570.0, Minibatch Loss= 1.309786, Training Accuracy= 0.30469\n",
      "c Tensor(\"Accuracy/Cast:0\", shape=(128,), dtype=int32)\n",
      "y Tensor(\"Accuracy/Cast_1:0\", shape=(128,), dtype=int32)\n"
     ]
    },
    {
     "name": "stderr",
     "output_type": "stream",
     "text": [
      " 74%|███████▎  | 576/782 [00:51<00:18, 11.29it/s]"
     ]
    },
    {
     "name": "stdout",
     "output_type": "stream",
     "text": [
      "Iter 580.0, Minibatch Loss= 1.303807, Training Accuracy= 0.29688\n",
      "c Tensor(\"Accuracy/Cast:0\", shape=(128,), dtype=int32)\n",
      "y Tensor(\"Accuracy/Cast_1:0\", shape=(128,), dtype=int32)\n"
     ]
    },
    {
     "name": "stderr",
     "output_type": "stream",
     "text": [
      " 75%|███████▍  | 586/782 [00:51<00:17, 11.31it/s]"
     ]
    },
    {
     "name": "stdout",
     "output_type": "stream",
     "text": [
      "Iter 590.0, Minibatch Loss= 1.239487, Training Accuracy= 0.39062\n",
      "c Tensor(\"Accuracy/Cast:0\", shape=(128,), dtype=int32)\n",
      "y Tensor(\"Accuracy/Cast_1:0\", shape=(128,), dtype=int32)\n"
     ]
    },
    {
     "name": "stderr",
     "output_type": "stream",
     "text": [
      " 76%|███████▌  | 596/782 [00:52<00:16, 11.32it/s]"
     ]
    },
    {
     "name": "stdout",
     "output_type": "stream",
     "text": [
      "Iter 600.0, Minibatch Loss= 1.318200, Training Accuracy= 0.36719\n",
      "c Tensor(\"Accuracy/Cast:0\", shape=(128,), dtype=int32)\n",
      "y Tensor(\"Accuracy/Cast_1:0\", shape=(128,), dtype=int32)\n"
     ]
    },
    {
     "name": "stderr",
     "output_type": "stream",
     "text": [
      " 77%|███████▋  | 606/782 [00:53<00:15, 11.35it/s]"
     ]
    },
    {
     "name": "stdout",
     "output_type": "stream",
     "text": [
      "Iter 610.0, Minibatch Loss= 1.257174, Training Accuracy= 0.35156\n",
      "c Tensor(\"Accuracy/Cast:0\", shape=(128,), dtype=int32)\n",
      "y Tensor(\"Accuracy/Cast_1:0\", shape=(128,), dtype=int32)\n"
     ]
    },
    {
     "name": "stderr",
     "output_type": "stream",
     "text": [
      " 79%|███████▉  | 616/782 [00:54<00:14, 11.38it/s]"
     ]
    },
    {
     "name": "stdout",
     "output_type": "stream",
     "text": [
      "Iter 620.0, Minibatch Loss= 1.346040, Training Accuracy= 0.32031\n",
      "c Tensor(\"Accuracy/Cast:0\", shape=(128,), dtype=int32)\n",
      "y Tensor(\"Accuracy/Cast_1:0\", shape=(128,), dtype=int32)\n"
     ]
    },
    {
     "name": "stderr",
     "output_type": "stream",
     "text": [
      " 81%|████████  | 630/782 [00:55<00:13, 11.42it/s]"
     ]
    },
    {
     "name": "stdout",
     "output_type": "stream",
     "text": [
      "Iter 630.0, Minibatch Loss= 1.219843, Training Accuracy= 0.35938\n",
      "c Tensor(\"Accuracy/Cast:0\", shape=(128,), dtype=int32)\n",
      "y Tensor(\"Accuracy/Cast_1:0\", shape=(128,), dtype=int32)\n"
     ]
    },
    {
     "name": "stderr",
     "output_type": "stream",
     "text": [
      " 82%|████████▏ | 640/782 [00:56<00:12, 11.40it/s]"
     ]
    },
    {
     "name": "stdout",
     "output_type": "stream",
     "text": [
      "Iter 640.0, Minibatch Loss= 1.314506, Training Accuracy= 0.31250\n",
      "c Tensor(\"Accuracy/Cast:0\", shape=(128,), dtype=int32)\n",
      "y Tensor(\"Accuracy/Cast_1:0\", shape=(128,), dtype=int32)\n"
     ]
    },
    {
     "name": "stderr",
     "output_type": "stream",
     "text": [
      " 83%|████████▎ | 650/782 [00:57<00:11, 11.39it/s]"
     ]
    },
    {
     "name": "stdout",
     "output_type": "stream",
     "text": [
      "Iter 650.0, Minibatch Loss= 1.245793, Training Accuracy= 0.35938\n",
      "c Tensor(\"Accuracy/Cast:0\", shape=(128,), dtype=int32)\n",
      "y Tensor(\"Accuracy/Cast_1:0\", shape=(128,), dtype=int32)\n"
     ]
    },
    {
     "name": "stderr",
     "output_type": "stream",
     "text": [
      " 84%|████████▍ | 657/782 [00:57<00:11, 11.33it/s]"
     ]
    },
    {
     "name": "stdout",
     "output_type": "stream",
     "text": [
      "Iter 660.0, Minibatch Loss= 1.332906, Training Accuracy= 0.29688\n",
      "c Tensor(\"Accuracy/Cast:0\", shape=(128,), dtype=int32)\n",
      "y Tensor(\"Accuracy/Cast_1:0\", shape=(128,), dtype=int32)\n"
     ]
    },
    {
     "name": "stderr",
     "output_type": "stream",
     "text": [
      " 86%|████████▌ | 670/782 [00:59<00:09, 11.35it/s]"
     ]
    },
    {
     "name": "stdout",
     "output_type": "stream",
     "text": [
      "Iter 670.0, Minibatch Loss= 1.320322, Training Accuracy= 0.32812\n",
      "c Tensor(\"Accuracy/Cast:0\", shape=(128,), dtype=int32)\n",
      "y Tensor(\"Accuracy/Cast_1:0\", shape=(128,), dtype=int32)\n"
     ]
    },
    {
     "name": "stderr",
     "output_type": "stream",
     "text": [
      " 87%|████████▋ | 677/782 [00:59<00:09, 11.33it/s]"
     ]
    },
    {
     "name": "stdout",
     "output_type": "stream",
     "text": [
      "Iter 680.0, Minibatch Loss= 1.344002, Training Accuracy= 0.25000\n",
      "c Tensor(\"Accuracy/Cast:0\", shape=(128,), dtype=int32)\n",
      "y Tensor(\"Accuracy/Cast_1:0\", shape=(128,), dtype=int32)\n"
     ]
    },
    {
     "name": "stderr",
     "output_type": "stream",
     "text": [
      " 88%|████████▊ | 689/782 [01:01<00:08, 11.28it/s]"
     ]
    },
    {
     "name": "stdout",
     "output_type": "stream",
     "text": [
      "Iter 690.0, Minibatch Loss= 1.340363, Training Accuracy= 0.31250\n",
      "c Tensor(\"Accuracy/Cast:0\", shape=(128,), dtype=int32)\n",
      "y Tensor(\"Accuracy/Cast_1:0\", shape=(128,), dtype=int32)\n"
     ]
    },
    {
     "name": "stderr",
     "output_type": "stream",
     "text": [
      " 89%|████████▉ | 698/782 [01:02<00:07, 11.18it/s]"
     ]
    },
    {
     "name": "stdout",
     "output_type": "stream",
     "text": [
      "Iter 700.0, Minibatch Loss= 1.287017, Training Accuracy= 0.35938\n",
      "c Tensor(\"Accuracy/Cast:0\", shape=(128,), dtype=int32)\n",
      "y Tensor(\"Accuracy/Cast_1:0\", shape=(128,), dtype=int32)\n"
     ]
    },
    {
     "name": "stderr",
     "output_type": "stream",
     "text": [
      " 91%|█████████ | 709/782 [01:03<00:06, 11.20it/s]"
     ]
    },
    {
     "name": "stdout",
     "output_type": "stream",
     "text": [
      "Iter 710.0, Minibatch Loss= 1.298590, Training Accuracy= 0.26562\n",
      "c Tensor(\"Accuracy/Cast:0\", shape=(128,), dtype=int32)\n",
      "y Tensor(\"Accuracy/Cast_1:0\", shape=(128,), dtype=int32)\n"
     ]
    },
    {
     "name": "stderr",
     "output_type": "stream",
     "text": [
      " 92%|█████████▏| 717/782 [01:04<00:05, 11.17it/s]"
     ]
    },
    {
     "name": "stdout",
     "output_type": "stream",
     "text": [
      "Iter 720.0, Minibatch Loss= 1.245359, Training Accuracy= 0.38281\n",
      "c Tensor(\"Accuracy/Cast:0\", shape=(128,), dtype=int32)\n",
      "y Tensor(\"Accuracy/Cast_1:0\", shape=(128,), dtype=int32)\n"
     ]
    },
    {
     "name": "stderr",
     "output_type": "stream",
     "text": [
      " 93%|█████████▎| 726/782 [01:05<00:05, 11.16it/s]"
     ]
    },
    {
     "name": "stdout",
     "output_type": "stream",
     "text": [
      "Iter 730.0, Minibatch Loss= 1.243121, Training Accuracy= 0.39062\n",
      "c Tensor(\"Accuracy/Cast:0\", shape=(128,), dtype=int32)\n",
      "y Tensor(\"Accuracy/Cast_1:0\", shape=(128,), dtype=int32)\n"
     ]
    },
    {
     "name": "stderr",
     "output_type": "stream",
     "text": [
      " 95%|█████████▍| 739/782 [01:06<00:03, 11.19it/s]"
     ]
    },
    {
     "name": "stdout",
     "output_type": "stream",
     "text": [
      "Iter 740.0, Minibatch Loss= 1.230383, Training Accuracy= 0.35938\n",
      "c Tensor(\"Accuracy/Cast:0\", shape=(128,), dtype=int32)\n",
      "y Tensor(\"Accuracy/Cast_1:0\", shape=(128,), dtype=int32)\n"
     ]
    },
    {
     "name": "stderr",
     "output_type": "stream",
     "text": [
      " 96%|█████████▌| 748/782 [01:06<00:03, 11.17it/s]"
     ]
    },
    {
     "name": "stdout",
     "output_type": "stream",
     "text": [
      "Iter 750.0, Minibatch Loss= 1.305895, Training Accuracy= 0.32031\n",
      "c Tensor(\"Accuracy/Cast:0\", shape=(128,), dtype=int32)\n",
      "y Tensor(\"Accuracy/Cast_1:0\", shape=(128,), dtype=int32)\n"
     ]
    },
    {
     "name": "stderr",
     "output_type": "stream",
     "text": [
      " 97%|█████████▋| 760/782 [01:07<00:01, 11.22it/s]"
     ]
    },
    {
     "name": "stdout",
     "output_type": "stream",
     "text": [
      "Iter 760.0, Minibatch Loss= 1.244093, Training Accuracy= 0.36719\n",
      "c Tensor(\"Accuracy/Cast:0\", shape=(128,), dtype=int32)\n",
      "y Tensor(\"Accuracy/Cast_1:0\", shape=(128,), dtype=int32)\n"
     ]
    },
    {
     "name": "stderr",
     "output_type": "stream",
     "text": [
      " 98%|█████████▊| 768/782 [01:08<00:01, 11.22it/s]"
     ]
    },
    {
     "name": "stdout",
     "output_type": "stream",
     "text": [
      "Iter 770.0, Minibatch Loss= 1.212554, Training Accuracy= 0.40625\n",
      "c Tensor(\"Accuracy/Cast:0\", shape=(128,), dtype=int32)\n",
      "y Tensor(\"Accuracy/Cast_1:0\", shape=(128,), dtype=int32)\n"
     ]
    },
    {
     "name": "stderr",
     "output_type": "stream",
     "text": [
      " 99%|█████████▉| 776/782 [01:09<00:00, 11.22it/s]"
     ]
    },
    {
     "name": "stdout",
     "output_type": "stream",
     "text": [
      "Iter 780.0, Minibatch Loss= 1.280082, Training Accuracy= 0.39062\n",
      "c Tensor(\"Accuracy/Cast:0\", shape=(128,), dtype=int32)\n",
      "y Tensor(\"Accuracy/Cast_1:0\", shape=(128,), dtype=int32)\n"
     ]
    },
    {
     "name": "stderr",
     "output_type": "stream",
     "text": [
      "100%|██████████| 782/782 [01:09<00:00, 11.20it/s]\n"
     ]
    }
   ],
   "source": [
    "# Initialize variables\n",
    "init = tf.global_variables_initializer()\n",
    "\n",
    "# Use TQDM if installed\n",
    "tqdm_installed = False\n",
    "try:\n",
    "    from tqdm import tqdm\n",
    "    tqdm_installed = True\n",
    "except:\n",
    "    pass\n",
    "\n",
    "# Launch the Tensorflow session\n",
    "sess = tf.Session()\n",
    "sess.run(init)\n",
    "training_writer = tf.summary.FileWriter('./logs/training', sess.graph)\n",
    "#sess.run(y)\n",
    "#sess.run(classification_scores)\n",
    "\n",
    "# training_iterations_count: The number of data pieces to train on in total\n",
    "# batch_size: The number of data pieces per batch\n",
    "training_iterations = range(0,training_iterations_count,batch_size)\n",
    "if tqdm_installed:\n",
    "    # Add a progress bar if TQDM is installed\n",
    "    training_iterations = tqdm(training_iterations)\n",
    "\n",
    "for i in training_iterations:\n",
    "\n",
    "    # Select indices for a random data subset\n",
    "    batch = np.random.randint(data_feature_list[0].shape[0], size=batch_size)\n",
    "    \n",
    "    # Use the selected subset indices to initialize the graph's \n",
    "    #   placeholder values\n",
    "    hyps, evis, ys = (data_feature_list[0][batch,:],\n",
    "                      data_feature_list[1][batch,:],\n",
    "                      correct_scores[batch])\n",
    "    \n",
    "    # Run the optimization with these initialized values\n",
    "    sess.run([opt_op], feed_dict={hyp: hyps, evi: evis, y: ys})\n",
    "    # display_step: how often the accuracy and loss should \n",
    "    #   be tested and displayed.\n",
    "    if (i/batch_size) % display_step == 0:\n",
    "        # Calculate batch accuracy\n",
    "        acc,training_summary = sess.run([accuracy,summary] ,feed_dict={hyp: hyps, evi: evis, y: ys})\n",
    "        # Calculate batch loss\n",
    "        tmp_loss = sess.run(loss, feed_dict={hyp: hyps, evi: evis, y: ys})\n",
    "        training_writer.add_summary(training_summary, i/batch_size)\n",
    "        # Display results\n",
    "        print(\"Iter \" + str(i/batch_size) + \", Minibatch Loss= \" + \\\n",
    "              \"{:.6f}\".format(tmp_loss) + \", Training Accuracy= \" + \\\n",
    "              \"{:.5f}\".format(acc))\n",
    "        print('c',predicts)\n",
    "        print('y',y_label)\n",
    "        save_path = saver.save(sess, \"logs/trained_model.ckpt\")"
   ]
  },
  {
   "cell_type": "code",
   "execution_count": 15,
   "metadata": {},
   "outputs": [
    {
     "name": "stdout",
     "output_type": "stream",
     "text": [
      "Neutral entailment\n",
      "--- 106.50873398780823 seconds ---\n"
     ]
    }
   ],
   "source": [
    "evidences = [\"I will work.\"]\n",
    "\n",
    "hypotheses = [\"I will study.\"]\n",
    "\n",
    "sentence1 = [fit_to_size(np.vstack(sentence2sequence(evidence)[0]),\n",
    "                         (30, 50)) for evidence in evidences]\n",
    "\n",
    "sentence2 = [fit_to_size(np.vstack(sentence2sequence(hypothesis)[0]),\n",
    "                         (30,50)) for hypothesis in hypotheses]\n",
    "\n",
    "prediction = sess.run(classification_scores, feed_dict={hyp: (sentence1 * N),\n",
    "                                                        evi: (sentence2 * N),\n",
    "                                                        y: [[0,0,0]]*N})\n",
    "print([\"Positive\", \"Neutral\", \"Negative\"][np.argmax(prediction[0])]+\n",
    "      \" entailment\")\n",
    "end_time = time.time()\n",
    "print(\"--- %s seconds ---\" % (time.time() - start_time))\n"
   ]
  }
 ],
 "metadata": {
  "anaconda-cloud": {},
  "kernelspec": {
   "display_name": "Python 3",
   "language": "python",
   "name": "python3"
  },
  "language_info": {
   "codemirror_mode": {
    "name": "ipython",
    "version": 3
   },
   "file_extension": ".py",
   "mimetype": "text/x-python",
   "name": "python",
   "nbconvert_exporter": "python",
   "pygments_lexer": "ipython3",
   "version": "3.6.4"
  }
 },
 "nbformat": 4,
 "nbformat_minor": 1
}
