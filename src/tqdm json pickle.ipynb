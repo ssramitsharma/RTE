{
 "cells": [
  {
   "cell_type": "code",
   "execution_count": 12,
   "metadata": {},
   "outputs": [
    {
     "name": "stderr",
     "output_type": "stream",
     "text": [
      "2411KB [00:01, 1234.23KB/s]                                     "
     ]
    },
    {
     "name": "stdout",
     "output_type": "stream",
     "text": [
      "Download complete\n"
     ]
    },
    {
     "name": "stderr",
     "output_type": "stream",
     "text": [
      "\n"
     ]
    }
   ],
   "source": [
    "# Reference : https://www.youtube.com/watch?v=Xhw2l-hzoKk\n",
    "# Reference : https://www.youtube.com/watch?v=9N6a-VLBa2I&t=187s\n",
    "# Reference : https://www.youtube.com/watch?v=2Tw39kZIbhs\n",
    "import requests\n",
    "chunk_size = 1024\n",
    "url = \"http://www.nervenet.org/pdf/Elissa_J_Chesler_Dissertation.pdf\"\n",
    "r = requests.get(url,stream = True)\n",
    "total_size = int(r.headers['content-length'])\n",
    "with open(\"Elissa_J_Chesler_Dissertation.pdf\",'wb') as f:\n",
    "    for data in tqdm(iterable = r.iter_content(chunk_size=chunk_size),total = total_size/chunk_size,unit = 'KB'):\n",
    "        f.write(data)\n",
    "print(\"Download complete\")"
   ]
  },
  {
   "cell_type": "code",
   "execution_count": 13,
   "metadata": {},
   "outputs": [],
   "source": [
    "import json"
   ]
  },
  {
   "cell_type": "code",
   "execution_count": 14,
   "metadata": {},
   "outputs": [
    {
     "name": "stdout",
     "output_type": "stream",
     "text": [
      "{'people': [{'name': 'John-smith', 'phone': '9807359207', 'email': 'ssramitsharma@gmail.com', 'has_liscence': False}, {'name': 'John', 'phone': '980735678', 'email': 'ramitsharma@gmail.com', 'has_liscence': True}]}\n"
     ]
    }
   ],
   "source": [
    "people_string = ''' {\n",
    "\"people\" : \n",
    "\n",
    "[{ \"name\" : \"John-smith\",\n",
    "    \"phone\" : \"9807359207\",\n",
    "    \"email\" : \"ssramitsharma@gmail.com\",\n",
    "    \"has_liscence\" : false\n",
    "    },\n",
    "{ \"name\" : \"John\",\n",
    "    \"phone\" : \"980735678\",\n",
    "    \"email\" : \"ramitsharma@gmail.com\",\n",
    "    \"has_liscence\" : true\n",
    "    }\n",
    "    ]\n",
    "}   \n",
    "'''\n",
    "data = json.loads(people_string)\n",
    "print(data)"
   ]
  },
  {
   "cell_type": "code",
   "execution_count": 15,
   "metadata": {},
   "outputs": [
    {
     "name": "stdout",
     "output_type": "stream",
     "text": [
      "<class 'dict'>\n"
     ]
    }
   ],
   "source": [
    "print(type(data))"
   ]
  },
  {
   "cell_type": "code",
   "execution_count": 16,
   "metadata": {},
   "outputs": [
    {
     "name": "stdout",
     "output_type": "stream",
     "text": [
      "John-smith\n",
      "9807359207\n",
      "John\n",
      "980735678\n"
     ]
    }
   ],
   "source": [
    "for person in data['people']:\n",
    "    print(person['name'])\n",
    "    print(person['phone'])"
   ]
  },
  {
   "cell_type": "code",
   "execution_count": 17,
   "metadata": {},
   "outputs": [
    {
     "name": "stdout",
     "output_type": "stream",
     "text": [
      "{\"people\": [{\"name\": \"John-smith\", \"phone\": \"9807359207\", \"email\": \"ssramitsharma@gmail.com\", \"has_liscence\": false}, {\"name\": \"John\", \"phone\": \"980735678\", \"email\": \"ramitsharma@gmail.com\", \"has_liscence\": true}]}\n"
     ]
    }
   ],
   "source": [
    "new_string = json.dumps(data)\n",
    "print(new_string)"
   ]
  },
  {
   "cell_type": "code",
   "execution_count": 18,
   "metadata": {},
   "outputs": [
    {
     "name": "stdout",
     "output_type": "stream",
     "text": [
      "{\n",
      "  \"people\": [\n",
      "    {\n",
      "      \"email\": \"ssramitsharma@gmail.com\",\n",
      "      \"has_liscence\": false,\n",
      "      \"name\": \"John-smith\",\n",
      "      \"phone\": \"9807359207\"\n",
      "    },\n",
      "    {\n",
      "      \"email\": \"ramitsharma@gmail.com\",\n",
      "      \"has_liscence\": true,\n",
      "      \"name\": \"John\",\n",
      "      \"phone\": \"980735678\"\n",
      "    }\n",
      "  ]\n",
      "}\n"
     ]
    }
   ],
   "source": [
    "new_string = json.dumps(data,indent=2,sort_keys=True)\n",
    "print(new_string)"
   ]
  },
  {
   "cell_type": "code",
   "execution_count": 19,
   "metadata": {},
   "outputs": [],
   "source": [
    "PADDING = \"<PAD>\""
   ]
  },
  {
   "cell_type": "code",
   "execution_count": 20,
   "metadata": {},
   "outputs": [],
   "source": [
    "POS_Tagging = [PADDING, 'WP$', 'RBS', 'SYM', 'WRB', 'IN', 'VB', 'POS', 'TO', ':', '-RRB-', '$', 'MD', 'JJ', '#', 'CD', '``', 'JJR', 'NNP', \"''\", 'LS', 'VBP', 'VBD', 'FW', 'RBR', 'JJS', 'DT', 'VBG', 'RP', 'NNS', 'RB', 'PDT', 'PRP$', '.', 'XX', 'NNPS', 'UH', 'EX', 'NN', 'WDT', 'VBN', 'VBZ', 'CC', ',', '-LRB-', 'PRP', 'WP']\n",
    "POS_dict = {pos:i for i, pos in enumerate(POS_Tagging)}"
   ]
  },
  {
   "cell_type": "code",
   "execution_count": 21,
   "metadata": {},
   "outputs": [
    {
     "name": "stdout",
     "output_type": "stream",
     "text": [
      "{'<PAD>': 0, 'WP$': 1, 'RBS': 2, 'SYM': 3, 'WRB': 4, 'IN': 5, 'VB': 6, 'POS': 7, 'TO': 8, ':': 9, '-RRB-': 10, '$': 11, 'MD': 12, 'JJ': 13, '#': 14, 'CD': 15, '``': 16, 'JJR': 17, 'NNP': 18, \"''\": 19, 'LS': 20, 'VBP': 21, 'VBD': 22, 'FW': 23, 'RBR': 24, 'JJS': 25, 'DT': 26, 'VBG': 27, 'RP': 28, 'NNS': 29, 'RB': 30, 'PDT': 31, 'PRP$': 32, '.': 33, 'XX': 34, 'NNPS': 35, 'UH': 36, 'EX': 37, 'NN': 38, 'WDT': 39, 'VBN': 40, 'VBZ': 41, 'CC': 42, ',': 43, '-LRB-': 44, 'PRP': 45, 'WP': 46}\n"
     ]
    }
   ],
   "source": [
    "print(POS_dict)"
   ]
  },
  {
   "cell_type": "code",
   "execution_count": 22,
   "metadata": {},
   "outputs": [],
   "source": [
    "import pickle as pkl"
   ]
  },
  {
   "cell_type": "code",
   "execution_count": 23,
   "metadata": {},
   "outputs": [],
   "source": [
    "data = {\n",
    "    \"name\" : \"Jaggu\",\n",
    "    \"date_of_birth\" : \"15 June 1991\",\n",
    "      \"place\" : \"Biratnagar\"\n",
    "    \n",
    "}"
   ]
  },
  {
   "cell_type": "code",
   "execution_count": 24,
   "metadata": {},
   "outputs": [],
   "source": [
    "with open('test.pkl','wb') as f:\n",
    "    pkl.dump(data,f)\n",
    "del data\n",
    "#print(data)"
   ]
  },
  {
   "cell_type": "code",
   "execution_count": 25,
   "metadata": {},
   "outputs": [],
   "source": [
    "with open('test.pkl','rb') as f:\n",
    "    data = pkl.load(f)"
   ]
  },
  {
   "cell_type": "code",
   "execution_count": 26,
   "metadata": {},
   "outputs": [
    {
     "name": "stdout",
     "output_type": "stream",
     "text": [
      "{'name': 'Jaggu', 'date_of_birth': '15 June 1991', 'place': 'Biratnagar'}\n"
     ]
    }
   ],
   "source": [
    "print(data)"
   ]
  },
  {
   "cell_type": "code",
   "execution_count": 35,
   "metadata": {},
   "outputs": [
    {
     "name": "stdout",
     "output_type": "stream",
     "text": [
      "<__main__.Fruit object at 0x7fc7c8191128>\n"
     ]
    }
   ],
   "source": [
    "class Fruit:\n",
    "    def __init__(self,name):\n",
    "        if name == \"banana\":\n",
    "            self.color = \"yellow\"\n",
    "        else:\n",
    "            self.color = \"unknown\"\n",
    "myfruit = Fruit(\"banana\")\n",
    "pkl.dump(myfruit,file = open(\"test.pkl\",\"wb\"))\n",
    "l = pkl.load(file = open(\"test.pkl\",\"rb\"))\n",
    "print(l)"
   ]
  },
  {
   "cell_type": "code",
   "execution_count": null,
   "metadata": {},
   "outputs": [],
   "source": []
  }
 ],
 "metadata": {
  "kernelspec": {
   "display_name": "Python 3",
   "language": "python",
   "name": "python3"
  },
  "language_info": {
   "codemirror_mode": {
    "name": "ipython",
    "version": 3
   },
   "file_extension": ".py",
   "mimetype": "text/x-python",
   "name": "python",
   "nbconvert_exporter": "python",
   "pygments_lexer": "ipython3",
   "version": "3.6.4"
  }
 },
 "nbformat": 4,
 "nbformat_minor": 2
}
