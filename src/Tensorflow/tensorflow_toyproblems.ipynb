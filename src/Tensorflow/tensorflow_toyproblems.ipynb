{
 "cells": [
  {
   "cell_type": "code",
   "execution_count": 8,
   "metadata": {},
   "outputs": [],
   "source": [
    "import tensorflow as tf\n",
    "import numpy as np"
   ]
  },
  {
   "cell_type": "code",
   "execution_count": 43,
   "metadata": {},
   "outputs": [
    {
     "name": "stdout",
     "output_type": "stream",
     "text": [
      "0 [-0.3476246] [0.77338225] None\n",
      "20 [-0.02164893] [0.3668578] None\n",
      "40 [0.07277678] [0.3149618] None\n",
      "60 [0.09390786] [0.30334824] None\n",
      "80 [0.09863667] [0.3007493] None\n",
      "100 [0.09969491] [0.30016768] None\n",
      "120 [0.09993174] [0.30003753] None\n",
      "140 [0.09998472] [0.30000842] None\n",
      "160 [0.09999658] [0.3000019] None\n",
      "180 [0.09999925] [0.30000043] None\n"
     ]
    }
   ],
   "source": [
    "x = np.random.rand(100).astype(np.float32)\n",
    "y_data = 0.1*x + 0.3\n",
    "weights = tf.Variable(tf.random_uniform([1],-1,1))\n",
    "biases = tf.Variable(tf.zeros(1))\n",
    "y = weights*x + biases\n",
    "loss = tf.reduce_mean(tf.squared_difference(y,y_data))\n",
    "optimizer = tf.train.GradientDescentOptimizer(0.5)\n",
    "train = optimizer.minimize(loss)\n",
    "init = tf.global_variables_initializer()\n",
    "sess = tf.Session()\n",
    "sess.run(init)\n",
    "for step in range(200):\n",
    "    sess.run(train)\n",
    "    if step % 20 == 0:\n",
    "        print(step,sess.run(weights),sess.run(biases),sess.run(train))"
   ]
  },
  {
   "cell_type": "code",
   "execution_count": null,
   "metadata": {},
   "outputs": [],
   "source": []
  },
  {
   "cell_type": "code",
   "execution_count": null,
   "metadata": {},
   "outputs": [],
   "source": []
  }
 ],
 "metadata": {
  "kernelspec": {
   "display_name": "Python 3",
   "language": "python",
   "name": "python3"
  },
  "language_info": {
   "codemirror_mode": {
    "name": "ipython",
    "version": 3
   },
   "file_extension": ".py",
   "mimetype": "text/x-python",
   "name": "python",
   "nbconvert_exporter": "python",
   "pygments_lexer": "ipython3",
   "version": "3.6.4"
  }
 },
 "nbformat": 4,
 "nbformat_minor": 2
}
