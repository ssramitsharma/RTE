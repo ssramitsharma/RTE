{
 "cells": [
  {
   "cell_type": "markdown",
   "metadata": {},
   "source": [
    "We’ll start by doing all necessary imports, and we’ll let our Jupyter Notebook know that it should display graphs and images in the notebook itself."
   ]
  },
  {
   "cell_type": "code",
   "execution_count": 16,
   "metadata": {},
   "outputs": [
    {
     "name": "stdout",
     "output_type": "stream",
     "text": [
      "--- 6.461143493652344e-05 seconds ---\n"
     ]
    }
   ],
   "source": [
    "%matplotlib inline\n",
    "#Reference : https://www.oreilly.com/learning/textual-entailment-with-tensorflow\n",
    "import time\n",
    "start_time = time.time()\n",
    "print(\"--- %s seconds ---\" % (time.time() - start_time))\n",
    "import tensorflow as tf\n",
    "import numpy as np\n",
    "import matplotlib.pyplot as plt\n",
    "import matplotlib.ticker as ticker\n",
    "import urllib\n",
    "import sys\n",
    "import os\n",
    "import zipfile\n",
    "learning_rate = 0.0001\n",
    "import gensim\n",
    "import os\n",
    "from gensim.models.word2vec import Word2Vec\n",
    "from gensim.models.word2vec import LineSentence\n",
    "from gensim.models.word2vec import Text8Corpus\n",
    "import matplotlib.pyplot as plt\n",
    "from sklearn.manifold import TSNE\n",
    "import numpy as np\n",
    "import logging"
   ]
  },
  {
   "cell_type": "code",
   "execution_count": 2,
   "metadata": {},
   "outputs": [],
   "source": [
    "glove_zip_file = \"glove.6B.zip\"\n",
    "glove_vectors_file = \"glove.6B.50d.txt\"\n",
    "\n",
    "snli_zip_file = \"snli_1.0.zip\"\n",
    "snli_dev_file = \"snli_1.0_dev.txt\"\n",
    "snli_full_dataset_file = \"snli_1.0_train.txt\""
   ]
  },
  {
   "cell_type": "code",
   "execution_count": 3,
   "metadata": {},
   "outputs": [],
   "source": [
    "from six.moves.urllib.request import urlretrieve\n",
    "    \n",
    "#large file - 862 MB\n",
    "if (not os.path.isfile(glove_zip_file) and\n",
    "    not os.path.isfile(glove_vectors_file)):\n",
    "    urlretrieve (\"http://nlp.stanford.edu/data/glove.6B.zip\", \n",
    "                 glove_zip_file)\n",
    "\n",
    "#medium-sized file - 94.6 MB\n",
    "if (not os.path.isfile(snli_zip_file) and\n",
    "    not os.path.isfile(snli_dev_file)):\n",
    "    urlretrieve (\"https://nlp.stanford.edu/projects/snli/snli_1.0.zip\", \n",
    "                 snli_zip_file)"
   ]
  },
  {
   "cell_type": "code",
   "execution_count": 4,
   "metadata": {},
   "outputs": [],
   "source": [
    "def unzip_single_file(zip_file_name, output_file_name):\n",
    "    \"\"\"\n",
    "        If the outFile is already created, don't recreate\n",
    "        If the outFile does not exist, create it from the zipFile\n",
    "    \"\"\"\n",
    "    if not os.path.isfile(output_file_name):\n",
    "        with open(output_file_name, 'wb') as out_file:\n",
    "            with zipfile.ZipFile(zip_file_name) as zipped:\n",
    "                for info in zipped.infolist():\n",
    "                    if output_file_name in info.filename:\n",
    "                        with zipped.open(info) as requested_file:\n",
    "                            out_file.write(requested_file.read())\n",
    "                            return\n",
    "\n",
    "unzip_single_file(glove_zip_file, glove_vectors_file)\n",
    "#unzip_single_file(snli_zip_file, snli_dev_file)\n",
    "unzip_single_file(snli_zip_file, snli_full_dataset_file)"
   ]
  },
  {
   "cell_type": "markdown",
   "metadata": {},
   "source": [
    "---\n",
    "\n",
    "Now that we have our GloVe vectors downloaded, we can load them into memory, deserializing the space separated format into a Python dictionary:"
   ]
  },
  {
   "cell_type": "code",
   "execution_count": 5,
   "metadata": {},
   "outputs": [],
   "source": [
    "glove_wordmap = {}\n",
    "with open(glove_vectors_file, \"r\") as glove:\n",
    "    for line in glove:\n",
    "        name, vector = tuple(line.split(\" \", 1))\n",
    "        glove_wordmap[name] = np.fromstring(vector, sep=\" \")"
   ]
  },
  {
   "cell_type": "markdown",
   "metadata": {},
   "source": [
    "---\n",
    "\n",
    "Once we have our words, we need our input to contain entire sentences and process it through a neural network. Let's start with making the sequence:"
   ]
  },
  {
   "cell_type": "code",
   "execution_count": 6,
   "metadata": {},
   "outputs": [],
   "source": [
    "def sentence2sequence(sentence):\n",
    "    \"\"\"\n",
    "     \n",
    "    - Turns an input sentence into an (n,d) matrix, \n",
    "        where n is the number of tokens in the sentence\n",
    "        and d is the number of dimensions each word vector has.\n",
    "    \n",
    "      Tensorflow doesn't need to be used here, as simply\n",
    "      turning the sentence into a sequence based off our \n",
    "      mapping does not need the computational power that\n",
    "      Tensorflow provides. Normal Python suffices for this task.\n",
    "    \"\"\"\n",
    "    tokens = sentence.lower().split(\" \")\n",
    "    rows = []\n",
    "    words = []\n",
    "    #Greedy search for tokens\n",
    "    for token in tokens:\n",
    "        i = len(token)\n",
    "        while len(token) > 0 and i > 0:\n",
    "            word = token[:i]\n",
    "            if word in glove_wordmap:\n",
    "                rows.append(glove_wordmap[word])\n",
    "                words.append(word)\n",
    "                token = token[i:]\n",
    "                i = len(token)\n",
    "            else:\n",
    "                i = i-1\n",
    "    return rows, words"
   ]
  },
  {
   "cell_type": "code",
   "execution_count": 7,
   "metadata": {},
   "outputs": [],
   "source": [
    "#Constants setup\n",
    "max_hypothesis_length, max_evidence_length = 30, 30\n",
    "batch_size, vector_size, hidden_size = 12, 50, 64\n",
    "\n",
    "lstm_size = hidden_size\n",
    "\n",
    "weight_decay = 0.0001\n",
    "\n",
    "\n",
    "\n",
    "input_p, output_p = 0.5, 0.5\n",
    "\n",
    "training_iterations_count = 100000\n",
    "\n",
    "display_step = 20\n",
    "\n",
    "def score_setup(row):\n",
    "    convert_dict = {\n",
    "      'entailment': 0,\n",
    "      'neutral': 1,\n",
    "      'contradiction': 2\n",
    "    }\n",
    "    score = np.zeros((3,))\n",
    "    for x in range(1,6):\n",
    "        tag = row[\"label\"+str(x)]\n",
    "        if tag in convert_dict: score[convert_dict[tag]] += 1\n",
    "    return score / (1.0*np.sum(score))\n",
    "\n",
    "def fit_to_size(matrix, shape):\n",
    "    res = np.zeros(shape)\n",
    "    slices = [slice(0,min(dim,shape[e])) for e, dim in enumerate(matrix.shape)]\n",
    "    res[slices] = matrix[slices]\n",
    "    return res\n"
   ]
  },
  {
   "cell_type": "code",
   "execution_count": 8,
   "metadata": {},
   "outputs": [],
   "source": [
    "def split_data_into_scores():\n",
    "    import csv\n",
    "    with open(\"snli_1.0_train.txt\",\"r\") as data:\n",
    "        train = csv.DictReader(data, delimiter='\\t')\n",
    "        evi_sentences = []\n",
    "        hyp_sentences = []\n",
    "        labels = []\n",
    "        scores = []\n",
    "        for i,row in enumerate(train):\n",
    "            #print(i)\n",
    "            if i < 200:\n",
    "                #print(i)\n",
    "                hyp_sentences.append(np.vstack(\n",
    "                        sentence2sequence(row[\"sentence1\"].lower())[0]))\n",
    "                evi_sentences.append(np.vstack(\n",
    "                        sentence2sequence(row[\"sentence2\"].lower())[0]))\n",
    "                labels.append(row[\"gold_label\"])\n",
    "                scores.append(score_setup(row))\n",
    "\n",
    "        hyp_sentences = np.stack([fit_to_size(x, (max_hypothesis_length, vector_size))\n",
    "                          for x in hyp_sentences])\n",
    "        evi_sentences = np.stack([fit_to_size(x, (max_evidence_length, vector_size))\n",
    "                          for x in evi_sentences])\n",
    "                                 \n",
    "        return (hyp_sentences, evi_sentences), labels, np.array(scores)\n",
    "    \n",
    "data_feature_list, correct_values, correct_scores = split_data_into_scores()\n",
    "\n",
    "l_h, l_e = max_hypothesis_length, max_evidence_length\n",
    "N, D, H = batch_size, vector_size, hidden_size\n",
    "l_seq = l_h + l_e\n"
   ]
  },
  {
   "cell_type": "code",
   "execution_count": 9,
   "metadata": {},
   "outputs": [],
   "source": [
    "tf.reset_default_graph()"
   ]
  },
  {
   "cell_type": "code",
   "execution_count": 10,
   "metadata": {},
   "outputs": [
    {
     "name": "stderr",
     "output_type": "stream",
     "text": [
      "/home/ramit/anaconda2/envs/tensorflow/lib/python3.6/site-packages/h5py/__init__.py:36: FutureWarning: Conversion of the second argument of issubdtype from `float` to `np.floating` is deprecated. In future, it will be treated as `np.float64 == np.dtype(float).type`.\n",
      "  from ._conv import register_converters as _register_converters\n"
     ]
    }
   ],
   "source": [
    "lstm = tf.contrib.rnn.GRUCell(lstm_size)"
   ]
  },
  {
   "cell_type": "code",
   "execution_count": 11,
   "metadata": {},
   "outputs": [],
   "source": [
    "lstm_drop =  tf.contrib.rnn.DropoutWrapper(lstm, input_p, output_p)"
   ]
  },
  {
   "cell_type": "code",
   "execution_count": 12,
   "metadata": {},
   "outputs": [
    {
     "name": "stdout",
     "output_type": "stream",
     "text": [
      "y Tensor(\"label:0\", shape=(12, 3), dtype=float32)\n",
      "c Tensor(\"add:0\", shape=(12, 3), dtype=float32)\n"
     ]
    }
   ],
   "source": [
    "# N: The number of elements in each of our batches, \n",
    "#   which we use to train subsets of data for efficiency's sake.\n",
    "# l_h: The maximum length of a hypothesis, or the second sentence.  This is\n",
    "#   used because training an RNN is extraordinarily difficult without \n",
    "#   rolling it out to a fixed length.\n",
    "# l_e: The maximum length of evidence, the first sentence.  This is used\n",
    "#   because training an RNN is extraordinarily difficult without \n",
    "#   rolling it out to a fixed length.\n",
    "# D: The size of our used GloVe or other vectors.\n",
    "hyp = tf.placeholder(tf.float32, [N, l_h, D], 'hypothesis')\n",
    "evi = tf.placeholder(tf.float32, [N, l_e, D], 'evidence')\n",
    "y = tf.placeholder(tf.float32, [N, 3], 'label')\n",
    "print('y',y)\n",
    "# hyp: Where the hypotheses will be stored during training.\n",
    "# evi: Where the evidences will be stored during training.\n",
    "# y: Where correct scores will be stored during training.\n",
    "\n",
    "# lstm_size: the size of the gates in the LSTM, \n",
    "#    as in the first LSTM layer's initialization.\n",
    "lstm_back = tf.contrib.rnn.GRUCell(lstm_size)\n",
    "# lstm_back:  The LSTM used for looking backwards \n",
    "#   through the sentences, similar to lstm.\n",
    "\n",
    "# input_p: the probability that inputs to the LSTM will be retained at each\n",
    "#   iteration of dropout.\n",
    "# output_p: the probability that outputs from the LSTM will be retained at \n",
    "#   each iteration of dropout.\n",
    "lstm_drop_back = tf.contrib.rnn.DropoutWrapper(lstm_back, input_p, output_p)\n",
    "# lstm_drop_back:  A dropout wrapper for lstm_back, like lstm_drop.\n",
    "\n",
    "\n",
    "fc_initializer = tf.random_normal_initializer(stddev=0.1) \n",
    "# fc_initializer: initial values for the fully connected layer's weights.\n",
    "# hidden_size: the size of the outputs from each lstm layer.  \n",
    "#   Multiplied by 2 to account for the two LSTMs.\n",
    "fc_weight = tf.get_variable('fc_weight', [2*hidden_size, 3], \n",
    "                            initializer = fc_initializer)\n",
    "# fc_weight: Storage for the fully connected layer's weights.\n",
    "fc_bias = tf.get_variable('bias', [3])\n",
    "# fc_bias: Storage for the fully connected layer's bias.\n",
    "\n",
    "# tf.GraphKeys.REGULARIZATION_LOSSES:  A key to a collection in the graph\n",
    "#   designated for losses due to regularization.\n",
    "#   In this case, this portion of loss is regularization on the weights\n",
    "#   for the fully connected layer.\n",
    "tf.add_to_collection(tf.GraphKeys.REGULARIZATION_LOSSES, \n",
    "                     tf.nn.l2_loss(fc_weight)) \n",
    "\n",
    "x = tf.concat([hyp, evi], 1) # N, (Lh+Le), d\n",
    "# Permuting batch_size and n_steps\n",
    "x = tf.transpose(x, [1, 0, 2]) # (Le+Lh), N, d\n",
    "# Reshaping to (n_steps*batch_size, n_input)\n",
    "x = tf.reshape(x, [-1, vector_size]) # (Le+Lh)*N, d\n",
    "# Split to get a list of 'n_steps' tensors of shape (batch_size, n_input)\n",
    "x = tf.split(x, l_seq,)\n",
    "\n",
    "# x: the inputs to the bidirectional_rnn\n",
    "\n",
    "\n",
    "# tf.contrib.rnn.static_bidirectional_rnn: Runs the input through\n",
    "#   two recurrent networks, one that runs the inputs forward and one\n",
    "#   that runs the inputs in reversed order, combining the outputs.\n",
    "rnn_outputs, _, _ = tf.contrib.rnn.static_bidirectional_rnn(lstm_drop, lstm_drop_back,\n",
    "                                                            x, dtype=tf.float32)\n",
    "# rnn_outputs: the list of LSTM outputs, as a list. \n",
    "#   What we want is the latest output, rnn_outputs[-1]\n",
    "\n",
    "classification_scores = tf.matmul(rnn_outputs[-1], fc_weight) + fc_bias\n",
    "print('c',classification_scores)\n",
    "# The scores are relative certainties for how likely the output matches\n",
    "#   a certain entailment: \n",
    "#     0: Positive entailment\n",
    "#     1: Neutral entailment\n",
    "#     2: Negative entailment"
   ]
  },
  {
   "cell_type": "code",
   "execution_count": 13,
   "metadata": {
    "scrolled": true
   },
   "outputs": [],
   "source": [
    "with tf.variable_scope('Accuracy'):\n",
    "    predicts = tf.cast(tf.argmax(classification_scores, 1), 'int32')\n",
    "    y_label = tf.cast(tf.argmax(y, 1), 'int32')\n",
    "    corrects = tf.equal(predicts, y_label)\n",
    "    num_corrects = tf.reduce_sum(tf.cast(corrects, tf.float32))\n",
    "    accuracy = tf.reduce_mean(tf.cast(corrects, tf.float32))\n",
    "\n",
    "with tf.variable_scope(\"loss\"):\n",
    "    cross_entropy = tf.nn.softmax_cross_entropy_with_logits(\n",
    "        logits = classification_scores, labels = y)\n",
    "    loss = tf.reduce_mean(cross_entropy)\n",
    "    total_loss = loss + weight_decay * tf.add_n(\n",
    "        tf.get_collection(tf.GraphKeys.REGULARIZATION_LOSSES))\n",
    "with tf.variable_scope('logging'):\n",
    "    tf.summary.scalar('Accuracy', accuracy)\n",
    "    summary = tf.summary.merge_all()\n",
    "\n",
    "saver = tf.train.Saver()\n",
    "\n",
    "optimizer = tf.train.AdamOptimizer(learning_rate)\n",
    "\n",
    "opt_op = optimizer.minimize(total_loss)"
   ]
  },
  {
   "cell_type": "code",
   "execution_count": 14,
   "metadata": {},
   "outputs": [
    {
     "name": "stderr",
     "output_type": "stream",
     "text": [
      "\r",
      "  0%|          | 0/8334 [00:00<?, ?it/s]"
     ]
    },
    {
     "name": "stdout",
     "output_type": "stream",
     "text": [
      "Iter 0.0, Minibatch Loss= 0.990983, Training Accuracy= 0.41667\n",
      "c Tensor(\"Accuracy/Cast:0\", shape=(12,), dtype=int32)\n",
      "y Tensor(\"Accuracy/Cast_1:0\", shape=(12,), dtype=int32)\n"
     ]
    },
    {
     "name": "stderr",
     "output_type": "stream",
     "text": [
      "  0%|          | 17/8334 [00:04<35:44,  3.88it/s] "
     ]
    },
    {
     "name": "stdout",
     "output_type": "stream",
     "text": [
      "Iter 20.0, Minibatch Loss= 1.092598, Training Accuracy= 0.50000\n",
      "c Tensor(\"Accuracy/Cast:0\", shape=(12,), dtype=int32)\n",
      "y Tensor(\"Accuracy/Cast_1:0\", shape=(12,), dtype=int32)\n"
     ]
    },
    {
     "name": "stderr",
     "output_type": "stream",
     "text": [
      "  0%|          | 37/8334 [00:05<22:00,  6.28it/s]"
     ]
    },
    {
     "name": "stdout",
     "output_type": "stream",
     "text": [
      "Iter 40.0, Minibatch Loss= 1.148540, Training Accuracy= 0.16667\n",
      "c Tensor(\"Accuracy/Cast:0\", shape=(12,), dtype=int32)\n",
      "y Tensor(\"Accuracy/Cast_1:0\", shape=(12,), dtype=int32)\n"
     ]
    },
    {
     "name": "stderr",
     "output_type": "stream",
     "text": [
      "  1%|          | 57/8334 [00:07<17:06,  8.06it/s]"
     ]
    },
    {
     "name": "stdout",
     "output_type": "stream",
     "text": [
      "Iter 60.0, Minibatch Loss= 1.173876, Training Accuracy= 0.33333\n",
      "c Tensor(\"Accuracy/Cast:0\", shape=(12,), dtype=int32)\n",
      "y Tensor(\"Accuracy/Cast_1:0\", shape=(12,), dtype=int32)\n"
     ]
    },
    {
     "name": "stderr",
     "output_type": "stream",
     "text": [
      "  1%|          | 80/8334 [00:08<14:16,  9.64it/s]"
     ]
    },
    {
     "name": "stdout",
     "output_type": "stream",
     "text": [
      "Iter 80.0, Minibatch Loss= 1.201304, Training Accuracy= 0.16667\n",
      "c Tensor(\"Accuracy/Cast:0\", shape=(12,), dtype=int32)\n",
      "y Tensor(\"Accuracy/Cast_1:0\", shape=(12,), dtype=int32)\n"
     ]
    },
    {
     "name": "stderr",
     "output_type": "stream",
     "text": [
      "  1%|          | 96/8334 [00:09<13:24, 10.24it/s]"
     ]
    },
    {
     "name": "stdout",
     "output_type": "stream",
     "text": [
      "Iter 100.0, Minibatch Loss= 1.185508, Training Accuracy= 0.25000\n",
      "c Tensor(\"Accuracy/Cast:0\", shape=(12,), dtype=int32)\n",
      "y Tensor(\"Accuracy/Cast_1:0\", shape=(12,), dtype=int32)\n"
     ]
    },
    {
     "name": "stderr",
     "output_type": "stream",
     "text": [
      "  1%|▏         | 119/8334 [00:10<12:14, 11.19it/s]"
     ]
    },
    {
     "name": "stdout",
     "output_type": "stream",
     "text": [
      "Iter 120.0, Minibatch Loss= 1.149571, Training Accuracy= 0.33333\n",
      "c Tensor(\"Accuracy/Cast:0\", shape=(12,), dtype=int32)\n",
      "y Tensor(\"Accuracy/Cast_1:0\", shape=(12,), dtype=int32)\n"
     ]
    },
    {
     "name": "stderr",
     "output_type": "stream",
     "text": [
      "  2%|▏         | 140/8334 [00:11<11:33, 11.82it/s]"
     ]
    },
    {
     "name": "stdout",
     "output_type": "stream",
     "text": [
      "Iter 140.0, Minibatch Loss= 1.154252, Training Accuracy= 0.25000\n",
      "c Tensor(\"Accuracy/Cast:0\", shape=(12,), dtype=int32)\n",
      "y Tensor(\"Accuracy/Cast_1:0\", shape=(12,), dtype=int32)\n"
     ]
    },
    {
     "name": "stderr",
     "output_type": "stream",
     "text": [
      "  2%|▏         | 160/8334 [00:13<11:04, 12.29it/s]"
     ]
    },
    {
     "name": "stdout",
     "output_type": "stream",
     "text": [
      "Iter 160.0, Minibatch Loss= 1.267091, Training Accuracy= 0.08333\n",
      "c Tensor(\"Accuracy/Cast:0\", shape=(12,), dtype=int32)\n",
      "y Tensor(\"Accuracy/Cast_1:0\", shape=(12,), dtype=int32)\n"
     ]
    },
    {
     "name": "stderr",
     "output_type": "stream",
     "text": [
      "  2%|▏         | 177/8334 [00:14<10:50, 12.55it/s]"
     ]
    },
    {
     "name": "stdout",
     "output_type": "stream",
     "text": [
      "Iter 180.0, Minibatch Loss= 1.083694, Training Accuracy= 0.33333\n",
      "c Tensor(\"Accuracy/Cast:0\", shape=(12,), dtype=int32)\n",
      "y Tensor(\"Accuracy/Cast_1:0\", shape=(12,), dtype=int32)\n"
     ]
    },
    {
     "name": "stderr",
     "output_type": "stream",
     "text": [
      "  2%|▏         | 200/8334 [00:15<10:24, 13.03it/s]"
     ]
    },
    {
     "name": "stdout",
     "output_type": "stream",
     "text": [
      "Iter 200.0, Minibatch Loss= 1.157632, Training Accuracy= 0.33333\n",
      "c Tensor(\"Accuracy/Cast:0\", shape=(12,), dtype=int32)\n",
      "y Tensor(\"Accuracy/Cast_1:0\", shape=(12,), dtype=int32)\n"
     ]
    },
    {
     "name": "stderr",
     "output_type": "stream",
     "text": [
      "  3%|▎         | 217/8334 [00:16<10:15, 13.19it/s]"
     ]
    },
    {
     "name": "stdout",
     "output_type": "stream",
     "text": [
      "Iter 220.0, Minibatch Loss= 1.126673, Training Accuracy= 0.08333\n",
      "c Tensor(\"Accuracy/Cast:0\", shape=(12,), dtype=int32)\n",
      "y Tensor(\"Accuracy/Cast_1:0\", shape=(12,), dtype=int32)\n"
     ]
    },
    {
     "name": "stderr",
     "output_type": "stream",
     "text": [
      "  3%|▎         | 238/8334 [00:17<10:00, 13.47it/s]"
     ]
    },
    {
     "name": "stdout",
     "output_type": "stream",
     "text": [
      "Iter 240.0, Minibatch Loss= 1.089019, Training Accuracy= 0.50000\n",
      "c Tensor(\"Accuracy/Cast:0\", shape=(12,), dtype=int32)\n",
      "y Tensor(\"Accuracy/Cast_1:0\", shape=(12,), dtype=int32)\n"
     ]
    },
    {
     "name": "stderr",
     "output_type": "stream",
     "text": [
      "  3%|▎         | 259/8334 [00:18<09:48, 13.72it/s]"
     ]
    },
    {
     "name": "stdout",
     "output_type": "stream",
     "text": [
      "Iter 260.0, Minibatch Loss= 1.103704, Training Accuracy= 0.08333\n",
      "c Tensor(\"Accuracy/Cast:0\", shape=(12,), dtype=int32)\n",
      "y Tensor(\"Accuracy/Cast_1:0\", shape=(12,), dtype=int32)\n"
     ]
    },
    {
     "name": "stderr",
     "output_type": "stream",
     "text": [
      "  3%|▎         | 277/8334 [00:19<09:41, 13.86it/s]"
     ]
    },
    {
     "name": "stdout",
     "output_type": "stream",
     "text": [
      "Iter 280.0, Minibatch Loss= 1.096070, Training Accuracy= 0.16667\n",
      "c Tensor(\"Accuracy/Cast:0\", shape=(12,), dtype=int32)\n",
      "y Tensor(\"Accuracy/Cast_1:0\", shape=(12,), dtype=int32)\n"
     ]
    },
    {
     "name": "stderr",
     "output_type": "stream",
     "text": [
      "  4%|▎         | 297/8334 [00:21<09:32, 14.03it/s]"
     ]
    },
    {
     "name": "stdout",
     "output_type": "stream",
     "text": [
      "Iter 300.0, Minibatch Loss= 1.106752, Training Accuracy= 0.16667\n",
      "c Tensor(\"Accuracy/Cast:0\", shape=(12,), dtype=int32)\n",
      "y Tensor(\"Accuracy/Cast_1:0\", shape=(12,), dtype=int32)\n"
     ]
    },
    {
     "name": "stderr",
     "output_type": "stream",
     "text": [
      "  4%|▍         | 319/8334 [00:22<09:22, 14.25it/s]"
     ]
    },
    {
     "name": "stdout",
     "output_type": "stream",
     "text": [
      "Iter 320.0, Minibatch Loss= 1.056076, Training Accuracy= 0.41667\n",
      "c Tensor(\"Accuracy/Cast:0\", shape=(12,), dtype=int32)\n",
      "y Tensor(\"Accuracy/Cast_1:0\", shape=(12,), dtype=int32)\n"
     ]
    },
    {
     "name": "stderr",
     "output_type": "stream",
     "text": [
      "  4%|▍         | 336/8334 [00:23<09:18, 14.31it/s]"
     ]
    },
    {
     "name": "stdout",
     "output_type": "stream",
     "text": [
      "Iter 340.0, Minibatch Loss= 1.125129, Training Accuracy= 0.25000\n",
      "c Tensor(\"Accuracy/Cast:0\", shape=(12,), dtype=int32)\n",
      "y Tensor(\"Accuracy/Cast_1:0\", shape=(12,), dtype=int32)\n"
     ]
    },
    {
     "name": "stderr",
     "output_type": "stream",
     "text": [
      "  4%|▍         | 357/8334 [00:24<09:11, 14.47it/s]"
     ]
    },
    {
     "name": "stdout",
     "output_type": "stream",
     "text": [
      "Iter 360.0, Minibatch Loss= 1.084642, Training Accuracy= 0.33333\n",
      "c Tensor(\"Accuracy/Cast:0\", shape=(12,), dtype=int32)\n",
      "y Tensor(\"Accuracy/Cast_1:0\", shape=(12,), dtype=int32)\n"
     ]
    },
    {
     "name": "stderr",
     "output_type": "stream",
     "text": [
      "  5%|▍         | 378/8334 [00:25<09:04, 14.62it/s]"
     ]
    },
    {
     "name": "stdout",
     "output_type": "stream",
     "text": [
      "Iter 380.0, Minibatch Loss= 1.111940, Training Accuracy= 0.50000\n",
      "c Tensor(\"Accuracy/Cast:0\", shape=(12,), dtype=int32)\n",
      "y Tensor(\"Accuracy/Cast_1:0\", shape=(12,), dtype=int32)\n"
     ]
    },
    {
     "name": "stderr",
     "output_type": "stream",
     "text": [
      "  5%|▍         | 400/8334 [00:27<09:00, 14.69it/s]"
     ]
    },
    {
     "name": "stdout",
     "output_type": "stream",
     "text": [
      "Iter 400.0, Minibatch Loss= 1.072953, Training Accuracy= 0.50000\n",
      "c Tensor(\"Accuracy/Cast:0\", shape=(12,), dtype=int32)\n",
      "y Tensor(\"Accuracy/Cast_1:0\", shape=(12,), dtype=int32)\n"
     ]
    },
    {
     "name": "stderr",
     "output_type": "stream",
     "text": [
      "  5%|▌         | 417/8334 [00:28<08:57, 14.72it/s]"
     ]
    },
    {
     "name": "stdout",
     "output_type": "stream",
     "text": [
      "Iter 420.0, Minibatch Loss= 1.053152, Training Accuracy= 0.41667\n",
      "c Tensor(\"Accuracy/Cast:0\", shape=(12,), dtype=int32)\n",
      "y Tensor(\"Accuracy/Cast_1:0\", shape=(12,), dtype=int32)\n"
     ]
    },
    {
     "name": "stderr",
     "output_type": "stream",
     "text": [
      "  5%|▌         | 438/8334 [00:29<08:52, 14.83it/s]"
     ]
    },
    {
     "name": "stdout",
     "output_type": "stream",
     "text": [
      "Iter 440.0, Minibatch Loss= 1.181837, Training Accuracy= 0.58333\n",
      "c Tensor(\"Accuracy/Cast:0\", shape=(12,), dtype=int32)\n",
      "y Tensor(\"Accuracy/Cast_1:0\", shape=(12,), dtype=int32)\n"
     ]
    },
    {
     "name": "stderr",
     "output_type": "stream",
     "text": [
      "  5%|▌         | 458/8334 [00:30<08:48, 14.89it/s]"
     ]
    },
    {
     "name": "stdout",
     "output_type": "stream",
     "text": [
      "Iter 460.0, Minibatch Loss= 1.088731, Training Accuracy= 0.41667\n",
      "c Tensor(\"Accuracy/Cast:0\", shape=(12,), dtype=int32)\n",
      "y Tensor(\"Accuracy/Cast_1:0\", shape=(12,), dtype=int32)\n"
     ]
    },
    {
     "name": "stderr",
     "output_type": "stream",
     "text": [
      "  6%|▌         | 478/8334 [00:31<08:44, 14.97it/s]"
     ]
    },
    {
     "name": "stdout",
     "output_type": "stream",
     "text": [
      "Iter 480.0, Minibatch Loss= 1.048238, Training Accuracy= 0.58333\n",
      "c Tensor(\"Accuracy/Cast:0\", shape=(12,), dtype=int32)\n",
      "y Tensor(\"Accuracy/Cast_1:0\", shape=(12,), dtype=int32)\n"
     ]
    },
    {
     "name": "stderr",
     "output_type": "stream",
     "text": [
      "  6%|▌         | 499/8334 [00:33<08:40, 15.06it/s]"
     ]
    },
    {
     "name": "stdout",
     "output_type": "stream",
     "text": [
      "Iter 500.0, Minibatch Loss= 1.213316, Training Accuracy= 0.25000\n",
      "c Tensor(\"Accuracy/Cast:0\", shape=(12,), dtype=int32)\n",
      "y Tensor(\"Accuracy/Cast_1:0\", shape=(12,), dtype=int32)\n"
     ]
    },
    {
     "name": "stderr",
     "output_type": "stream",
     "text": [
      "  6%|▌         | 516/8334 [00:34<08:38, 15.07it/s]"
     ]
    },
    {
     "name": "stdout",
     "output_type": "stream",
     "text": [
      "Iter 520.0, Minibatch Loss= 1.177001, Training Accuracy= 0.33333\n",
      "c Tensor(\"Accuracy/Cast:0\", shape=(12,), dtype=int32)\n",
      "y Tensor(\"Accuracy/Cast_1:0\", shape=(12,), dtype=int32)\n"
     ]
    },
    {
     "name": "stderr",
     "output_type": "stream",
     "text": [
      "  6%|▋         | 537/8334 [00:35<08:34, 15.15it/s]"
     ]
    },
    {
     "name": "stdout",
     "output_type": "stream",
     "text": [
      "Iter 540.0, Minibatch Loss= 1.112816, Training Accuracy= 0.16667\n",
      "c Tensor(\"Accuracy/Cast:0\", shape=(12,), dtype=int32)\n",
      "y Tensor(\"Accuracy/Cast_1:0\", shape=(12,), dtype=int32)\n"
     ]
    },
    {
     "name": "stderr",
     "output_type": "stream",
     "text": [
      "  7%|▋         | 558/8334 [00:36<08:30, 15.23it/s]"
     ]
    },
    {
     "name": "stdout",
     "output_type": "stream",
     "text": [
      "Iter 560.0, Minibatch Loss= 1.055194, Training Accuracy= 0.58333\n",
      "c Tensor(\"Accuracy/Cast:0\", shape=(12,), dtype=int32)\n",
      "y Tensor(\"Accuracy/Cast_1:0\", shape=(12,), dtype=int32)\n"
     ]
    },
    {
     "name": "stderr",
     "output_type": "stream",
     "text": [
      "  7%|▋         | 580/8334 [00:37<08:26, 15.32it/s]"
     ]
    },
    {
     "name": "stdout",
     "output_type": "stream",
     "text": [
      "Iter 580.0, Minibatch Loss= 1.088951, Training Accuracy= 0.33333\n",
      "c Tensor(\"Accuracy/Cast:0\", shape=(12,), dtype=int32)\n",
      "y Tensor(\"Accuracy/Cast_1:0\", shape=(12,), dtype=int32)\n"
     ]
    },
    {
     "name": "stderr",
     "output_type": "stream",
     "text": [
      "  7%|▋         | 596/8334 [00:38<08:25, 15.30it/s]"
     ]
    },
    {
     "name": "stdout",
     "output_type": "stream",
     "text": [
      "Iter 600.0, Minibatch Loss= 1.131008, Training Accuracy= 0.16667\n",
      "c Tensor(\"Accuracy/Cast:0\", shape=(12,), dtype=int32)\n",
      "y Tensor(\"Accuracy/Cast_1:0\", shape=(12,), dtype=int32)\n"
     ]
    },
    {
     "name": "stderr",
     "output_type": "stream",
     "text": [
      "  7%|▋         | 618/8334 [00:40<08:21, 15.38it/s]"
     ]
    },
    {
     "name": "stdout",
     "output_type": "stream",
     "text": [
      "Iter 620.0, Minibatch Loss= 1.017140, Training Accuracy= 0.41667\n",
      "c Tensor(\"Accuracy/Cast:0\", shape=(12,), dtype=int32)\n",
      "y Tensor(\"Accuracy/Cast_1:0\", shape=(12,), dtype=int32)\n"
     ]
    },
    {
     "name": "stderr",
     "output_type": "stream",
     "text": [
      "  8%|▊         | 639/8334 [00:41<08:18, 15.44it/s]"
     ]
    },
    {
     "name": "stdout",
     "output_type": "stream",
     "text": [
      "Iter 640.0, Minibatch Loss= 0.964577, Training Accuracy= 0.50000\n",
      "c Tensor(\"Accuracy/Cast:0\", shape=(12,), dtype=int32)\n",
      "y Tensor(\"Accuracy/Cast_1:0\", shape=(12,), dtype=int32)\n"
     ]
    },
    {
     "name": "stderr",
     "output_type": "stream",
     "text": [
      "  8%|▊         | 659/8334 [00:42<08:15, 15.48it/s]"
     ]
    },
    {
     "name": "stdout",
     "output_type": "stream",
     "text": [
      "Iter 660.0, Minibatch Loss= 1.051837, Training Accuracy= 0.41667\n",
      "c Tensor(\"Accuracy/Cast:0\", shape=(12,), dtype=int32)\n",
      "y Tensor(\"Accuracy/Cast_1:0\", shape=(12,), dtype=int32)\n"
     ]
    },
    {
     "name": "stderr",
     "output_type": "stream",
     "text": [
      "  8%|▊         | 677/8334 [00:43<08:13, 15.50it/s]"
     ]
    },
    {
     "name": "stdout",
     "output_type": "stream",
     "text": [
      "Iter 680.0, Minibatch Loss= 1.072223, Training Accuracy= 0.50000\n",
      "c Tensor(\"Accuracy/Cast:0\", shape=(12,), dtype=int32)\n",
      "y Tensor(\"Accuracy/Cast_1:0\", shape=(12,), dtype=int32)\n"
     ]
    },
    {
     "name": "stderr",
     "output_type": "stream",
     "text": [
      "  8%|▊         | 698/8334 [00:44<08:10, 15.55it/s]"
     ]
    },
    {
     "name": "stdout",
     "output_type": "stream",
     "text": [
      "Iter 700.0, Minibatch Loss= 1.032018, Training Accuracy= 0.41667\n",
      "c Tensor(\"Accuracy/Cast:0\", shape=(12,), dtype=int32)\n",
      "y Tensor(\"Accuracy/Cast_1:0\", shape=(12,), dtype=int32)\n"
     ]
    },
    {
     "name": "stderr",
     "output_type": "stream",
     "text": [
      "  9%|▊         | 720/8334 [00:46<08:07, 15.62it/s]"
     ]
    },
    {
     "name": "stdout",
     "output_type": "stream",
     "text": [
      "Iter 720.0, Minibatch Loss= 1.017344, Training Accuracy= 0.41667\n",
      "c Tensor(\"Accuracy/Cast:0\", shape=(12,), dtype=int32)\n",
      "y Tensor(\"Accuracy/Cast_1:0\", shape=(12,), dtype=int32)\n"
     ]
    },
    {
     "name": "stderr",
     "output_type": "stream",
     "text": [
      "  9%|▉         | 737/8334 [00:47<08:06, 15.61it/s]"
     ]
    },
    {
     "name": "stdout",
     "output_type": "stream",
     "text": [
      "Iter 740.0, Minibatch Loss= 1.027224, Training Accuracy= 0.50000\n",
      "c Tensor(\"Accuracy/Cast:0\", shape=(12,), dtype=int32)\n",
      "y Tensor(\"Accuracy/Cast_1:0\", shape=(12,), dtype=int32)\n"
     ]
    },
    {
     "name": "stderr",
     "output_type": "stream",
     "text": [
      "  9%|▉         | 757/8334 [00:48<08:04, 15.64it/s]"
     ]
    },
    {
     "name": "stdout",
     "output_type": "stream",
     "text": [
      "Iter 760.0, Minibatch Loss= 0.985050, Training Accuracy= 0.50000\n",
      "c Tensor(\"Accuracy/Cast:0\", shape=(12,), dtype=int32)\n",
      "y Tensor(\"Accuracy/Cast_1:0\", shape=(12,), dtype=int32)\n"
     ]
    },
    {
     "name": "stderr",
     "output_type": "stream",
     "text": [
      "  9%|▉         | 778/8334 [00:49<08:01, 15.68it/s]"
     ]
    },
    {
     "name": "stdout",
     "output_type": "stream",
     "text": [
      "Iter 780.0, Minibatch Loss= 1.086898, Training Accuracy= 0.33333\n",
      "c Tensor(\"Accuracy/Cast:0\", shape=(12,), dtype=int32)\n",
      "y Tensor(\"Accuracy/Cast_1:0\", shape=(12,), dtype=int32)\n"
     ]
    },
    {
     "name": "stderr",
     "output_type": "stream",
     "text": [
      " 10%|▉         | 798/8334 [00:50<08:01, 15.66it/s]"
     ]
    },
    {
     "name": "stdout",
     "output_type": "stream",
     "text": [
      "Iter 800.0, Minibatch Loss= 1.106011, Training Accuracy= 0.50000\n",
      "c Tensor(\"Accuracy/Cast:0\", shape=(12,), dtype=int32)\n",
      "y Tensor(\"Accuracy/Cast_1:0\", shape=(12,), dtype=int32)\n"
     ]
    },
    {
     "name": "stderr",
     "output_type": "stream",
     "text": [
      " 10%|▉         | 820/8334 [00:52<07:58, 15.72it/s]"
     ]
    },
    {
     "name": "stdout",
     "output_type": "stream",
     "text": [
      "Iter 820.0, Minibatch Loss= 0.956937, Training Accuracy= 0.58333\n",
      "c Tensor(\"Accuracy/Cast:0\", shape=(12,), dtype=int32)\n",
      "y Tensor(\"Accuracy/Cast_1:0\", shape=(12,), dtype=int32)\n"
     ]
    },
    {
     "name": "stderr",
     "output_type": "stream",
     "text": [
      " 10%|█         | 837/8334 [00:53<07:57, 15.71it/s]"
     ]
    },
    {
     "name": "stdout",
     "output_type": "stream",
     "text": [
      "Iter 840.0, Minibatch Loss= 1.035430, Training Accuracy= 0.50000\n",
      "c Tensor(\"Accuracy/Cast:0\", shape=(12,), dtype=int32)\n",
      "y Tensor(\"Accuracy/Cast_1:0\", shape=(12,), dtype=int32)\n"
     ]
    },
    {
     "name": "stderr",
     "output_type": "stream",
     "text": [
      " 10%|█         | 858/8334 [00:54<07:54, 15.75it/s]"
     ]
    },
    {
     "name": "stdout",
     "output_type": "stream",
     "text": [
      "Iter 860.0, Minibatch Loss= 1.007644, Training Accuracy= 0.25000\n",
      "c Tensor(\"Accuracy/Cast:0\", shape=(12,), dtype=int32)\n",
      "y Tensor(\"Accuracy/Cast_1:0\", shape=(12,), dtype=int32)\n"
     ]
    },
    {
     "name": "stderr",
     "output_type": "stream",
     "text": [
      " 11%|█         | 878/8334 [00:55<07:52, 15.78it/s]"
     ]
    },
    {
     "name": "stdout",
     "output_type": "stream",
     "text": [
      "Iter 880.0, Minibatch Loss= 1.110642, Training Accuracy= 0.25000\n",
      "c Tensor(\"Accuracy/Cast:0\", shape=(12,), dtype=int32)\n",
      "y Tensor(\"Accuracy/Cast_1:0\", shape=(12,), dtype=int32)\n"
     ]
    },
    {
     "name": "stderr",
     "output_type": "stream",
     "text": [
      " 11%|█         | 898/8334 [00:56<07:50, 15.80it/s]"
     ]
    },
    {
     "name": "stdout",
     "output_type": "stream",
     "text": [
      "Iter 900.0, Minibatch Loss= 1.122298, Training Accuracy= 0.41667\n",
      "c Tensor(\"Accuracy/Cast:0\", shape=(12,), dtype=int32)\n",
      "y Tensor(\"Accuracy/Cast_1:0\", shape=(12,), dtype=int32)\n"
     ]
    },
    {
     "name": "stderr",
     "output_type": "stream",
     "text": [
      " 11%|█         | 919/8334 [00:58<07:48, 15.83it/s]"
     ]
    },
    {
     "name": "stdout",
     "output_type": "stream",
     "text": [
      "Iter 920.0, Minibatch Loss= 1.014737, Training Accuracy= 0.50000\n",
      "c Tensor(\"Accuracy/Cast:0\", shape=(12,), dtype=int32)\n",
      "y Tensor(\"Accuracy/Cast_1:0\", shape=(12,), dtype=int32)\n"
     ]
    },
    {
     "name": "stderr",
     "output_type": "stream",
     "text": [
      " 11%|█▏        | 939/8334 [00:59<07:46, 15.85it/s]"
     ]
    },
    {
     "name": "stdout",
     "output_type": "stream",
     "text": [
      "Iter 940.0, Minibatch Loss= 1.002641, Training Accuracy= 0.25000\n",
      "c Tensor(\"Accuracy/Cast:0\", shape=(12,), dtype=int32)\n",
      "y Tensor(\"Accuracy/Cast_1:0\", shape=(12,), dtype=int32)\n"
     ]
    },
    {
     "name": "stderr",
     "output_type": "stream",
     "text": [
      " 12%|█▏        | 960/8334 [01:00<07:44, 15.87it/s]"
     ]
    },
    {
     "name": "stdout",
     "output_type": "stream",
     "text": [
      "Iter 960.0, Minibatch Loss= 1.078249, Training Accuracy= 0.25000\n",
      "c Tensor(\"Accuracy/Cast:0\", shape=(12,), dtype=int32)\n",
      "y Tensor(\"Accuracy/Cast_1:0\", shape=(12,), dtype=int32)\n"
     ]
    },
    {
     "name": "stderr",
     "output_type": "stream",
     "text": [
      " 12%|█▏        | 977/8334 [01:01<07:43, 15.87it/s]"
     ]
    },
    {
     "name": "stdout",
     "output_type": "stream",
     "text": [
      "Iter 980.0, Minibatch Loss= 1.019695, Training Accuracy= 0.25000\n",
      "c Tensor(\"Accuracy/Cast:0\", shape=(12,), dtype=int32)\n",
      "y Tensor(\"Accuracy/Cast_1:0\", shape=(12,), dtype=int32)\n"
     ]
    },
    {
     "name": "stderr",
     "output_type": "stream",
     "text": [
      " 12%|█▏        | 998/8334 [01:02<07:41, 15.90it/s]"
     ]
    },
    {
     "name": "stdout",
     "output_type": "stream",
     "text": [
      "Iter 1000.0, Minibatch Loss= 1.098073, Training Accuracy= 0.33333\n",
      "c Tensor(\"Accuracy/Cast:0\", shape=(12,), dtype=int32)\n",
      "y Tensor(\"Accuracy/Cast_1:0\", shape=(12,), dtype=int32)\n"
     ]
    },
    {
     "name": "stderr",
     "output_type": "stream",
     "text": [
      " 12%|█▏        | 1020/8334 [01:03<07:38, 15.94it/s]"
     ]
    },
    {
     "name": "stdout",
     "output_type": "stream",
     "text": [
      "Iter 1020.0, Minibatch Loss= 1.064995, Training Accuracy= 0.58333\n",
      "c Tensor(\"Accuracy/Cast:0\", shape=(12,), dtype=int32)\n",
      "y Tensor(\"Accuracy/Cast_1:0\", shape=(12,), dtype=int32)\n"
     ]
    },
    {
     "name": "stderr",
     "output_type": "stream",
     "text": [
      " 12%|█▏        | 1037/8334 [01:05<07:37, 15.93it/s]"
     ]
    },
    {
     "name": "stdout",
     "output_type": "stream",
     "text": [
      "Iter 1040.0, Minibatch Loss= 0.990283, Training Accuracy= 0.50000\n",
      "c Tensor(\"Accuracy/Cast:0\", shape=(12,), dtype=int32)\n",
      "y Tensor(\"Accuracy/Cast_1:0\", shape=(12,), dtype=int32)\n"
     ]
    },
    {
     "name": "stderr",
     "output_type": "stream",
     "text": [
      " 13%|█▎        | 1058/8334 [01:06<07:35, 15.97it/s]"
     ]
    },
    {
     "name": "stdout",
     "output_type": "stream",
     "text": [
      "Iter 1060.0, Minibatch Loss= 1.211618, Training Accuracy= 0.41667\n",
      "c Tensor(\"Accuracy/Cast:0\", shape=(12,), dtype=int32)\n",
      "y Tensor(\"Accuracy/Cast_1:0\", shape=(12,), dtype=int32)\n"
     ]
    },
    {
     "name": "stderr",
     "output_type": "stream",
     "text": [
      " 13%|█▎        | 1079/8334 [01:07<07:33, 15.99it/s]"
     ]
    },
    {
     "name": "stdout",
     "output_type": "stream",
     "text": [
      "Iter 1080.0, Minibatch Loss= 0.963665, Training Accuracy= 0.33333\n",
      "c Tensor(\"Accuracy/Cast:0\", shape=(12,), dtype=int32)\n",
      "y Tensor(\"Accuracy/Cast_1:0\", shape=(12,), dtype=int32)\n"
     ]
    },
    {
     "name": "stderr",
     "output_type": "stream",
     "text": [
      " 13%|█▎        | 1100/8334 [01:08<07:31, 16.02it/s]"
     ]
    },
    {
     "name": "stdout",
     "output_type": "stream",
     "text": [
      "Iter 1100.0, Minibatch Loss= 1.059972, Training Accuracy= 0.58333\n",
      "c Tensor(\"Accuracy/Cast:0\", shape=(12,), dtype=int32)\n",
      "y Tensor(\"Accuracy/Cast_1:0\", shape=(12,), dtype=int32)\n"
     ]
    },
    {
     "name": "stderr",
     "output_type": "stream",
     "text": [
      " 13%|█▎        | 1117/8334 [01:09<07:30, 16.01it/s]"
     ]
    },
    {
     "name": "stdout",
     "output_type": "stream",
     "text": [
      "Iter 1120.0, Minibatch Loss= 0.999766, Training Accuracy= 0.41667\n",
      "c Tensor(\"Accuracy/Cast:0\", shape=(12,), dtype=int32)\n",
      "y Tensor(\"Accuracy/Cast_1:0\", shape=(12,), dtype=int32)\n"
     ]
    },
    {
     "name": "stderr",
     "output_type": "stream",
     "text": [
      " 14%|█▎        | 1139/8334 [01:10<07:28, 16.05it/s]"
     ]
    },
    {
     "name": "stdout",
     "output_type": "stream",
     "text": [
      "Iter 1140.0, Minibatch Loss= 0.990267, Training Accuracy= 0.50000\n",
      "c Tensor(\"Accuracy/Cast:0\", shape=(12,), dtype=int32)\n",
      "y Tensor(\"Accuracy/Cast_1:0\", shape=(12,), dtype=int32)\n"
     ]
    },
    {
     "name": "stderr",
     "output_type": "stream",
     "text": [
      " 14%|█▍        | 1160/8334 [01:12<07:26, 16.07it/s]"
     ]
    },
    {
     "name": "stdout",
     "output_type": "stream",
     "text": [
      "Iter 1160.0, Minibatch Loss= 1.105919, Training Accuracy= 0.41667\n",
      "c Tensor(\"Accuracy/Cast:0\", shape=(12,), dtype=int32)\n",
      "y Tensor(\"Accuracy/Cast_1:0\", shape=(12,), dtype=int32)\n"
     ]
    },
    {
     "name": "stderr",
     "output_type": "stream",
     "text": [
      " 14%|█▍        | 1177/8334 [01:13<07:26, 16.03it/s]"
     ]
    },
    {
     "name": "stdout",
     "output_type": "stream",
     "text": [
      "Iter 1180.0, Minibatch Loss= 1.091980, Training Accuracy= 0.25000\n",
      "c Tensor(\"Accuracy/Cast:0\", shape=(12,), dtype=int32)\n",
      "y Tensor(\"Accuracy/Cast_1:0\", shape=(12,), dtype=int32)\n"
     ]
    },
    {
     "name": "stderr",
     "output_type": "stream",
     "text": [
      " 14%|█▍        | 1198/8334 [01:14<07:24, 16.06it/s]"
     ]
    },
    {
     "name": "stdout",
     "output_type": "stream",
     "text": [
      "Iter 1200.0, Minibatch Loss= 1.021866, Training Accuracy= 0.33333\n",
      "c Tensor(\"Accuracy/Cast:0\", shape=(12,), dtype=int32)\n",
      "y Tensor(\"Accuracy/Cast_1:0\", shape=(12,), dtype=int32)\n"
     ]
    },
    {
     "name": "stderr",
     "output_type": "stream",
     "text": [
      " 15%|█▍        | 1219/8334 [01:15<07:22, 16.08it/s]"
     ]
    },
    {
     "name": "stdout",
     "output_type": "stream",
     "text": [
      "Iter 1220.0, Minibatch Loss= 1.051389, Training Accuracy= 0.33333\n",
      "c Tensor(\"Accuracy/Cast:0\", shape=(12,), dtype=int32)\n",
      "y Tensor(\"Accuracy/Cast_1:0\", shape=(12,), dtype=int32)\n"
     ]
    },
    {
     "name": "stderr",
     "output_type": "stream",
     "text": [
      " 15%|█▍        | 1240/8334 [01:17<07:20, 16.10it/s]"
     ]
    },
    {
     "name": "stdout",
     "output_type": "stream",
     "text": [
      "Iter 1240.0, Minibatch Loss= 1.060226, Training Accuracy= 0.50000\n",
      "c Tensor(\"Accuracy/Cast:0\", shape=(12,), dtype=int32)\n",
      "y Tensor(\"Accuracy/Cast_1:0\", shape=(12,), dtype=int32)\n"
     ]
    },
    {
     "name": "stderr",
     "output_type": "stream",
     "text": [
      " 15%|█▌        | 1260/8334 [01:18<07:19, 16.11it/s]"
     ]
    },
    {
     "name": "stdout",
     "output_type": "stream",
     "text": [
      "Iter 1260.0, Minibatch Loss= 1.048509, Training Accuracy= 0.58333\n",
      "c Tensor(\"Accuracy/Cast:0\", shape=(12,), dtype=int32)\n",
      "y Tensor(\"Accuracy/Cast_1:0\", shape=(12,), dtype=int32)\n"
     ]
    },
    {
     "name": "stderr",
     "output_type": "stream",
     "text": [
      " 15%|█▌        | 1280/8334 [01:19<07:17, 16.11it/s]"
     ]
    },
    {
     "name": "stdout",
     "output_type": "stream",
     "text": [
      "Iter 1280.0, Minibatch Loss= 1.098839, Training Accuracy= 0.41667\n",
      "c Tensor(\"Accuracy/Cast:0\", shape=(12,), dtype=int32)\n",
      "y Tensor(\"Accuracy/Cast_1:0\", shape=(12,), dtype=int32)\n"
     ]
    },
    {
     "name": "stderr",
     "output_type": "stream",
     "text": [
      " 16%|█▌        | 1300/8334 [01:20<07:16, 16.11it/s]"
     ]
    },
    {
     "name": "stdout",
     "output_type": "stream",
     "text": [
      "Iter 1300.0, Minibatch Loss= 0.894437, Training Accuracy= 0.58333\n",
      "c Tensor(\"Accuracy/Cast:0\", shape=(12,), dtype=int32)\n",
      "y Tensor(\"Accuracy/Cast_1:0\", shape=(12,), dtype=int32)\n"
     ]
    },
    {
     "name": "stderr",
     "output_type": "stream",
     "text": [
      " 16%|█▌        | 1316/8334 [01:21<07:16, 16.09it/s]"
     ]
    },
    {
     "name": "stdout",
     "output_type": "stream",
     "text": [
      "Iter 1320.0, Minibatch Loss= 1.135711, Training Accuracy= 0.33333\n",
      "c Tensor(\"Accuracy/Cast:0\", shape=(12,), dtype=int32)\n",
      "y Tensor(\"Accuracy/Cast_1:0\", shape=(12,), dtype=int32)\n"
     ]
    },
    {
     "name": "stderr",
     "output_type": "stream",
     "text": [
      " 16%|█▌        | 1337/8334 [01:23<07:14, 16.11it/s]"
     ]
    },
    {
     "name": "stdout",
     "output_type": "stream",
     "text": [
      "Iter 1340.0, Minibatch Loss= 1.000820, Training Accuracy= 0.33333\n",
      "c Tensor(\"Accuracy/Cast:0\", shape=(12,), dtype=int32)\n",
      "y Tensor(\"Accuracy/Cast_1:0\", shape=(12,), dtype=int32)\n"
     ]
    },
    {
     "name": "stderr",
     "output_type": "stream",
     "text": [
      " 16%|█▋        | 1357/8334 [01:24<07:13, 16.11it/s]"
     ]
    },
    {
     "name": "stdout",
     "output_type": "stream",
     "text": [
      "Iter 1360.0, Minibatch Loss= 0.891009, Training Accuracy= 0.33333\n",
      "c Tensor(\"Accuracy/Cast:0\", shape=(12,), dtype=int32)\n",
      "y Tensor(\"Accuracy/Cast_1:0\", shape=(12,), dtype=int32)\n"
     ]
    },
    {
     "name": "stderr",
     "output_type": "stream",
     "text": [
      " 17%|█▋        | 1377/8334 [01:25<07:12, 16.08it/s]"
     ]
    },
    {
     "name": "stdout",
     "output_type": "stream",
     "text": [
      "Iter 1380.0, Minibatch Loss= 1.126857, Training Accuracy= 0.25000\n",
      "c Tensor(\"Accuracy/Cast:0\", shape=(12,), dtype=int32)\n",
      "y Tensor(\"Accuracy/Cast_1:0\", shape=(12,), dtype=int32)\n"
     ]
    },
    {
     "name": "stderr",
     "output_type": "stream",
     "text": [
      " 17%|█▋        | 1397/8334 [01:26<07:11, 16.08it/s]"
     ]
    },
    {
     "name": "stdout",
     "output_type": "stream",
     "text": [
      "Iter 1400.0, Minibatch Loss= 0.861541, Training Accuracy= 0.41667\n",
      "c Tensor(\"Accuracy/Cast:0\", shape=(12,), dtype=int32)\n",
      "y Tensor(\"Accuracy/Cast_1:0\", shape=(12,), dtype=int32)\n"
     ]
    },
    {
     "name": "stderr",
     "output_type": "stream",
     "text": [
      " 17%|█▋        | 1417/8334 [01:28<07:10, 16.08it/s]"
     ]
    },
    {
     "name": "stdout",
     "output_type": "stream",
     "text": [
      "Iter 1420.0, Minibatch Loss= 1.032451, Training Accuracy= 0.66667\n",
      "c Tensor(\"Accuracy/Cast:0\", shape=(12,), dtype=int32)\n",
      "y Tensor(\"Accuracy/Cast_1:0\", shape=(12,), dtype=int32)\n"
     ]
    },
    {
     "name": "stderr",
     "output_type": "stream",
     "text": [
      " 17%|█▋        | 1437/8334 [01:29<07:09, 16.08it/s]"
     ]
    },
    {
     "name": "stdout",
     "output_type": "stream",
     "text": [
      "Iter 1440.0, Minibatch Loss= 1.223722, Training Accuracy= 0.33333\n",
      "c Tensor(\"Accuracy/Cast:0\", shape=(12,), dtype=int32)\n",
      "y Tensor(\"Accuracy/Cast_1:0\", shape=(12,), dtype=int32)\n"
     ]
    },
    {
     "name": "stderr",
     "output_type": "stream",
     "text": [
      " 17%|█▋        | 1457/8334 [01:30<07:07, 16.08it/s]"
     ]
    },
    {
     "name": "stdout",
     "output_type": "stream",
     "text": [
      "Iter 1460.0, Minibatch Loss= 0.889321, Training Accuracy= 0.66667\n",
      "c Tensor(\"Accuracy/Cast:0\", shape=(12,), dtype=int32)\n",
      "y Tensor(\"Accuracy/Cast_1:0\", shape=(12,), dtype=int32)\n"
     ]
    },
    {
     "name": "stderr",
     "output_type": "stream",
     "text": [
      " 18%|█▊        | 1477/8334 [01:31<07:06, 16.08it/s]"
     ]
    },
    {
     "name": "stdout",
     "output_type": "stream",
     "text": [
      "Iter 1480.0, Minibatch Loss= 0.991226, Training Accuracy= 0.33333\n",
      "c Tensor(\"Accuracy/Cast:0\", shape=(12,), dtype=int32)\n",
      "y Tensor(\"Accuracy/Cast_1:0\", shape=(12,), dtype=int32)\n"
     ]
    },
    {
     "name": "stderr",
     "output_type": "stream",
     "text": [
      " 18%|█▊        | 1497/8334 [01:33<07:05, 16.07it/s]"
     ]
    },
    {
     "name": "stdout",
     "output_type": "stream",
     "text": [
      "Iter 1500.0, Minibatch Loss= 0.953736, Training Accuracy= 0.33333\n",
      "c Tensor(\"Accuracy/Cast:0\", shape=(12,), dtype=int32)\n",
      "y Tensor(\"Accuracy/Cast_1:0\", shape=(12,), dtype=int32)\n"
     ]
    },
    {
     "name": "stderr",
     "output_type": "stream",
     "text": [
      " 18%|█▊        | 1517/8334 [01:34<07:03, 16.08it/s]"
     ]
    },
    {
     "name": "stdout",
     "output_type": "stream",
     "text": [
      "Iter 1520.0, Minibatch Loss= 0.883863, Training Accuracy= 0.33333\n",
      "c Tensor(\"Accuracy/Cast:0\", shape=(12,), dtype=int32)\n",
      "y Tensor(\"Accuracy/Cast_1:0\", shape=(12,), dtype=int32)\n"
     ]
    },
    {
     "name": "stderr",
     "output_type": "stream",
     "text": [
      " 18%|█▊        | 1537/8334 [01:35<07:02, 16.08it/s]"
     ]
    },
    {
     "name": "stdout",
     "output_type": "stream",
     "text": [
      "Iter 1540.0, Minibatch Loss= 0.997097, Training Accuracy= 0.50000\n",
      "c Tensor(\"Accuracy/Cast:0\", shape=(12,), dtype=int32)\n",
      "y Tensor(\"Accuracy/Cast_1:0\", shape=(12,), dtype=int32)\n"
     ]
    },
    {
     "name": "stderr",
     "output_type": "stream",
     "text": [
      " 19%|█▊        | 1557/8334 [01:36<07:02, 16.05it/s]"
     ]
    },
    {
     "name": "stdout",
     "output_type": "stream",
     "text": [
      "Iter 1560.0, Minibatch Loss= 1.161986, Training Accuracy= 0.16667\n",
      "c Tensor(\"Accuracy/Cast:0\", shape=(12,), dtype=int32)\n",
      "y Tensor(\"Accuracy/Cast_1:0\", shape=(12,), dtype=int32)\n"
     ]
    },
    {
     "name": "stderr",
     "output_type": "stream",
     "text": [
      " 19%|█▉        | 1578/8334 [01:38<07:00, 16.06it/s]"
     ]
    },
    {
     "name": "stdout",
     "output_type": "stream",
     "text": [
      "Iter 1580.0, Minibatch Loss= 0.946124, Training Accuracy= 0.58333\n",
      "c Tensor(\"Accuracy/Cast:0\", shape=(12,), dtype=int32)\n",
      "y Tensor(\"Accuracy/Cast_1:0\", shape=(12,), dtype=int32)\n"
     ]
    },
    {
     "name": "stderr",
     "output_type": "stream",
     "text": [
      " 19%|█▉        | 1598/8334 [01:39<06:59, 16.06it/s]"
     ]
    },
    {
     "name": "stdout",
     "output_type": "stream",
     "text": [
      "Iter 1600.0, Minibatch Loss= 0.892982, Training Accuracy= 0.58333\n",
      "c Tensor(\"Accuracy/Cast:0\", shape=(12,), dtype=int32)\n",
      "y Tensor(\"Accuracy/Cast_1:0\", shape=(12,), dtype=int32)\n"
     ]
    },
    {
     "name": "stderr",
     "output_type": "stream",
     "text": [
      " 19%|█▉        | 1618/8334 [01:40<06:58, 16.06it/s]"
     ]
    },
    {
     "name": "stdout",
     "output_type": "stream",
     "text": [
      "Iter 1620.0, Minibatch Loss= 0.952925, Training Accuracy= 0.41667\n",
      "c Tensor(\"Accuracy/Cast:0\", shape=(12,), dtype=int32)\n",
      "y Tensor(\"Accuracy/Cast_1:0\", shape=(12,), dtype=int32)\n"
     ]
    },
    {
     "name": "stderr",
     "output_type": "stream",
     "text": [
      " 20%|█▉        | 1638/8334 [01:41<06:56, 16.06it/s]"
     ]
    },
    {
     "name": "stdout",
     "output_type": "stream",
     "text": [
      "Iter 1640.0, Minibatch Loss= 1.035371, Training Accuracy= 0.41667\n",
      "c Tensor(\"Accuracy/Cast:0\", shape=(12,), dtype=int32)\n",
      "y Tensor(\"Accuracy/Cast_1:0\", shape=(12,), dtype=int32)\n"
     ]
    },
    {
     "name": "stderr",
     "output_type": "stream",
     "text": [
      " 20%|█▉        | 1658/8334 [01:43<06:55, 16.06it/s]"
     ]
    },
    {
     "name": "stdout",
     "output_type": "stream",
     "text": [
      "Iter 1660.0, Minibatch Loss= 1.026673, Training Accuracy= 0.66667\n",
      "c Tensor(\"Accuracy/Cast:0\", shape=(12,), dtype=int32)\n",
      "y Tensor(\"Accuracy/Cast_1:0\", shape=(12,), dtype=int32)\n"
     ]
    },
    {
     "name": "stderr",
     "output_type": "stream",
     "text": [
      " 20%|██        | 1678/8334 [01:44<06:54, 16.06it/s]"
     ]
    },
    {
     "name": "stdout",
     "output_type": "stream",
     "text": [
      "Iter 1680.0, Minibatch Loss= 1.084749, Training Accuracy= 0.33333\n",
      "c Tensor(\"Accuracy/Cast:0\", shape=(12,), dtype=int32)\n",
      "y Tensor(\"Accuracy/Cast_1:0\", shape=(12,), dtype=int32)\n"
     ]
    },
    {
     "name": "stderr",
     "output_type": "stream",
     "text": [
      " 20%|██        | 1698/8334 [01:45<06:53, 16.06it/s]"
     ]
    },
    {
     "name": "stdout",
     "output_type": "stream",
     "text": [
      "Iter 1700.0, Minibatch Loss= 1.267271, Training Accuracy= 0.25000\n",
      "c Tensor(\"Accuracy/Cast:0\", shape=(12,), dtype=int32)\n",
      "y Tensor(\"Accuracy/Cast_1:0\", shape=(12,), dtype=int32)\n"
     ]
    },
    {
     "name": "stderr",
     "output_type": "stream",
     "text": [
      " 21%|██        | 1718/8334 [01:47<06:52, 16.06it/s]"
     ]
    },
    {
     "name": "stdout",
     "output_type": "stream",
     "text": [
      "Iter 1720.0, Minibatch Loss= 1.107936, Training Accuracy= 0.33333\n",
      "c Tensor(\"Accuracy/Cast:0\", shape=(12,), dtype=int32)\n",
      "y Tensor(\"Accuracy/Cast_1:0\", shape=(12,), dtype=int32)\n"
     ]
    },
    {
     "name": "stderr",
     "output_type": "stream",
     "text": [
      " 21%|██        | 1738/8334 [01:48<06:50, 16.05it/s]"
     ]
    },
    {
     "name": "stdout",
     "output_type": "stream",
     "text": [
      "Iter 1740.0, Minibatch Loss= 0.870648, Training Accuracy= 0.75000\n",
      "c Tensor(\"Accuracy/Cast:0\", shape=(12,), dtype=int32)\n",
      "y Tensor(\"Accuracy/Cast_1:0\", shape=(12,), dtype=int32)\n"
     ]
    },
    {
     "name": "stderr",
     "output_type": "stream",
     "text": [
      " 21%|██        | 1758/8334 [01:49<06:49, 16.05it/s]"
     ]
    },
    {
     "name": "stdout",
     "output_type": "stream",
     "text": [
      "Iter 1760.0, Minibatch Loss= 1.082574, Training Accuracy= 0.41667\n",
      "c Tensor(\"Accuracy/Cast:0\", shape=(12,), dtype=int32)\n",
      "y Tensor(\"Accuracy/Cast_1:0\", shape=(12,), dtype=int32)\n"
     ]
    },
    {
     "name": "stderr",
     "output_type": "stream",
     "text": [
      " 21%|██▏       | 1778/8334 [01:50<06:48, 16.05it/s]"
     ]
    },
    {
     "name": "stdout",
     "output_type": "stream",
     "text": [
      "Iter 1780.0, Minibatch Loss= 1.000709, Training Accuracy= 0.41667\n",
      "c Tensor(\"Accuracy/Cast:0\", shape=(12,), dtype=int32)\n",
      "y Tensor(\"Accuracy/Cast_1:0\", shape=(12,), dtype=int32)\n"
     ]
    },
    {
     "name": "stderr",
     "output_type": "stream",
     "text": [
      " 22%|██▏       | 1798/8334 [01:52<06:47, 16.05it/s]"
     ]
    },
    {
     "name": "stdout",
     "output_type": "stream",
     "text": [
      "Iter 1800.0, Minibatch Loss= 0.990094, Training Accuracy= 0.33333\n",
      "c Tensor(\"Accuracy/Cast:0\", shape=(12,), dtype=int32)\n",
      "y Tensor(\"Accuracy/Cast_1:0\", shape=(12,), dtype=int32)\n"
     ]
    },
    {
     "name": "stderr",
     "output_type": "stream",
     "text": [
      " 22%|██▏       | 1818/8334 [01:53<06:46, 16.04it/s]"
     ]
    },
    {
     "name": "stdout",
     "output_type": "stream",
     "text": [
      "Iter 1820.0, Minibatch Loss= 1.111928, Training Accuracy= 0.66667\n",
      "c Tensor(\"Accuracy/Cast:0\", shape=(12,), dtype=int32)\n",
      "y Tensor(\"Accuracy/Cast_1:0\", shape=(12,), dtype=int32)\n"
     ]
    },
    {
     "name": "stderr",
     "output_type": "stream",
     "text": [
      " 22%|██▏       | 1838/8334 [01:54<06:44, 16.04it/s]"
     ]
    },
    {
     "name": "stdout",
     "output_type": "stream",
     "text": [
      "Iter 1840.0, Minibatch Loss= 1.138216, Training Accuracy= 0.58333\n",
      "c Tensor(\"Accuracy/Cast:0\", shape=(12,), dtype=int32)\n",
      "y Tensor(\"Accuracy/Cast_1:0\", shape=(12,), dtype=int32)\n"
     ]
    },
    {
     "name": "stderr",
     "output_type": "stream",
     "text": [
      " 22%|██▏       | 1858/8334 [01:55<06:43, 16.04it/s]"
     ]
    },
    {
     "name": "stdout",
     "output_type": "stream",
     "text": [
      "Iter 1860.0, Minibatch Loss= 1.074721, Training Accuracy= 0.75000\n",
      "c Tensor(\"Accuracy/Cast:0\", shape=(12,), dtype=int32)\n",
      "y Tensor(\"Accuracy/Cast_1:0\", shape=(12,), dtype=int32)\n"
     ]
    },
    {
     "name": "stderr",
     "output_type": "stream",
     "text": [
      " 23%|██▎       | 1878/8334 [01:57<06:42, 16.04it/s]"
     ]
    },
    {
     "name": "stdout",
     "output_type": "stream",
     "text": [
      "Iter 1880.0, Minibatch Loss= 0.932740, Training Accuracy= 0.58333\n",
      "c Tensor(\"Accuracy/Cast:0\", shape=(12,), dtype=int32)\n",
      "y Tensor(\"Accuracy/Cast_1:0\", shape=(12,), dtype=int32)\n"
     ]
    },
    {
     "name": "stderr",
     "output_type": "stream",
     "text": [
      " 23%|██▎       | 1898/8334 [01:58<06:41, 16.04it/s]"
     ]
    },
    {
     "name": "stdout",
     "output_type": "stream",
     "text": [
      "Iter 1900.0, Minibatch Loss= 1.093729, Training Accuracy= 0.33333\n",
      "c Tensor(\"Accuracy/Cast:0\", shape=(12,), dtype=int32)\n",
      "y Tensor(\"Accuracy/Cast_1:0\", shape=(12,), dtype=int32)\n"
     ]
    },
    {
     "name": "stderr",
     "output_type": "stream",
     "text": [
      " 23%|██▎       | 1918/8334 [01:59<06:39, 16.04it/s]"
     ]
    },
    {
     "name": "stdout",
     "output_type": "stream",
     "text": [
      "Iter 1920.0, Minibatch Loss= 0.886766, Training Accuracy= 0.25000\n",
      "c Tensor(\"Accuracy/Cast:0\", shape=(12,), dtype=int32)\n",
      "y Tensor(\"Accuracy/Cast_1:0\", shape=(12,), dtype=int32)\n"
     ]
    },
    {
     "name": "stderr",
     "output_type": "stream",
     "text": [
      " 23%|██▎       | 1938/8334 [02:00<06:39, 16.02it/s]"
     ]
    },
    {
     "name": "stdout",
     "output_type": "stream",
     "text": [
      "Iter 1940.0, Minibatch Loss= 0.962280, Training Accuracy= 0.50000\n",
      "c Tensor(\"Accuracy/Cast:0\", shape=(12,), dtype=int32)\n",
      "y Tensor(\"Accuracy/Cast_1:0\", shape=(12,), dtype=int32)\n"
     ]
    },
    {
     "name": "stderr",
     "output_type": "stream",
     "text": [
      " 23%|██▎       | 1958/8334 [02:02<06:37, 16.02it/s]"
     ]
    },
    {
     "name": "stdout",
     "output_type": "stream",
     "text": [
      "Iter 1960.0, Minibatch Loss= 0.831257, Training Accuracy= 0.75000\n",
      "c Tensor(\"Accuracy/Cast:0\", shape=(12,), dtype=int32)\n",
      "y Tensor(\"Accuracy/Cast_1:0\", shape=(12,), dtype=int32)\n"
     ]
    },
    {
     "name": "stderr",
     "output_type": "stream",
     "text": [
      " 24%|██▎       | 1978/8334 [02:03<06:36, 16.03it/s]"
     ]
    },
    {
     "name": "stdout",
     "output_type": "stream",
     "text": [
      "Iter 1980.0, Minibatch Loss= 0.943543, Training Accuracy= 0.33333\n",
      "c Tensor(\"Accuracy/Cast:0\", shape=(12,), dtype=int32)\n",
      "y Tensor(\"Accuracy/Cast_1:0\", shape=(12,), dtype=int32)\n"
     ]
    },
    {
     "name": "stderr",
     "output_type": "stream",
     "text": [
      " 24%|██▍       | 1998/8334 [02:04<06:35, 16.03it/s]"
     ]
    },
    {
     "name": "stdout",
     "output_type": "stream",
     "text": [
      "Iter 2000.0, Minibatch Loss= 1.121111, Training Accuracy= 0.50000\n",
      "c Tensor(\"Accuracy/Cast:0\", shape=(12,), dtype=int32)\n",
      "y Tensor(\"Accuracy/Cast_1:0\", shape=(12,), dtype=int32)\n"
     ]
    },
    {
     "name": "stderr",
     "output_type": "stream",
     "text": [
      " 24%|██▍       | 2018/8334 [02:05<06:34, 16.03it/s]"
     ]
    },
    {
     "name": "stdout",
     "output_type": "stream",
     "text": [
      "Iter 2020.0, Minibatch Loss= 0.951172, Training Accuracy= 0.66667\n",
      "c Tensor(\"Accuracy/Cast:0\", shape=(12,), dtype=int32)\n",
      "y Tensor(\"Accuracy/Cast_1:0\", shape=(12,), dtype=int32)\n"
     ]
    },
    {
     "name": "stderr",
     "output_type": "stream",
     "text": [
      " 24%|██▍       | 2039/8334 [02:07<06:32, 16.04it/s]"
     ]
    },
    {
     "name": "stdout",
     "output_type": "stream",
     "text": [
      "Iter 2040.0, Minibatch Loss= 1.137791, Training Accuracy= 0.33333\n",
      "c Tensor(\"Accuracy/Cast:0\", shape=(12,), dtype=int32)\n",
      "y Tensor(\"Accuracy/Cast_1:0\", shape=(12,), dtype=int32)\n"
     ]
    },
    {
     "name": "stderr",
     "output_type": "stream",
     "text": [
      " 25%|██▍       | 2060/8334 [02:08<06:31, 16.04it/s]"
     ]
    },
    {
     "name": "stdout",
     "output_type": "stream",
     "text": [
      "Iter 2060.0, Minibatch Loss= 0.960392, Training Accuracy= 0.41667\n",
      "c Tensor(\"Accuracy/Cast:0\", shape=(12,), dtype=int32)\n",
      "y Tensor(\"Accuracy/Cast_1:0\", shape=(12,), dtype=int32)\n"
     ]
    },
    {
     "name": "stderr",
     "output_type": "stream",
     "text": [
      " 25%|██▍       | 2080/8334 [02:09<06:29, 16.05it/s]"
     ]
    },
    {
     "name": "stdout",
     "output_type": "stream",
     "text": [
      "Iter 2080.0, Minibatch Loss= 0.804677, Training Accuracy= 0.50000\n",
      "c Tensor(\"Accuracy/Cast:0\", shape=(12,), dtype=int32)\n",
      "y Tensor(\"Accuracy/Cast_1:0\", shape=(12,), dtype=int32)\n"
     ]
    },
    {
     "name": "stderr",
     "output_type": "stream",
     "text": [
      " 25%|██▌       | 2100/8334 [02:10<06:28, 16.05it/s]"
     ]
    },
    {
     "name": "stdout",
     "output_type": "stream",
     "text": [
      "Iter 2100.0, Minibatch Loss= 0.990029, Training Accuracy= 0.50000\n",
      "c Tensor(\"Accuracy/Cast:0\", shape=(12,), dtype=int32)\n",
      "y Tensor(\"Accuracy/Cast_1:0\", shape=(12,), dtype=int32)\n"
     ]
    },
    {
     "name": "stderr",
     "output_type": "stream",
     "text": [
      " 25%|██▌       | 2120/8334 [02:12<06:27, 16.04it/s]"
     ]
    },
    {
     "name": "stdout",
     "output_type": "stream",
     "text": [
      "Iter 2120.0, Minibatch Loss= 1.040593, Training Accuracy= 0.41667\n",
      "c Tensor(\"Accuracy/Cast:0\", shape=(12,), dtype=int32)\n",
      "y Tensor(\"Accuracy/Cast_1:0\", shape=(12,), dtype=int32)\n"
     ]
    },
    {
     "name": "stderr",
     "output_type": "stream",
     "text": [
      " 26%|██▌       | 2140/8334 [02:13<06:26, 16.04it/s]"
     ]
    },
    {
     "name": "stdout",
     "output_type": "stream",
     "text": [
      "Iter 2140.0, Minibatch Loss= 0.715323, Training Accuracy= 0.83333\n",
      "c Tensor(\"Accuracy/Cast:0\", shape=(12,), dtype=int32)\n",
      "y Tensor(\"Accuracy/Cast_1:0\", shape=(12,), dtype=int32)\n"
     ]
    },
    {
     "name": "stderr",
     "output_type": "stream",
     "text": [
      " 26%|██▌       | 2160/8334 [02:14<06:24, 16.04it/s]"
     ]
    },
    {
     "name": "stdout",
     "output_type": "stream",
     "text": [
      "Iter 2160.0, Minibatch Loss= 1.067936, Training Accuracy= 0.33333\n",
      "c Tensor(\"Accuracy/Cast:0\", shape=(12,), dtype=int32)\n",
      "y Tensor(\"Accuracy/Cast_1:0\", shape=(12,), dtype=int32)\n"
     ]
    },
    {
     "name": "stderr",
     "output_type": "stream",
     "text": [
      " 26%|██▌       | 2180/8334 [02:15<06:23, 16.04it/s]"
     ]
    },
    {
     "name": "stdout",
     "output_type": "stream",
     "text": [
      "Iter 2180.0, Minibatch Loss= 1.012519, Training Accuracy= 0.50000\n",
      "c Tensor(\"Accuracy/Cast:0\", shape=(12,), dtype=int32)\n",
      "y Tensor(\"Accuracy/Cast_1:0\", shape=(12,), dtype=int32)\n"
     ]
    },
    {
     "name": "stderr",
     "output_type": "stream",
     "text": [
      " 26%|██▋       | 2200/8334 [02:17<06:22, 16.04it/s]"
     ]
    },
    {
     "name": "stdout",
     "output_type": "stream",
     "text": [
      "Iter 2200.0, Minibatch Loss= 0.918893, Training Accuracy= 0.50000\n",
      "c Tensor(\"Accuracy/Cast:0\", shape=(12,), dtype=int32)\n",
      "y Tensor(\"Accuracy/Cast_1:0\", shape=(12,), dtype=int32)\n"
     ]
    },
    {
     "name": "stderr",
     "output_type": "stream",
     "text": [
      " 27%|██▋       | 2220/8334 [02:18<06:21, 16.04it/s]"
     ]
    },
    {
     "name": "stdout",
     "output_type": "stream",
     "text": [
      "Iter 2220.0, Minibatch Loss= 1.031498, Training Accuracy= 0.33333\n",
      "c Tensor(\"Accuracy/Cast:0\", shape=(12,), dtype=int32)\n",
      "y Tensor(\"Accuracy/Cast_1:0\", shape=(12,), dtype=int32)\n"
     ]
    },
    {
     "name": "stderr",
     "output_type": "stream",
     "text": [
      " 27%|██▋       | 2240/8334 [02:19<06:19, 16.05it/s]"
     ]
    },
    {
     "name": "stdout",
     "output_type": "stream",
     "text": [
      "Iter 2240.0, Minibatch Loss= 0.887106, Training Accuracy= 0.75000\n",
      "c Tensor(\"Accuracy/Cast:0\", shape=(12,), dtype=int32)\n",
      "y Tensor(\"Accuracy/Cast_1:0\", shape=(12,), dtype=int32)\n"
     ]
    },
    {
     "name": "stderr",
     "output_type": "stream",
     "text": [
      " 27%|██▋       | 2260/8334 [02:20<06:18, 16.04it/s]"
     ]
    },
    {
     "name": "stdout",
     "output_type": "stream",
     "text": [
      "Iter 2260.0, Minibatch Loss= 0.962376, Training Accuracy= 0.66667\n",
      "c Tensor(\"Accuracy/Cast:0\", shape=(12,), dtype=int32)\n",
      "y Tensor(\"Accuracy/Cast_1:0\", shape=(12,), dtype=int32)\n"
     ]
    },
    {
     "name": "stderr",
     "output_type": "stream",
     "text": [
      " 27%|██▋       | 2280/8334 [02:22<06:17, 16.05it/s]"
     ]
    },
    {
     "name": "stdout",
     "output_type": "stream",
     "text": [
      "Iter 2280.0, Minibatch Loss= 0.680430, Training Accuracy= 0.66667\n",
      "c Tensor(\"Accuracy/Cast:0\", shape=(12,), dtype=int32)\n",
      "y Tensor(\"Accuracy/Cast_1:0\", shape=(12,), dtype=int32)\n"
     ]
    },
    {
     "name": "stderr",
     "output_type": "stream",
     "text": [
      " 28%|██▊       | 2300/8334 [02:23<06:16, 16.05it/s]"
     ]
    },
    {
     "name": "stdout",
     "output_type": "stream",
     "text": [
      "Iter 2300.0, Minibatch Loss= 1.047869, Training Accuracy= 0.50000\n",
      "c Tensor(\"Accuracy/Cast:0\", shape=(12,), dtype=int32)\n",
      "y Tensor(\"Accuracy/Cast_1:0\", shape=(12,), dtype=int32)\n"
     ]
    },
    {
     "name": "stderr",
     "output_type": "stream",
     "text": [
      " 28%|██▊       | 2320/8334 [02:24<06:15, 16.03it/s]"
     ]
    },
    {
     "name": "stdout",
     "output_type": "stream",
     "text": [
      "Iter 2320.0, Minibatch Loss= 0.977428, Training Accuracy= 0.41667\n",
      "c Tensor(\"Accuracy/Cast:0\", shape=(12,), dtype=int32)\n",
      "y Tensor(\"Accuracy/Cast_1:0\", shape=(12,), dtype=int32)\n"
     ]
    },
    {
     "name": "stderr",
     "output_type": "stream",
     "text": [
      " 28%|██▊       | 2340/8334 [02:25<06:13, 16.03it/s]"
     ]
    },
    {
     "name": "stdout",
     "output_type": "stream",
     "text": [
      "Iter 2340.0, Minibatch Loss= 1.114445, Training Accuracy= 0.41667\n",
      "c Tensor(\"Accuracy/Cast:0\", shape=(12,), dtype=int32)\n",
      "y Tensor(\"Accuracy/Cast_1:0\", shape=(12,), dtype=int32)\n"
     ]
    },
    {
     "name": "stderr",
     "output_type": "stream",
     "text": [
      " 28%|██▊       | 2360/8334 [02:27<06:12, 16.03it/s]"
     ]
    },
    {
     "name": "stdout",
     "output_type": "stream",
     "text": [
      "Iter 2360.0, Minibatch Loss= 0.976077, Training Accuracy= 0.58333\n",
      "c Tensor(\"Accuracy/Cast:0\", shape=(12,), dtype=int32)\n",
      "y Tensor(\"Accuracy/Cast_1:0\", shape=(12,), dtype=int32)\n"
     ]
    },
    {
     "name": "stderr",
     "output_type": "stream",
     "text": [
      " 29%|██▊       | 2380/8334 [02:28<06:11, 16.03it/s]"
     ]
    },
    {
     "name": "stdout",
     "output_type": "stream",
     "text": [
      "Iter 2380.0, Minibatch Loss= 1.191481, Training Accuracy= 0.41667\n",
      "c Tensor(\"Accuracy/Cast:0\", shape=(12,), dtype=int32)\n",
      "y Tensor(\"Accuracy/Cast_1:0\", shape=(12,), dtype=int32)\n"
     ]
    },
    {
     "name": "stderr",
     "output_type": "stream",
     "text": [
      " 29%|██▉       | 2400/8334 [02:29<06:10, 16.03it/s]"
     ]
    },
    {
     "name": "stdout",
     "output_type": "stream",
     "text": [
      "Iter 2400.0, Minibatch Loss= 1.087927, Training Accuracy= 0.33333\n",
      "c Tensor(\"Accuracy/Cast:0\", shape=(12,), dtype=int32)\n",
      "y Tensor(\"Accuracy/Cast_1:0\", shape=(12,), dtype=int32)\n"
     ]
    },
    {
     "name": "stderr",
     "output_type": "stream",
     "text": [
      " 29%|██▉       | 2420/8334 [02:30<06:08, 16.03it/s]"
     ]
    },
    {
     "name": "stdout",
     "output_type": "stream",
     "text": [
      "Iter 2420.0, Minibatch Loss= 1.129657, Training Accuracy= 0.33333\n",
      "c Tensor(\"Accuracy/Cast:0\", shape=(12,), dtype=int32)\n",
      "y Tensor(\"Accuracy/Cast_1:0\", shape=(12,), dtype=int32)\n"
     ]
    },
    {
     "name": "stderr",
     "output_type": "stream",
     "text": [
      " 29%|██▉       | 2440/8334 [02:32<06:07, 16.03it/s]"
     ]
    },
    {
     "name": "stdout",
     "output_type": "stream",
     "text": [
      "Iter 2440.0, Minibatch Loss= 0.882467, Training Accuracy= 0.58333\n",
      "c Tensor(\"Accuracy/Cast:0\", shape=(12,), dtype=int32)\n",
      "y Tensor(\"Accuracy/Cast_1:0\", shape=(12,), dtype=int32)\n"
     ]
    },
    {
     "name": "stderr",
     "output_type": "stream",
     "text": [
      " 30%|██▉       | 2460/8334 [02:33<06:06, 16.03it/s]"
     ]
    },
    {
     "name": "stdout",
     "output_type": "stream",
     "text": [
      "Iter 2460.0, Minibatch Loss= 0.843856, Training Accuracy= 0.75000\n",
      "c Tensor(\"Accuracy/Cast:0\", shape=(12,), dtype=int32)\n",
      "y Tensor(\"Accuracy/Cast_1:0\", shape=(12,), dtype=int32)\n"
     ]
    },
    {
     "name": "stderr",
     "output_type": "stream",
     "text": [
      " 30%|██▉       | 2480/8334 [02:34<06:05, 16.03it/s]"
     ]
    },
    {
     "name": "stdout",
     "output_type": "stream",
     "text": [
      "Iter 2480.0, Minibatch Loss= 0.833417, Training Accuracy= 0.58333\n",
      "c Tensor(\"Accuracy/Cast:0\", shape=(12,), dtype=int32)\n",
      "y Tensor(\"Accuracy/Cast_1:0\", shape=(12,), dtype=int32)\n"
     ]
    },
    {
     "name": "stderr",
     "output_type": "stream",
     "text": [
      " 30%|██▉       | 2500/8334 [02:35<06:03, 16.03it/s]"
     ]
    },
    {
     "name": "stdout",
     "output_type": "stream",
     "text": [
      "Iter 2500.0, Minibatch Loss= 0.951823, Training Accuracy= 0.33333\n",
      "c Tensor(\"Accuracy/Cast:0\", shape=(12,), dtype=int32)\n",
      "y Tensor(\"Accuracy/Cast_1:0\", shape=(12,), dtype=int32)\n"
     ]
    },
    {
     "name": "stderr",
     "output_type": "stream",
     "text": [
      " 30%|███       | 2520/8334 [02:37<06:02, 16.03it/s]"
     ]
    },
    {
     "name": "stdout",
     "output_type": "stream",
     "text": [
      "Iter 2520.0, Minibatch Loss= 1.060287, Training Accuracy= 0.41667\n",
      "c Tensor(\"Accuracy/Cast:0\", shape=(12,), dtype=int32)\n",
      "y Tensor(\"Accuracy/Cast_1:0\", shape=(12,), dtype=int32)\n"
     ]
    },
    {
     "name": "stderr",
     "output_type": "stream",
     "text": [
      " 30%|███       | 2540/8334 [02:38<06:01, 16.03it/s]"
     ]
    },
    {
     "name": "stdout",
     "output_type": "stream",
     "text": [
      "Iter 2540.0, Minibatch Loss= 0.971414, Training Accuracy= 0.25000\n",
      "c Tensor(\"Accuracy/Cast:0\", shape=(12,), dtype=int32)\n",
      "y Tensor(\"Accuracy/Cast_1:0\", shape=(12,), dtype=int32)\n"
     ]
    },
    {
     "name": "stderr",
     "output_type": "stream",
     "text": [
      " 31%|███       | 2560/8334 [02:39<06:00, 16.03it/s]"
     ]
    },
    {
     "name": "stdout",
     "output_type": "stream",
     "text": [
      "Iter 2560.0, Minibatch Loss= 0.862401, Training Accuracy= 0.50000\n",
      "c Tensor(\"Accuracy/Cast:0\", shape=(12,), dtype=int32)\n",
      "y Tensor(\"Accuracy/Cast_1:0\", shape=(12,), dtype=int32)\n"
     ]
    },
    {
     "name": "stderr",
     "output_type": "stream",
     "text": [
      " 31%|███       | 2580/8334 [02:40<05:58, 16.03it/s]"
     ]
    },
    {
     "name": "stdout",
     "output_type": "stream",
     "text": [
      "Iter 2580.0, Minibatch Loss= 1.043367, Training Accuracy= 0.58333\n",
      "c Tensor(\"Accuracy/Cast:0\", shape=(12,), dtype=int32)\n",
      "y Tensor(\"Accuracy/Cast_1:0\", shape=(12,), dtype=int32)\n"
     ]
    },
    {
     "name": "stderr",
     "output_type": "stream",
     "text": [
      " 31%|███       | 2600/8334 [02:42<05:57, 16.03it/s]"
     ]
    },
    {
     "name": "stdout",
     "output_type": "stream",
     "text": [
      "Iter 2600.0, Minibatch Loss= 1.080073, Training Accuracy= 0.16667\n",
      "c Tensor(\"Accuracy/Cast:0\", shape=(12,), dtype=int32)\n",
      "y Tensor(\"Accuracy/Cast_1:0\", shape=(12,), dtype=int32)\n"
     ]
    },
    {
     "name": "stderr",
     "output_type": "stream",
     "text": [
      " 31%|███▏      | 2620/8334 [02:43<05:56, 16.03it/s]"
     ]
    },
    {
     "name": "stdout",
     "output_type": "stream",
     "text": [
      "Iter 2620.0, Minibatch Loss= 0.721579, Training Accuracy= 0.33333\n",
      "c Tensor(\"Accuracy/Cast:0\", shape=(12,), dtype=int32)\n",
      "y Tensor(\"Accuracy/Cast_1:0\", shape=(12,), dtype=int32)\n"
     ]
    },
    {
     "name": "stderr",
     "output_type": "stream",
     "text": [
      " 32%|███▏      | 2640/8334 [02:44<05:55, 16.03it/s]"
     ]
    },
    {
     "name": "stdout",
     "output_type": "stream",
     "text": [
      "Iter 2640.0, Minibatch Loss= 0.741205, Training Accuracy= 0.50000\n",
      "c Tensor(\"Accuracy/Cast:0\", shape=(12,), dtype=int32)\n",
      "y Tensor(\"Accuracy/Cast_1:0\", shape=(12,), dtype=int32)\n"
     ]
    },
    {
     "name": "stderr",
     "output_type": "stream",
     "text": [
      " 32%|███▏      | 2660/8334 [02:45<05:53, 16.03it/s]"
     ]
    },
    {
     "name": "stdout",
     "output_type": "stream",
     "text": [
      "Iter 2660.0, Minibatch Loss= 0.997527, Training Accuracy= 0.33333\n",
      "c Tensor(\"Accuracy/Cast:0\", shape=(12,), dtype=int32)\n",
      "y Tensor(\"Accuracy/Cast_1:0\", shape=(12,), dtype=int32)\n"
     ]
    },
    {
     "name": "stderr",
     "output_type": "stream",
     "text": [
      " 32%|███▏      | 2680/8334 [02:47<05:52, 16.03it/s]"
     ]
    },
    {
     "name": "stdout",
     "output_type": "stream",
     "text": [
      "Iter 2680.0, Minibatch Loss= 0.852697, Training Accuracy= 0.58333\n",
      "c Tensor(\"Accuracy/Cast:0\", shape=(12,), dtype=int32)\n",
      "y Tensor(\"Accuracy/Cast_1:0\", shape=(12,), dtype=int32)\n"
     ]
    },
    {
     "name": "stderr",
     "output_type": "stream",
     "text": [
      " 32%|███▏      | 2700/8334 [02:48<05:51, 16.02it/s]"
     ]
    },
    {
     "name": "stdout",
     "output_type": "stream",
     "text": [
      "Iter 2700.0, Minibatch Loss= 0.855183, Training Accuracy= 0.50000\n",
      "c Tensor(\"Accuracy/Cast:0\", shape=(12,), dtype=int32)\n",
      "y Tensor(\"Accuracy/Cast_1:0\", shape=(12,), dtype=int32)\n"
     ]
    },
    {
     "name": "stderr",
     "output_type": "stream",
     "text": [
      " 33%|███▎      | 2720/8334 [02:49<05:50, 16.01it/s]"
     ]
    },
    {
     "name": "stdout",
     "output_type": "stream",
     "text": [
      "Iter 2720.0, Minibatch Loss= 0.938923, Training Accuracy= 0.33333\n",
      "c Tensor(\"Accuracy/Cast:0\", shape=(12,), dtype=int32)\n",
      "y Tensor(\"Accuracy/Cast_1:0\", shape=(12,), dtype=int32)\n"
     ]
    },
    {
     "name": "stderr",
     "output_type": "stream",
     "text": [
      " 33%|███▎      | 2740/8334 [02:51<05:49, 16.02it/s]"
     ]
    },
    {
     "name": "stdout",
     "output_type": "stream",
     "text": [
      "Iter 2740.0, Minibatch Loss= 0.988771, Training Accuracy= 0.58333\n",
      "c Tensor(\"Accuracy/Cast:0\", shape=(12,), dtype=int32)\n",
      "y Tensor(\"Accuracy/Cast_1:0\", shape=(12,), dtype=int32)\n"
     ]
    },
    {
     "name": "stderr",
     "output_type": "stream",
     "text": [
      " 33%|███▎      | 2760/8334 [02:52<05:47, 16.02it/s]"
     ]
    },
    {
     "name": "stdout",
     "output_type": "stream",
     "text": [
      "Iter 2760.0, Minibatch Loss= 0.884769, Training Accuracy= 0.33333\n",
      "c Tensor(\"Accuracy/Cast:0\", shape=(12,), dtype=int32)\n",
      "y Tensor(\"Accuracy/Cast_1:0\", shape=(12,), dtype=int32)\n"
     ]
    },
    {
     "name": "stderr",
     "output_type": "stream",
     "text": [
      " 33%|███▎      | 2780/8334 [02:53<05:46, 16.02it/s]"
     ]
    },
    {
     "name": "stdout",
     "output_type": "stream",
     "text": [
      "Iter 2780.0, Minibatch Loss= 1.032184, Training Accuracy= 0.58333\n",
      "c Tensor(\"Accuracy/Cast:0\", shape=(12,), dtype=int32)\n",
      "y Tensor(\"Accuracy/Cast_1:0\", shape=(12,), dtype=int32)\n"
     ]
    },
    {
     "name": "stderr",
     "output_type": "stream",
     "text": [
      " 34%|███▎      | 2800/8334 [02:54<05:45, 16.02it/s]"
     ]
    },
    {
     "name": "stdout",
     "output_type": "stream",
     "text": [
      "Iter 2800.0, Minibatch Loss= 0.933872, Training Accuracy= 0.41667\n",
      "c Tensor(\"Accuracy/Cast:0\", shape=(12,), dtype=int32)\n",
      "y Tensor(\"Accuracy/Cast_1:0\", shape=(12,), dtype=int32)\n"
     ]
    },
    {
     "name": "stderr",
     "output_type": "stream",
     "text": [
      " 34%|███▍      | 2820/8334 [02:56<05:44, 16.01it/s]"
     ]
    },
    {
     "name": "stdout",
     "output_type": "stream",
     "text": [
      "Iter 2820.0, Minibatch Loss= 0.818734, Training Accuracy= 0.75000\n",
      "c Tensor(\"Accuracy/Cast:0\", shape=(12,), dtype=int32)\n",
      "y Tensor(\"Accuracy/Cast_1:0\", shape=(12,), dtype=int32)\n"
     ]
    },
    {
     "name": "stderr",
     "output_type": "stream",
     "text": [
      " 34%|███▍      | 2837/8334 [02:57<05:43, 16.01it/s]"
     ]
    },
    {
     "name": "stdout",
     "output_type": "stream",
     "text": [
      "Iter 2840.0, Minibatch Loss= 1.046160, Training Accuracy= 0.41667\n",
      "c Tensor(\"Accuracy/Cast:0\", shape=(12,), dtype=int32)\n",
      "y Tensor(\"Accuracy/Cast_1:0\", shape=(12,), dtype=int32)\n"
     ]
    },
    {
     "name": "stderr",
     "output_type": "stream",
     "text": [
      " 34%|███▍      | 2857/8334 [02:58<05:42, 16.01it/s]"
     ]
    },
    {
     "name": "stdout",
     "output_type": "stream",
     "text": [
      "Iter 2860.0, Minibatch Loss= 0.986517, Training Accuracy= 0.33333\n",
      "c Tensor(\"Accuracy/Cast:0\", shape=(12,), dtype=int32)\n",
      "y Tensor(\"Accuracy/Cast_1:0\", shape=(12,), dtype=int32)\n"
     ]
    },
    {
     "name": "stderr",
     "output_type": "stream",
     "text": [
      " 35%|███▍      | 2877/8334 [02:59<05:40, 16.01it/s]"
     ]
    },
    {
     "name": "stdout",
     "output_type": "stream",
     "text": [
      "Iter 2880.0, Minibatch Loss= 1.108602, Training Accuracy= 0.41667\n",
      "c Tensor(\"Accuracy/Cast:0\", shape=(12,), dtype=int32)\n",
      "y Tensor(\"Accuracy/Cast_1:0\", shape=(12,), dtype=int32)\n"
     ]
    },
    {
     "name": "stderr",
     "output_type": "stream",
     "text": [
      " 35%|███▍      | 2897/8334 [03:01<05:39, 16.00it/s]"
     ]
    },
    {
     "name": "stdout",
     "output_type": "stream",
     "text": [
      "Iter 2900.0, Minibatch Loss= 0.990267, Training Accuracy= 0.75000\n",
      "c Tensor(\"Accuracy/Cast:0\", shape=(12,), dtype=int32)\n",
      "y Tensor(\"Accuracy/Cast_1:0\", shape=(12,), dtype=int32)\n"
     ]
    },
    {
     "name": "stderr",
     "output_type": "stream",
     "text": [
      " 35%|███▌      | 2917/8334 [03:02<05:38, 16.00it/s]"
     ]
    },
    {
     "name": "stdout",
     "output_type": "stream",
     "text": [
      "Iter 2920.0, Minibatch Loss= 0.895815, Training Accuracy= 0.50000\n",
      "c Tensor(\"Accuracy/Cast:0\", shape=(12,), dtype=int32)\n",
      "y Tensor(\"Accuracy/Cast_1:0\", shape=(12,), dtype=int32)\n"
     ]
    },
    {
     "name": "stderr",
     "output_type": "stream",
     "text": [
      " 35%|███▌      | 2937/8334 [03:03<05:37, 16.00it/s]"
     ]
    },
    {
     "name": "stdout",
     "output_type": "stream",
     "text": [
      "Iter 2940.0, Minibatch Loss= 0.893936, Training Accuracy= 0.50000\n",
      "c Tensor(\"Accuracy/Cast:0\", shape=(12,), dtype=int32)\n",
      "y Tensor(\"Accuracy/Cast_1:0\", shape=(12,), dtype=int32)\n"
     ]
    },
    {
     "name": "stderr",
     "output_type": "stream",
     "text": [
      " 35%|███▌      | 2957/8334 [03:04<05:35, 16.00it/s]"
     ]
    },
    {
     "name": "stdout",
     "output_type": "stream",
     "text": [
      "Iter 2960.0, Minibatch Loss= 0.921213, Training Accuracy= 0.41667\n",
      "c Tensor(\"Accuracy/Cast:0\", shape=(12,), dtype=int32)\n",
      "y Tensor(\"Accuracy/Cast_1:0\", shape=(12,), dtype=int32)\n"
     ]
    },
    {
     "name": "stderr",
     "output_type": "stream",
     "text": [
      " 36%|███▌      | 2977/8334 [03:06<05:34, 16.01it/s]"
     ]
    },
    {
     "name": "stdout",
     "output_type": "stream",
     "text": [
      "Iter 2980.0, Minibatch Loss= 0.850350, Training Accuracy= 0.50000\n",
      "c Tensor(\"Accuracy/Cast:0\", shape=(12,), dtype=int32)\n",
      "y Tensor(\"Accuracy/Cast_1:0\", shape=(12,), dtype=int32)\n"
     ]
    },
    {
     "name": "stderr",
     "output_type": "stream",
     "text": [
      " 36%|███▌      | 2997/8334 [03:07<05:33, 16.00it/s]"
     ]
    },
    {
     "name": "stdout",
     "output_type": "stream",
     "text": [
      "Iter 3000.0, Minibatch Loss= 0.985634, Training Accuracy= 0.33333\n",
      "c Tensor(\"Accuracy/Cast:0\", shape=(12,), dtype=int32)\n",
      "y Tensor(\"Accuracy/Cast_1:0\", shape=(12,), dtype=int32)\n"
     ]
    },
    {
     "name": "stderr",
     "output_type": "stream",
     "text": [
      " 36%|███▌      | 3017/8334 [03:08<05:32, 16.01it/s]"
     ]
    },
    {
     "name": "stdout",
     "output_type": "stream",
     "text": [
      "Iter 3020.0, Minibatch Loss= 0.821608, Training Accuracy= 0.50000\n",
      "c Tensor(\"Accuracy/Cast:0\", shape=(12,), dtype=int32)\n",
      "y Tensor(\"Accuracy/Cast_1:0\", shape=(12,), dtype=int32)\n"
     ]
    },
    {
     "name": "stderr",
     "output_type": "stream",
     "text": [
      " 36%|███▋      | 3037/8334 [03:09<05:30, 16.00it/s]"
     ]
    },
    {
     "name": "stdout",
     "output_type": "stream",
     "text": [
      "Iter 3040.0, Minibatch Loss= 1.060725, Training Accuracy= 0.16667\n",
      "c Tensor(\"Accuracy/Cast:0\", shape=(12,), dtype=int32)\n",
      "y Tensor(\"Accuracy/Cast_1:0\", shape=(12,), dtype=int32)\n"
     ]
    },
    {
     "name": "stderr",
     "output_type": "stream",
     "text": [
      " 37%|███▋      | 3057/8334 [03:10<05:29, 16.01it/s]"
     ]
    },
    {
     "name": "stdout",
     "output_type": "stream",
     "text": [
      "Iter 3060.0, Minibatch Loss= 0.884093, Training Accuracy= 0.25000\n",
      "c Tensor(\"Accuracy/Cast:0\", shape=(12,), dtype=int32)\n",
      "y Tensor(\"Accuracy/Cast_1:0\", shape=(12,), dtype=int32)\n"
     ]
    },
    {
     "name": "stderr",
     "output_type": "stream",
     "text": [
      " 37%|███▋      | 3077/8334 [03:12<05:28, 15.99it/s]"
     ]
    },
    {
     "name": "stdout",
     "output_type": "stream",
     "text": [
      "Iter 3080.0, Minibatch Loss= 0.844358, Training Accuracy= 0.66667\n",
      "c Tensor(\"Accuracy/Cast:0\", shape=(12,), dtype=int32)\n",
      "y Tensor(\"Accuracy/Cast_1:0\", shape=(12,), dtype=int32)\n"
     ]
    },
    {
     "name": "stderr",
     "output_type": "stream",
     "text": [
      " 37%|███▋      | 3097/8334 [03:13<05:27, 15.99it/s]"
     ]
    },
    {
     "name": "stdout",
     "output_type": "stream",
     "text": [
      "Iter 3100.0, Minibatch Loss= 0.857326, Training Accuracy= 0.50000\n",
      "c Tensor(\"Accuracy/Cast:0\", shape=(12,), dtype=int32)\n",
      "y Tensor(\"Accuracy/Cast_1:0\", shape=(12,), dtype=int32)\n"
     ]
    },
    {
     "name": "stderr",
     "output_type": "stream",
     "text": [
      " 37%|███▋      | 3117/8334 [03:14<05:26, 15.99it/s]"
     ]
    },
    {
     "name": "stdout",
     "output_type": "stream",
     "text": [
      "Iter 3120.0, Minibatch Loss= 0.967539, Training Accuracy= 0.50000\n",
      "c Tensor(\"Accuracy/Cast:0\", shape=(12,), dtype=int32)\n",
      "y Tensor(\"Accuracy/Cast_1:0\", shape=(12,), dtype=int32)\n"
     ]
    },
    {
     "name": "stderr",
     "output_type": "stream",
     "text": [
      " 38%|███▊      | 3137/8334 [03:16<05:24, 16.00it/s]"
     ]
    },
    {
     "name": "stdout",
     "output_type": "stream",
     "text": [
      "Iter 3140.0, Minibatch Loss= 0.968551, Training Accuracy= 0.58333\n",
      "c Tensor(\"Accuracy/Cast:0\", shape=(12,), dtype=int32)\n",
      "y Tensor(\"Accuracy/Cast_1:0\", shape=(12,), dtype=int32)\n"
     ]
    },
    {
     "name": "stderr",
     "output_type": "stream",
     "text": [
      " 38%|███▊      | 3157/8334 [03:17<05:23, 16.00it/s]"
     ]
    },
    {
     "name": "stdout",
     "output_type": "stream",
     "text": [
      "Iter 3160.0, Minibatch Loss= 0.773553, Training Accuracy= 0.83333\n",
      "c Tensor(\"Accuracy/Cast:0\", shape=(12,), dtype=int32)\n",
      "y Tensor(\"Accuracy/Cast_1:0\", shape=(12,), dtype=int32)\n"
     ]
    },
    {
     "name": "stderr",
     "output_type": "stream",
     "text": [
      " 38%|███▊      | 3177/8334 [03:18<05:22, 16.00it/s]"
     ]
    },
    {
     "name": "stdout",
     "output_type": "stream",
     "text": [
      "Iter 3180.0, Minibatch Loss= 1.149433, Training Accuracy= 0.58333\n",
      "c Tensor(\"Accuracy/Cast:0\", shape=(12,), dtype=int32)\n",
      "y Tensor(\"Accuracy/Cast_1:0\", shape=(12,), dtype=int32)\n"
     ]
    },
    {
     "name": "stderr",
     "output_type": "stream",
     "text": [
      " 38%|███▊      | 3197/8334 [03:19<05:21, 16.00it/s]"
     ]
    },
    {
     "name": "stdout",
     "output_type": "stream",
     "text": [
      "Iter 3200.0, Minibatch Loss= 0.867962, Training Accuracy= 0.50000\n",
      "c Tensor(\"Accuracy/Cast:0\", shape=(12,), dtype=int32)\n",
      "y Tensor(\"Accuracy/Cast_1:0\", shape=(12,), dtype=int32)\n"
     ]
    },
    {
     "name": "stderr",
     "output_type": "stream",
     "text": [
      " 39%|███▊      | 3217/8334 [03:21<05:19, 16.00it/s]"
     ]
    },
    {
     "name": "stdout",
     "output_type": "stream",
     "text": [
      "Iter 3220.0, Minibatch Loss= 0.885757, Training Accuracy= 0.41667\n",
      "c Tensor(\"Accuracy/Cast:0\", shape=(12,), dtype=int32)\n",
      "y Tensor(\"Accuracy/Cast_1:0\", shape=(12,), dtype=int32)\n"
     ]
    },
    {
     "name": "stderr",
     "output_type": "stream",
     "text": [
      " 39%|███▉      | 3237/8334 [03:22<05:18, 16.00it/s]"
     ]
    },
    {
     "name": "stdout",
     "output_type": "stream",
     "text": [
      "Iter 3240.0, Minibatch Loss= 1.004567, Training Accuracy= 0.58333\n",
      "c Tensor(\"Accuracy/Cast:0\", shape=(12,), dtype=int32)\n",
      "y Tensor(\"Accuracy/Cast_1:0\", shape=(12,), dtype=int32)\n"
     ]
    },
    {
     "name": "stderr",
     "output_type": "stream",
     "text": [
      " 39%|███▉      | 3257/8334 [03:23<05:17, 16.00it/s]"
     ]
    },
    {
     "name": "stdout",
     "output_type": "stream",
     "text": [
      "Iter 3260.0, Minibatch Loss= 0.902706, Training Accuracy= 0.58333\n",
      "c Tensor(\"Accuracy/Cast:0\", shape=(12,), dtype=int32)\n",
      "y Tensor(\"Accuracy/Cast_1:0\", shape=(12,), dtype=int32)\n"
     ]
    },
    {
     "name": "stderr",
     "output_type": "stream",
     "text": [
      " 39%|███▉      | 3277/8334 [03:24<05:16, 16.00it/s]"
     ]
    },
    {
     "name": "stdout",
     "output_type": "stream",
     "text": [
      "Iter 3280.0, Minibatch Loss= 0.852291, Training Accuracy= 0.66667\n",
      "c Tensor(\"Accuracy/Cast:0\", shape=(12,), dtype=int32)\n",
      "y Tensor(\"Accuracy/Cast_1:0\", shape=(12,), dtype=int32)\n"
     ]
    },
    {
     "name": "stderr",
     "output_type": "stream",
     "text": [
      " 40%|███▉      | 3297/8334 [03:26<05:14, 16.00it/s]"
     ]
    },
    {
     "name": "stdout",
     "output_type": "stream",
     "text": [
      "Iter 3300.0, Minibatch Loss= 0.960724, Training Accuracy= 0.41667\n",
      "c Tensor(\"Accuracy/Cast:0\", shape=(12,), dtype=int32)\n",
      "y Tensor(\"Accuracy/Cast_1:0\", shape=(12,), dtype=int32)\n"
     ]
    },
    {
     "name": "stderr",
     "output_type": "stream",
     "text": [
      " 40%|███▉      | 3317/8334 [03:27<05:13, 16.00it/s]"
     ]
    },
    {
     "name": "stdout",
     "output_type": "stream",
     "text": [
      "Iter 3320.0, Minibatch Loss= 0.889100, Training Accuracy= 0.50000\n",
      "c Tensor(\"Accuracy/Cast:0\", shape=(12,), dtype=int32)\n",
      "y Tensor(\"Accuracy/Cast_1:0\", shape=(12,), dtype=int32)\n"
     ]
    },
    {
     "name": "stderr",
     "output_type": "stream",
     "text": [
      " 40%|████      | 3337/8334 [03:28<05:12, 16.01it/s]"
     ]
    },
    {
     "name": "stdout",
     "output_type": "stream",
     "text": [
      "Iter 3340.0, Minibatch Loss= 0.968823, Training Accuracy= 0.58333\n",
      "c Tensor(\"Accuracy/Cast:0\", shape=(12,), dtype=int32)\n",
      "y Tensor(\"Accuracy/Cast_1:0\", shape=(12,), dtype=int32)\n"
     ]
    },
    {
     "name": "stderr",
     "output_type": "stream",
     "text": [
      " 40%|████      | 3357/8334 [03:29<05:10, 16.00it/s]"
     ]
    },
    {
     "name": "stdout",
     "output_type": "stream",
     "text": [
      "Iter 3360.0, Minibatch Loss= 1.007077, Training Accuracy= 0.58333\n",
      "c Tensor(\"Accuracy/Cast:0\", shape=(12,), dtype=int32)\n",
      "y Tensor(\"Accuracy/Cast_1:0\", shape=(12,), dtype=int32)\n"
     ]
    },
    {
     "name": "stderr",
     "output_type": "stream",
     "text": [
      " 41%|████      | 3377/8334 [03:31<05:09, 16.00it/s]"
     ]
    },
    {
     "name": "stdout",
     "output_type": "stream",
     "text": [
      "Iter 3380.0, Minibatch Loss= 1.045372, Training Accuracy= 0.33333\n",
      "c Tensor(\"Accuracy/Cast:0\", shape=(12,), dtype=int32)\n",
      "y Tensor(\"Accuracy/Cast_1:0\", shape=(12,), dtype=int32)\n"
     ]
    },
    {
     "name": "stderr",
     "output_type": "stream",
     "text": [
      " 41%|████      | 3397/8334 [03:32<05:08, 16.00it/s]"
     ]
    },
    {
     "name": "stdout",
     "output_type": "stream",
     "text": [
      "Iter 3400.0, Minibatch Loss= 1.102821, Training Accuracy= 0.50000\n",
      "c Tensor(\"Accuracy/Cast:0\", shape=(12,), dtype=int32)\n",
      "y Tensor(\"Accuracy/Cast_1:0\", shape=(12,), dtype=int32)\n"
     ]
    },
    {
     "name": "stderr",
     "output_type": "stream",
     "text": [
      " 41%|████      | 3417/8334 [03:33<05:07, 16.00it/s]"
     ]
    },
    {
     "name": "stdout",
     "output_type": "stream",
     "text": [
      "Iter 3420.0, Minibatch Loss= 0.910521, Training Accuracy= 0.41667\n",
      "c Tensor(\"Accuracy/Cast:0\", shape=(12,), dtype=int32)\n",
      "y Tensor(\"Accuracy/Cast_1:0\", shape=(12,), dtype=int32)\n"
     ]
    },
    {
     "name": "stderr",
     "output_type": "stream",
     "text": [
      " 41%|████      | 3437/8334 [03:34<05:05, 16.01it/s]"
     ]
    },
    {
     "name": "stdout",
     "output_type": "stream",
     "text": [
      "Iter 3440.0, Minibatch Loss= 0.827029, Training Accuracy= 0.66667\n",
      "c Tensor(\"Accuracy/Cast:0\", shape=(12,), dtype=int32)\n",
      "y Tensor(\"Accuracy/Cast_1:0\", shape=(12,), dtype=int32)\n"
     ]
    },
    {
     "name": "stderr",
     "output_type": "stream",
     "text": [
      " 41%|████▏     | 3457/8334 [03:36<05:04, 15.99it/s]"
     ]
    },
    {
     "name": "stdout",
     "output_type": "stream",
     "text": [
      "Iter 3460.0, Minibatch Loss= 0.743585, Training Accuracy= 0.58333\n",
      "c Tensor(\"Accuracy/Cast:0\", shape=(12,), dtype=int32)\n",
      "y Tensor(\"Accuracy/Cast_1:0\", shape=(12,), dtype=int32)\n"
     ]
    },
    {
     "name": "stderr",
     "output_type": "stream",
     "text": [
      " 42%|████▏     | 3478/8334 [03:37<05:03, 16.00it/s]"
     ]
    },
    {
     "name": "stdout",
     "output_type": "stream",
     "text": [
      "Iter 3480.0, Minibatch Loss= 0.865517, Training Accuracy= 0.66667\n",
      "c Tensor(\"Accuracy/Cast:0\", shape=(12,), dtype=int32)\n",
      "y Tensor(\"Accuracy/Cast_1:0\", shape=(12,), dtype=int32)\n"
     ]
    },
    {
     "name": "stderr",
     "output_type": "stream",
     "text": [
      " 42%|████▏     | 3498/8334 [03:38<05:02, 16.00it/s]"
     ]
    },
    {
     "name": "stdout",
     "output_type": "stream",
     "text": [
      "Iter 3500.0, Minibatch Loss= 0.849355, Training Accuracy= 0.50000\n",
      "c Tensor(\"Accuracy/Cast:0\", shape=(12,), dtype=int32)\n",
      "y Tensor(\"Accuracy/Cast_1:0\", shape=(12,), dtype=int32)\n"
     ]
    },
    {
     "name": "stderr",
     "output_type": "stream",
     "text": [
      " 42%|████▏     | 3518/8334 [03:39<05:01, 16.00it/s]"
     ]
    },
    {
     "name": "stdout",
     "output_type": "stream",
     "text": [
      "Iter 3520.0, Minibatch Loss= 0.812900, Training Accuracy= 0.75000\n",
      "c Tensor(\"Accuracy/Cast:0\", shape=(12,), dtype=int32)\n",
      "y Tensor(\"Accuracy/Cast_1:0\", shape=(12,), dtype=int32)\n"
     ]
    },
    {
     "name": "stderr",
     "output_type": "stream",
     "text": [
      " 42%|████▏     | 3538/8334 [03:41<04:59, 16.00it/s]"
     ]
    },
    {
     "name": "stdout",
     "output_type": "stream",
     "text": [
      "Iter 3540.0, Minibatch Loss= 0.831740, Training Accuracy= 0.66667\n",
      "c Tensor(\"Accuracy/Cast:0\", shape=(12,), dtype=int32)\n",
      "y Tensor(\"Accuracy/Cast_1:0\", shape=(12,), dtype=int32)\n"
     ]
    },
    {
     "name": "stderr",
     "output_type": "stream",
     "text": [
      " 43%|████▎     | 3558/8334 [03:42<04:58, 15.99it/s]"
     ]
    },
    {
     "name": "stdout",
     "output_type": "stream",
     "text": [
      "Iter 3560.0, Minibatch Loss= 1.098085, Training Accuracy= 0.16667\n",
      "c Tensor(\"Accuracy/Cast:0\", shape=(12,), dtype=int32)\n",
      "y Tensor(\"Accuracy/Cast_1:0\", shape=(12,), dtype=int32)\n"
     ]
    },
    {
     "name": "stderr",
     "output_type": "stream",
     "text": [
      " 43%|████▎     | 3578/8334 [03:43<04:57, 15.99it/s]"
     ]
    },
    {
     "name": "stdout",
     "output_type": "stream",
     "text": [
      "Iter 3580.0, Minibatch Loss= 0.965703, Training Accuracy= 0.33333\n",
      "c Tensor(\"Accuracy/Cast:0\", shape=(12,), dtype=int32)\n",
      "y Tensor(\"Accuracy/Cast_1:0\", shape=(12,), dtype=int32)\n"
     ]
    },
    {
     "name": "stderr",
     "output_type": "stream",
     "text": [
      " 43%|████▎     | 3598/8334 [03:44<04:56, 15.99it/s]"
     ]
    },
    {
     "name": "stdout",
     "output_type": "stream",
     "text": [
      "Iter 3600.0, Minibatch Loss= 0.963947, Training Accuracy= 0.50000\n",
      "c Tensor(\"Accuracy/Cast:0\", shape=(12,), dtype=int32)\n",
      "y Tensor(\"Accuracy/Cast_1:0\", shape=(12,), dtype=int32)\n"
     ]
    },
    {
     "name": "stderr",
     "output_type": "stream",
     "text": [
      " 43%|████▎     | 3618/8334 [03:46<04:54, 15.99it/s]"
     ]
    },
    {
     "name": "stdout",
     "output_type": "stream",
     "text": [
      "Iter 3620.0, Minibatch Loss= 1.158706, Training Accuracy= 0.25000\n",
      "c Tensor(\"Accuracy/Cast:0\", shape=(12,), dtype=int32)\n",
      "y Tensor(\"Accuracy/Cast_1:0\", shape=(12,), dtype=int32)\n"
     ]
    },
    {
     "name": "stderr",
     "output_type": "stream",
     "text": [
      " 44%|████▎     | 3638/8334 [03:47<04:53, 15.99it/s]"
     ]
    },
    {
     "name": "stdout",
     "output_type": "stream",
     "text": [
      "Iter 3640.0, Minibatch Loss= 0.748834, Training Accuracy= 0.75000\n",
      "c Tensor(\"Accuracy/Cast:0\", shape=(12,), dtype=int32)\n",
      "y Tensor(\"Accuracy/Cast_1:0\", shape=(12,), dtype=int32)\n"
     ]
    },
    {
     "name": "stderr",
     "output_type": "stream",
     "text": [
      " 44%|████▍     | 3658/8334 [03:48<04:52, 15.99it/s]"
     ]
    },
    {
     "name": "stdout",
     "output_type": "stream",
     "text": [
      "Iter 3660.0, Minibatch Loss= 0.879324, Training Accuracy= 0.50000\n",
      "c Tensor(\"Accuracy/Cast:0\", shape=(12,), dtype=int32)\n",
      "y Tensor(\"Accuracy/Cast_1:0\", shape=(12,), dtype=int32)\n"
     ]
    },
    {
     "name": "stderr",
     "output_type": "stream",
     "text": [
      " 44%|████▍     | 3678/8334 [03:49<04:51, 15.99it/s]"
     ]
    },
    {
     "name": "stdout",
     "output_type": "stream",
     "text": [
      "Iter 3680.0, Minibatch Loss= 0.937579, Training Accuracy= 0.41667\n",
      "c Tensor(\"Accuracy/Cast:0\", shape=(12,), dtype=int32)\n",
      "y Tensor(\"Accuracy/Cast_1:0\", shape=(12,), dtype=int32)\n"
     ]
    },
    {
     "name": "stderr",
     "output_type": "stream",
     "text": [
      " 44%|████▍     | 3698/8334 [03:51<04:49, 15.99it/s]"
     ]
    },
    {
     "name": "stdout",
     "output_type": "stream",
     "text": [
      "Iter 3700.0, Minibatch Loss= 1.032112, Training Accuracy= 0.33333\n",
      "c Tensor(\"Accuracy/Cast:0\", shape=(12,), dtype=int32)\n",
      "y Tensor(\"Accuracy/Cast_1:0\", shape=(12,), dtype=int32)\n"
     ]
    },
    {
     "name": "stderr",
     "output_type": "stream",
     "text": [
      " 45%|████▍     | 3718/8334 [03:52<04:48, 15.99it/s]"
     ]
    },
    {
     "name": "stdout",
     "output_type": "stream",
     "text": [
      "Iter 3720.0, Minibatch Loss= 0.883814, Training Accuracy= 0.58333\n",
      "c Tensor(\"Accuracy/Cast:0\", shape=(12,), dtype=int32)\n",
      "y Tensor(\"Accuracy/Cast_1:0\", shape=(12,), dtype=int32)\n"
     ]
    },
    {
     "name": "stderr",
     "output_type": "stream",
     "text": [
      " 45%|████▍     | 3738/8334 [03:53<04:47, 15.99it/s]"
     ]
    },
    {
     "name": "stdout",
     "output_type": "stream",
     "text": [
      "Iter 3740.0, Minibatch Loss= 0.739848, Training Accuracy= 0.58333\n",
      "c Tensor(\"Accuracy/Cast:0\", shape=(12,), dtype=int32)\n",
      "y Tensor(\"Accuracy/Cast_1:0\", shape=(12,), dtype=int32)\n"
     ]
    },
    {
     "name": "stderr",
     "output_type": "stream",
     "text": [
      " 45%|████▌     | 3758/8334 [03:54<04:46, 15.99it/s]"
     ]
    },
    {
     "name": "stdout",
     "output_type": "stream",
     "text": [
      "Iter 3760.0, Minibatch Loss= 0.982425, Training Accuracy= 0.50000\n",
      "c Tensor(\"Accuracy/Cast:0\", shape=(12,), dtype=int32)\n",
      "y Tensor(\"Accuracy/Cast_1:0\", shape=(12,), dtype=int32)\n"
     ]
    },
    {
     "name": "stderr",
     "output_type": "stream",
     "text": [
      " 45%|████▌     | 3778/8334 [03:56<04:44, 16.00it/s]"
     ]
    },
    {
     "name": "stdout",
     "output_type": "stream",
     "text": [
      "Iter 3780.0, Minibatch Loss= 0.575180, Training Accuracy= 0.83333\n",
      "c Tensor(\"Accuracy/Cast:0\", shape=(12,), dtype=int32)\n",
      "y Tensor(\"Accuracy/Cast_1:0\", shape=(12,), dtype=int32)\n"
     ]
    },
    {
     "name": "stderr",
     "output_type": "stream",
     "text": [
      " 46%|████▌     | 3798/8334 [03:57<04:43, 16.00it/s]"
     ]
    },
    {
     "name": "stdout",
     "output_type": "stream",
     "text": [
      "Iter 3800.0, Minibatch Loss= 0.927134, Training Accuracy= 0.41667\n",
      "c Tensor(\"Accuracy/Cast:0\", shape=(12,), dtype=int32)\n",
      "y Tensor(\"Accuracy/Cast_1:0\", shape=(12,), dtype=int32)\n"
     ]
    },
    {
     "name": "stderr",
     "output_type": "stream",
     "text": [
      " 46%|████▌     | 3818/8334 [03:58<04:42, 16.00it/s]"
     ]
    },
    {
     "name": "stdout",
     "output_type": "stream",
     "text": [
      "Iter 3820.0, Minibatch Loss= 1.054001, Training Accuracy= 0.33333\n",
      "c Tensor(\"Accuracy/Cast:0\", shape=(12,), dtype=int32)\n",
      "y Tensor(\"Accuracy/Cast_1:0\", shape=(12,), dtype=int32)\n"
     ]
    },
    {
     "name": "stderr",
     "output_type": "stream",
     "text": [
      " 46%|████▌     | 3839/8334 [04:00<04:41, 15.99it/s]"
     ]
    },
    {
     "name": "stdout",
     "output_type": "stream",
     "text": [
      "Iter 3840.0, Minibatch Loss= 1.102357, Training Accuracy= 0.50000\n",
      "c Tensor(\"Accuracy/Cast:0\", shape=(12,), dtype=int32)\n",
      "y Tensor(\"Accuracy/Cast_1:0\", shape=(12,), dtype=int32)\n"
     ]
    },
    {
     "name": "stderr",
     "output_type": "stream",
     "text": [
      " 46%|████▋     | 3859/8334 [04:01<04:39, 15.99it/s]"
     ]
    },
    {
     "name": "stdout",
     "output_type": "stream",
     "text": [
      "Iter 3860.0, Minibatch Loss= 0.874397, Training Accuracy= 0.50000\n",
      "c Tensor(\"Accuracy/Cast:0\", shape=(12,), dtype=int32)\n",
      "y Tensor(\"Accuracy/Cast_1:0\", shape=(12,), dtype=int32)\n"
     ]
    },
    {
     "name": "stderr",
     "output_type": "stream",
     "text": [
      " 47%|████▋     | 3879/8334 [04:02<04:38, 15.99it/s]"
     ]
    },
    {
     "name": "stdout",
     "output_type": "stream",
     "text": [
      "Iter 3880.0, Minibatch Loss= 0.718806, Training Accuracy= 0.58333\n",
      "c Tensor(\"Accuracy/Cast:0\", shape=(12,), dtype=int32)\n",
      "y Tensor(\"Accuracy/Cast_1:0\", shape=(12,), dtype=int32)\n"
     ]
    },
    {
     "name": "stderr",
     "output_type": "stream",
     "text": [
      " 47%|████▋     | 3899/8334 [04:03<04:37, 15.99it/s]"
     ]
    },
    {
     "name": "stdout",
     "output_type": "stream",
     "text": [
      "Iter 3900.0, Minibatch Loss= 0.882268, Training Accuracy= 0.75000\n",
      "c Tensor(\"Accuracy/Cast:0\", shape=(12,), dtype=int32)\n",
      "y Tensor(\"Accuracy/Cast_1:0\", shape=(12,), dtype=int32)\n"
     ]
    },
    {
     "name": "stderr",
     "output_type": "stream",
     "text": [
      " 47%|████▋     | 3919/8334 [04:05<04:36, 15.99it/s]"
     ]
    },
    {
     "name": "stdout",
     "output_type": "stream",
     "text": [
      "Iter 3920.0, Minibatch Loss= 0.739141, Training Accuracy= 0.50000\n",
      "c Tensor(\"Accuracy/Cast:0\", shape=(12,), dtype=int32)\n",
      "y Tensor(\"Accuracy/Cast_1:0\", shape=(12,), dtype=int32)\n"
     ]
    },
    {
     "name": "stderr",
     "output_type": "stream",
     "text": [
      " 47%|████▋     | 3939/8334 [04:06<04:34, 15.99it/s]"
     ]
    },
    {
     "name": "stdout",
     "output_type": "stream",
     "text": [
      "Iter 3940.0, Minibatch Loss= 0.792970, Training Accuracy= 0.50000\n",
      "c Tensor(\"Accuracy/Cast:0\", shape=(12,), dtype=int32)\n",
      "y Tensor(\"Accuracy/Cast_1:0\", shape=(12,), dtype=int32)\n"
     ]
    },
    {
     "name": "stderr",
     "output_type": "stream",
     "text": [
      " 48%|████▊     | 3959/8334 [04:07<04:33, 15.99it/s]"
     ]
    },
    {
     "name": "stdout",
     "output_type": "stream",
     "text": [
      "Iter 3960.0, Minibatch Loss= 0.664559, Training Accuracy= 0.66667\n",
      "c Tensor(\"Accuracy/Cast:0\", shape=(12,), dtype=int32)\n",
      "y Tensor(\"Accuracy/Cast_1:0\", shape=(12,), dtype=int32)\n"
     ]
    },
    {
     "name": "stderr",
     "output_type": "stream",
     "text": [
      " 48%|████▊     | 3979/8334 [04:08<04:32, 15.99it/s]"
     ]
    },
    {
     "name": "stdout",
     "output_type": "stream",
     "text": [
      "Iter 3980.0, Minibatch Loss= 0.982263, Training Accuracy= 0.33333\n",
      "c Tensor(\"Accuracy/Cast:0\", shape=(12,), dtype=int32)\n",
      "y Tensor(\"Accuracy/Cast_1:0\", shape=(12,), dtype=int32)\n"
     ]
    },
    {
     "name": "stderr",
     "output_type": "stream",
     "text": [
      " 48%|████▊     | 3999/8334 [04:10<04:31, 15.99it/s]"
     ]
    },
    {
     "name": "stdout",
     "output_type": "stream",
     "text": [
      "Iter 4000.0, Minibatch Loss= 1.054591, Training Accuracy= 0.66667\n",
      "c Tensor(\"Accuracy/Cast:0\", shape=(12,), dtype=int32)\n",
      "y Tensor(\"Accuracy/Cast_1:0\", shape=(12,), dtype=int32)\n"
     ]
    },
    {
     "name": "stderr",
     "output_type": "stream",
     "text": [
      " 48%|████▊     | 4019/8334 [04:11<04:29, 15.99it/s]"
     ]
    },
    {
     "name": "stdout",
     "output_type": "stream",
     "text": [
      "Iter 4020.0, Minibatch Loss= 0.708120, Training Accuracy= 0.41667\n",
      "c Tensor(\"Accuracy/Cast:0\", shape=(12,), dtype=int32)\n",
      "y Tensor(\"Accuracy/Cast_1:0\", shape=(12,), dtype=int32)\n"
     ]
    },
    {
     "name": "stderr",
     "output_type": "stream",
     "text": [
      " 48%|████▊     | 4039/8334 [04:12<04:28, 15.99it/s]"
     ]
    },
    {
     "name": "stdout",
     "output_type": "stream",
     "text": [
      "Iter 4040.0, Minibatch Loss= 0.737050, Training Accuracy= 0.66667\n",
      "c Tensor(\"Accuracy/Cast:0\", shape=(12,), dtype=int32)\n",
      "y Tensor(\"Accuracy/Cast_1:0\", shape=(12,), dtype=int32)\n"
     ]
    },
    {
     "name": "stderr",
     "output_type": "stream",
     "text": [
      " 49%|████▊     | 4059/8334 [04:13<04:27, 15.99it/s]"
     ]
    },
    {
     "name": "stdout",
     "output_type": "stream",
     "text": [
      "Iter 4060.0, Minibatch Loss= 0.937973, Training Accuracy= 0.50000\n",
      "c Tensor(\"Accuracy/Cast:0\", shape=(12,), dtype=int32)\n",
      "y Tensor(\"Accuracy/Cast_1:0\", shape=(12,), dtype=int32)\n"
     ]
    },
    {
     "name": "stderr",
     "output_type": "stream",
     "text": [
      " 49%|████▉     | 4079/8334 [04:15<04:26, 15.99it/s]"
     ]
    },
    {
     "name": "stdout",
     "output_type": "stream",
     "text": [
      "Iter 4080.0, Minibatch Loss= 0.787895, Training Accuracy= 0.66667\n",
      "c Tensor(\"Accuracy/Cast:0\", shape=(12,), dtype=int32)\n",
      "y Tensor(\"Accuracy/Cast_1:0\", shape=(12,), dtype=int32)\n"
     ]
    },
    {
     "name": "stderr",
     "output_type": "stream",
     "text": [
      " 49%|████▉     | 4099/8334 [04:16<04:24, 15.99it/s]"
     ]
    },
    {
     "name": "stdout",
     "output_type": "stream",
     "text": [
      "Iter 4100.0, Minibatch Loss= 0.763561, Training Accuracy= 0.50000\n",
      "c Tensor(\"Accuracy/Cast:0\", shape=(12,), dtype=int32)\n",
      "y Tensor(\"Accuracy/Cast_1:0\", shape=(12,), dtype=int32)\n"
     ]
    },
    {
     "name": "stderr",
     "output_type": "stream",
     "text": [
      " 49%|████▉     | 4119/8334 [04:17<04:23, 15.99it/s]"
     ]
    },
    {
     "name": "stdout",
     "output_type": "stream",
     "text": [
      "Iter 4120.0, Minibatch Loss= 0.847831, Training Accuracy= 0.58333\n",
      "c Tensor(\"Accuracy/Cast:0\", shape=(12,), dtype=int32)\n",
      "y Tensor(\"Accuracy/Cast_1:0\", shape=(12,), dtype=int32)\n"
     ]
    },
    {
     "name": "stderr",
     "output_type": "stream",
     "text": [
      " 50%|████▉     | 4139/8334 [04:18<04:22, 15.99it/s]"
     ]
    },
    {
     "name": "stdout",
     "output_type": "stream",
     "text": [
      "Iter 4140.0, Minibatch Loss= 0.770500, Training Accuracy= 0.83333\n",
      "c Tensor(\"Accuracy/Cast:0\", shape=(12,), dtype=int32)\n",
      "y Tensor(\"Accuracy/Cast_1:0\", shape=(12,), dtype=int32)\n"
     ]
    },
    {
     "name": "stderr",
     "output_type": "stream",
     "text": [
      " 50%|████▉     | 4159/8334 [04:20<04:21, 15.99it/s]"
     ]
    },
    {
     "name": "stdout",
     "output_type": "stream",
     "text": [
      "Iter 4160.0, Minibatch Loss= 0.947778, Training Accuracy= 0.33333\n",
      "c Tensor(\"Accuracy/Cast:0\", shape=(12,), dtype=int32)\n",
      "y Tensor(\"Accuracy/Cast_1:0\", shape=(12,), dtype=int32)\n"
     ]
    },
    {
     "name": "stderr",
     "output_type": "stream",
     "text": [
      " 50%|█████     | 4179/8334 [04:21<04:19, 15.99it/s]"
     ]
    },
    {
     "name": "stdout",
     "output_type": "stream",
     "text": [
      "Iter 4180.0, Minibatch Loss= 0.883721, Training Accuracy= 0.58333\n",
      "c Tensor(\"Accuracy/Cast:0\", shape=(12,), dtype=int32)\n",
      "y Tensor(\"Accuracy/Cast_1:0\", shape=(12,), dtype=int32)\n"
     ]
    },
    {
     "name": "stderr",
     "output_type": "stream",
     "text": [
      " 50%|█████     | 4199/8334 [04:22<04:18, 15.99it/s]"
     ]
    },
    {
     "name": "stdout",
     "output_type": "stream",
     "text": [
      "Iter 4200.0, Minibatch Loss= 0.898341, Training Accuracy= 0.50000\n",
      "c Tensor(\"Accuracy/Cast:0\", shape=(12,), dtype=int32)\n",
      "y Tensor(\"Accuracy/Cast_1:0\", shape=(12,), dtype=int32)\n"
     ]
    },
    {
     "name": "stderr",
     "output_type": "stream",
     "text": [
      " 51%|█████     | 4219/8334 [04:23<04:17, 15.98it/s]"
     ]
    },
    {
     "name": "stdout",
     "output_type": "stream",
     "text": [
      "Iter 4220.0, Minibatch Loss= 0.873271, Training Accuracy= 0.41667\n",
      "c Tensor(\"Accuracy/Cast:0\", shape=(12,), dtype=int32)\n",
      "y Tensor(\"Accuracy/Cast_1:0\", shape=(12,), dtype=int32)\n"
     ]
    },
    {
     "name": "stderr",
     "output_type": "stream",
     "text": [
      " 51%|█████     | 4239/8334 [04:25<04:16, 15.98it/s]"
     ]
    },
    {
     "name": "stdout",
     "output_type": "stream",
     "text": [
      "Iter 4240.0, Minibatch Loss= 0.938538, Training Accuracy= 0.50000\n",
      "c Tensor(\"Accuracy/Cast:0\", shape=(12,), dtype=int32)\n",
      "y Tensor(\"Accuracy/Cast_1:0\", shape=(12,), dtype=int32)\n"
     ]
    },
    {
     "name": "stderr",
     "output_type": "stream",
     "text": [
      " 51%|█████     | 4259/8334 [04:26<04:14, 15.98it/s]"
     ]
    },
    {
     "name": "stdout",
     "output_type": "stream",
     "text": [
      "Iter 4260.0, Minibatch Loss= 0.891367, Training Accuracy= 0.58333\n",
      "c Tensor(\"Accuracy/Cast:0\", shape=(12,), dtype=int32)\n",
      "y Tensor(\"Accuracy/Cast_1:0\", shape=(12,), dtype=int32)\n"
     ]
    },
    {
     "name": "stderr",
     "output_type": "stream",
     "text": [
      " 51%|█████▏    | 4279/8334 [04:27<04:13, 15.98it/s]"
     ]
    },
    {
     "name": "stdout",
     "output_type": "stream",
     "text": [
      "Iter 4280.0, Minibatch Loss= 0.955722, Training Accuracy= 0.75000\n",
      "c Tensor(\"Accuracy/Cast:0\", shape=(12,), dtype=int32)\n",
      "y Tensor(\"Accuracy/Cast_1:0\", shape=(12,), dtype=int32)\n"
     ]
    },
    {
     "name": "stderr",
     "output_type": "stream",
     "text": [
      " 52%|█████▏    | 4299/8334 [04:29<04:12, 15.98it/s]"
     ]
    },
    {
     "name": "stdout",
     "output_type": "stream",
     "text": [
      "Iter 4300.0, Minibatch Loss= 0.775972, Training Accuracy= 0.25000\n",
      "c Tensor(\"Accuracy/Cast:0\", shape=(12,), dtype=int32)\n",
      "y Tensor(\"Accuracy/Cast_1:0\", shape=(12,), dtype=int32)\n"
     ]
    },
    {
     "name": "stderr",
     "output_type": "stream",
     "text": [
      " 52%|█████▏    | 4319/8334 [04:30<04:11, 15.98it/s]"
     ]
    },
    {
     "name": "stdout",
     "output_type": "stream",
     "text": [
      "Iter 4320.0, Minibatch Loss= 0.897947, Training Accuracy= 0.58333\n",
      "c Tensor(\"Accuracy/Cast:0\", shape=(12,), dtype=int32)\n",
      "y Tensor(\"Accuracy/Cast_1:0\", shape=(12,), dtype=int32)\n"
     ]
    },
    {
     "name": "stderr",
     "output_type": "stream",
     "text": [
      " 52%|█████▏    | 4339/8334 [04:31<04:10, 15.98it/s]"
     ]
    },
    {
     "name": "stdout",
     "output_type": "stream",
     "text": [
      "Iter 4340.0, Minibatch Loss= 0.961440, Training Accuracy= 0.50000\n",
      "c Tensor(\"Accuracy/Cast:0\", shape=(12,), dtype=int32)\n",
      "y Tensor(\"Accuracy/Cast_1:0\", shape=(12,), dtype=int32)\n"
     ]
    },
    {
     "name": "stderr",
     "output_type": "stream",
     "text": [
      " 52%|█████▏    | 4359/8334 [04:32<04:08, 15.98it/s]"
     ]
    },
    {
     "name": "stdout",
     "output_type": "stream",
     "text": [
      "Iter 4360.0, Minibatch Loss= 1.006577, Training Accuracy= 0.75000\n",
      "c Tensor(\"Accuracy/Cast:0\", shape=(12,), dtype=int32)\n",
      "y Tensor(\"Accuracy/Cast_1:0\", shape=(12,), dtype=int32)\n"
     ]
    },
    {
     "name": "stderr",
     "output_type": "stream",
     "text": [
      " 53%|█████▎    | 4379/8334 [04:34<04:07, 15.98it/s]"
     ]
    },
    {
     "name": "stdout",
     "output_type": "stream",
     "text": [
      "Iter 4380.0, Minibatch Loss= 0.763286, Training Accuracy= 0.41667\n",
      "c Tensor(\"Accuracy/Cast:0\", shape=(12,), dtype=int32)\n",
      "y Tensor(\"Accuracy/Cast_1:0\", shape=(12,), dtype=int32)\n"
     ]
    },
    {
     "name": "stderr",
     "output_type": "stream",
     "text": [
      " 53%|█████▎    | 4399/8334 [04:35<04:06, 15.98it/s]"
     ]
    },
    {
     "name": "stdout",
     "output_type": "stream",
     "text": [
      "Iter 4400.0, Minibatch Loss= 0.874809, Training Accuracy= 0.66667\n",
      "c Tensor(\"Accuracy/Cast:0\", shape=(12,), dtype=int32)\n",
      "y Tensor(\"Accuracy/Cast_1:0\", shape=(12,), dtype=int32)\n"
     ]
    },
    {
     "name": "stderr",
     "output_type": "stream",
     "text": [
      " 53%|█████▎    | 4419/8334 [04:36<04:05, 15.98it/s]"
     ]
    },
    {
     "name": "stdout",
     "output_type": "stream",
     "text": [
      "Iter 4420.0, Minibatch Loss= 0.762268, Training Accuracy= 0.75000\n",
      "c Tensor(\"Accuracy/Cast:0\", shape=(12,), dtype=int32)\n",
      "y Tensor(\"Accuracy/Cast_1:0\", shape=(12,), dtype=int32)\n"
     ]
    },
    {
     "name": "stderr",
     "output_type": "stream",
     "text": [
      " 53%|█████▎    | 4439/8334 [04:37<04:03, 15.98it/s]"
     ]
    },
    {
     "name": "stdout",
     "output_type": "stream",
     "text": [
      "Iter 4440.0, Minibatch Loss= 0.610521, Training Accuracy= 0.41667\n",
      "c Tensor(\"Accuracy/Cast:0\", shape=(12,), dtype=int32)\n",
      "y Tensor(\"Accuracy/Cast_1:0\", shape=(12,), dtype=int32)\n"
     ]
    },
    {
     "name": "stderr",
     "output_type": "stream",
     "text": [
      " 54%|█████▎    | 4459/8334 [04:39<04:02, 15.98it/s]"
     ]
    },
    {
     "name": "stdout",
     "output_type": "stream",
     "text": [
      "Iter 4460.0, Minibatch Loss= 0.985763, Training Accuracy= 0.50000\n",
      "c Tensor(\"Accuracy/Cast:0\", shape=(12,), dtype=int32)\n",
      "y Tensor(\"Accuracy/Cast_1:0\", shape=(12,), dtype=int32)\n"
     ]
    },
    {
     "name": "stderr",
     "output_type": "stream",
     "text": [
      " 54%|█████▎    | 4479/8334 [04:40<04:01, 15.98it/s]"
     ]
    },
    {
     "name": "stdout",
     "output_type": "stream",
     "text": [
      "Iter 4480.0, Minibatch Loss= 0.976065, Training Accuracy= 0.75000\n",
      "c Tensor(\"Accuracy/Cast:0\", shape=(12,), dtype=int32)\n",
      "y Tensor(\"Accuracy/Cast_1:0\", shape=(12,), dtype=int32)\n"
     ]
    },
    {
     "name": "stderr",
     "output_type": "stream",
     "text": [
      " 54%|█████▍    | 4499/8334 [04:41<04:00, 15.98it/s]"
     ]
    },
    {
     "name": "stdout",
     "output_type": "stream",
     "text": [
      "Iter 4500.0, Minibatch Loss= 0.968506, Training Accuracy= 0.66667\n",
      "c Tensor(\"Accuracy/Cast:0\", shape=(12,), dtype=int32)\n",
      "y Tensor(\"Accuracy/Cast_1:0\", shape=(12,), dtype=int32)\n"
     ]
    },
    {
     "name": "stderr",
     "output_type": "stream",
     "text": [
      " 54%|█████▍    | 4519/8334 [04:42<03:58, 15.98it/s]"
     ]
    },
    {
     "name": "stdout",
     "output_type": "stream",
     "text": [
      "Iter 4520.0, Minibatch Loss= 0.682391, Training Accuracy= 0.66667\n",
      "c Tensor(\"Accuracy/Cast:0\", shape=(12,), dtype=int32)\n",
      "y Tensor(\"Accuracy/Cast_1:0\", shape=(12,), dtype=int32)\n"
     ]
    },
    {
     "name": "stderr",
     "output_type": "stream",
     "text": [
      " 54%|█████▍    | 4539/8334 [04:44<03:57, 15.98it/s]"
     ]
    },
    {
     "name": "stdout",
     "output_type": "stream",
     "text": [
      "Iter 4540.0, Minibatch Loss= 1.081060, Training Accuracy= 0.66667\n",
      "c Tensor(\"Accuracy/Cast:0\", shape=(12,), dtype=int32)\n",
      "y Tensor(\"Accuracy/Cast_1:0\", shape=(12,), dtype=int32)\n"
     ]
    },
    {
     "name": "stderr",
     "output_type": "stream",
     "text": [
      " 55%|█████▍    | 4559/8334 [04:45<03:56, 15.98it/s]"
     ]
    },
    {
     "name": "stdout",
     "output_type": "stream",
     "text": [
      "Iter 4560.0, Minibatch Loss= 0.708208, Training Accuracy= 0.66667\n",
      "c Tensor(\"Accuracy/Cast:0\", shape=(12,), dtype=int32)\n",
      "y Tensor(\"Accuracy/Cast_1:0\", shape=(12,), dtype=int32)\n"
     ]
    },
    {
     "name": "stderr",
     "output_type": "stream",
     "text": [
      " 55%|█████▍    | 4579/8334 [04:46<03:55, 15.98it/s]"
     ]
    },
    {
     "name": "stdout",
     "output_type": "stream",
     "text": [
      "Iter 4580.0, Minibatch Loss= 0.735622, Training Accuracy= 0.50000\n",
      "c Tensor(\"Accuracy/Cast:0\", shape=(12,), dtype=int32)\n",
      "y Tensor(\"Accuracy/Cast_1:0\", shape=(12,), dtype=int32)\n"
     ]
    },
    {
     "name": "stderr",
     "output_type": "stream",
     "text": [
      " 55%|█████▌    | 4599/8334 [04:47<03:53, 15.97it/s]"
     ]
    },
    {
     "name": "stdout",
     "output_type": "stream",
     "text": [
      "Iter 4600.0, Minibatch Loss= 0.674853, Training Accuracy= 0.58333\n",
      "c Tensor(\"Accuracy/Cast:0\", shape=(12,), dtype=int32)\n",
      "y Tensor(\"Accuracy/Cast_1:0\", shape=(12,), dtype=int32)\n"
     ]
    },
    {
     "name": "stderr",
     "output_type": "stream",
     "text": [
      " 55%|█████▌    | 4619/8334 [04:49<03:52, 15.97it/s]"
     ]
    },
    {
     "name": "stdout",
     "output_type": "stream",
     "text": [
      "Iter 4620.0, Minibatch Loss= 0.786015, Training Accuracy= 0.58333\n",
      "c Tensor(\"Accuracy/Cast:0\", shape=(12,), dtype=int32)\n",
      "y Tensor(\"Accuracy/Cast_1:0\", shape=(12,), dtype=int32)\n"
     ]
    },
    {
     "name": "stderr",
     "output_type": "stream",
     "text": [
      " 56%|█████▌    | 4639/8334 [04:50<03:51, 15.97it/s]"
     ]
    },
    {
     "name": "stdout",
     "output_type": "stream",
     "text": [
      "Iter 4640.0, Minibatch Loss= 0.757738, Training Accuracy= 0.58333\n",
      "c Tensor(\"Accuracy/Cast:0\", shape=(12,), dtype=int32)\n",
      "y Tensor(\"Accuracy/Cast_1:0\", shape=(12,), dtype=int32)\n"
     ]
    },
    {
     "name": "stderr",
     "output_type": "stream",
     "text": [
      " 56%|█████▌    | 4659/8334 [04:51<03:50, 15.97it/s]"
     ]
    },
    {
     "name": "stdout",
     "output_type": "stream",
     "text": [
      "Iter 4660.0, Minibatch Loss= 0.776862, Training Accuracy= 0.41667\n",
      "c Tensor(\"Accuracy/Cast:0\", shape=(12,), dtype=int32)\n",
      "y Tensor(\"Accuracy/Cast_1:0\", shape=(12,), dtype=int32)\n"
     ]
    },
    {
     "name": "stderr",
     "output_type": "stream",
     "text": [
      " 56%|█████▌    | 4679/8334 [04:52<03:48, 15.97it/s]"
     ]
    },
    {
     "name": "stdout",
     "output_type": "stream",
     "text": [
      "Iter 4680.0, Minibatch Loss= 1.038880, Training Accuracy= 0.66667\n",
      "c Tensor(\"Accuracy/Cast:0\", shape=(12,), dtype=int32)\n",
      "y Tensor(\"Accuracy/Cast_1:0\", shape=(12,), dtype=int32)\n"
     ]
    },
    {
     "name": "stderr",
     "output_type": "stream",
     "text": [
      " 56%|█████▋    | 4699/8334 [04:54<03:47, 15.97it/s]"
     ]
    },
    {
     "name": "stdout",
     "output_type": "stream",
     "text": [
      "Iter 4700.0, Minibatch Loss= 0.907610, Training Accuracy= 0.66667\n",
      "c Tensor(\"Accuracy/Cast:0\", shape=(12,), dtype=int32)\n",
      "y Tensor(\"Accuracy/Cast_1:0\", shape=(12,), dtype=int32)\n"
     ]
    },
    {
     "name": "stderr",
     "output_type": "stream",
     "text": [
      " 57%|█████▋    | 4719/8334 [04:55<03:46, 15.97it/s]"
     ]
    },
    {
     "name": "stdout",
     "output_type": "stream",
     "text": [
      "Iter 4720.0, Minibatch Loss= 0.793221, Training Accuracy= 0.58333\n",
      "c Tensor(\"Accuracy/Cast:0\", shape=(12,), dtype=int32)\n",
      "y Tensor(\"Accuracy/Cast_1:0\", shape=(12,), dtype=int32)\n"
     ]
    },
    {
     "name": "stderr",
     "output_type": "stream",
     "text": [
      " 57%|█████▋    | 4739/8334 [04:56<03:45, 15.97it/s]"
     ]
    },
    {
     "name": "stdout",
     "output_type": "stream",
     "text": [
      "Iter 4740.0, Minibatch Loss= 1.120826, Training Accuracy= 0.41667\n",
      "c Tensor(\"Accuracy/Cast:0\", shape=(12,), dtype=int32)\n",
      "y Tensor(\"Accuracy/Cast_1:0\", shape=(12,), dtype=int32)\n"
     ]
    },
    {
     "name": "stderr",
     "output_type": "stream",
     "text": [
      " 57%|█████▋    | 4759/8334 [04:57<03:43, 15.97it/s]"
     ]
    },
    {
     "name": "stdout",
     "output_type": "stream",
     "text": [
      "Iter 4760.0, Minibatch Loss= 0.949020, Training Accuracy= 0.66667\n",
      "c Tensor(\"Accuracy/Cast:0\", shape=(12,), dtype=int32)\n",
      "y Tensor(\"Accuracy/Cast_1:0\", shape=(12,), dtype=int32)\n"
     ]
    },
    {
     "name": "stderr",
     "output_type": "stream",
     "text": [
      " 57%|█████▋    | 4779/8334 [04:59<03:42, 15.97it/s]"
     ]
    },
    {
     "name": "stdout",
     "output_type": "stream",
     "text": [
      "Iter 4780.0, Minibatch Loss= 0.863059, Training Accuracy= 0.66667\n",
      "c Tensor(\"Accuracy/Cast:0\", shape=(12,), dtype=int32)\n",
      "y Tensor(\"Accuracy/Cast_1:0\", shape=(12,), dtype=int32)\n"
     ]
    },
    {
     "name": "stderr",
     "output_type": "stream",
     "text": [
      " 58%|█████▊    | 4799/8334 [05:00<03:41, 15.97it/s]"
     ]
    },
    {
     "name": "stdout",
     "output_type": "stream",
     "text": [
      "Iter 4800.0, Minibatch Loss= 1.209336, Training Accuracy= 0.41667\n",
      "c Tensor(\"Accuracy/Cast:0\", shape=(12,), dtype=int32)\n",
      "y Tensor(\"Accuracy/Cast_1:0\", shape=(12,), dtype=int32)\n"
     ]
    },
    {
     "name": "stderr",
     "output_type": "stream",
     "text": [
      " 58%|█████▊    | 4819/8334 [05:01<03:40, 15.97it/s]"
     ]
    },
    {
     "name": "stdout",
     "output_type": "stream",
     "text": [
      "Iter 4820.0, Minibatch Loss= 0.953988, Training Accuracy= 0.66667\n",
      "c Tensor(\"Accuracy/Cast:0\", shape=(12,), dtype=int32)\n",
      "y Tensor(\"Accuracy/Cast_1:0\", shape=(12,), dtype=int32)\n"
     ]
    },
    {
     "name": "stderr",
     "output_type": "stream",
     "text": [
      " 58%|█████▊    | 4839/8334 [05:03<03:38, 15.97it/s]"
     ]
    },
    {
     "name": "stdout",
     "output_type": "stream",
     "text": [
      "Iter 4840.0, Minibatch Loss= 1.130538, Training Accuracy= 0.16667\n",
      "c Tensor(\"Accuracy/Cast:0\", shape=(12,), dtype=int32)\n",
      "y Tensor(\"Accuracy/Cast_1:0\", shape=(12,), dtype=int32)\n"
     ]
    },
    {
     "name": "stderr",
     "output_type": "stream",
     "text": [
      " 58%|█████▊    | 4859/8334 [05:04<03:37, 15.97it/s]"
     ]
    },
    {
     "name": "stdout",
     "output_type": "stream",
     "text": [
      "Iter 4860.0, Minibatch Loss= 0.957850, Training Accuracy= 0.41667\n",
      "c Tensor(\"Accuracy/Cast:0\", shape=(12,), dtype=int32)\n",
      "y Tensor(\"Accuracy/Cast_1:0\", shape=(12,), dtype=int32)\n"
     ]
    },
    {
     "name": "stderr",
     "output_type": "stream",
     "text": [
      " 59%|█████▊    | 4879/8334 [05:05<03:36, 15.97it/s]"
     ]
    },
    {
     "name": "stdout",
     "output_type": "stream",
     "text": [
      "Iter 4880.0, Minibatch Loss= 0.772738, Training Accuracy= 0.50000\n",
      "c Tensor(\"Accuracy/Cast:0\", shape=(12,), dtype=int32)\n",
      "y Tensor(\"Accuracy/Cast_1:0\", shape=(12,), dtype=int32)\n"
     ]
    },
    {
     "name": "stderr",
     "output_type": "stream",
     "text": [
      " 59%|█████▉    | 4899/8334 [05:06<03:35, 15.97it/s]"
     ]
    },
    {
     "name": "stdout",
     "output_type": "stream",
     "text": [
      "Iter 4900.0, Minibatch Loss= 0.733197, Training Accuracy= 0.83333\n",
      "c Tensor(\"Accuracy/Cast:0\", shape=(12,), dtype=int32)\n",
      "y Tensor(\"Accuracy/Cast_1:0\", shape=(12,), dtype=int32)\n"
     ]
    },
    {
     "name": "stderr",
     "output_type": "stream",
     "text": [
      " 59%|█████▉    | 4919/8334 [05:07<03:33, 15.97it/s]"
     ]
    },
    {
     "name": "stdout",
     "output_type": "stream",
     "text": [
      "Iter 4920.0, Minibatch Loss= 0.998534, Training Accuracy= 0.75000\n",
      "c Tensor(\"Accuracy/Cast:0\", shape=(12,), dtype=int32)\n",
      "y Tensor(\"Accuracy/Cast_1:0\", shape=(12,), dtype=int32)\n"
     ]
    },
    {
     "name": "stderr",
     "output_type": "stream",
     "text": [
      " 59%|█████▉    | 4939/8334 [05:09<03:32, 15.97it/s]"
     ]
    },
    {
     "name": "stdout",
     "output_type": "stream",
     "text": [
      "Iter 4940.0, Minibatch Loss= 1.085688, Training Accuracy= 0.50000\n",
      "c Tensor(\"Accuracy/Cast:0\", shape=(12,), dtype=int32)\n",
      "y Tensor(\"Accuracy/Cast_1:0\", shape=(12,), dtype=int32)\n"
     ]
    },
    {
     "name": "stderr",
     "output_type": "stream",
     "text": [
      " 60%|█████▉    | 4959/8334 [05:10<03:31, 15.97it/s]"
     ]
    },
    {
     "name": "stdout",
     "output_type": "stream",
     "text": [
      "Iter 4960.0, Minibatch Loss= 0.685410, Training Accuracy= 0.66667\n",
      "c Tensor(\"Accuracy/Cast:0\", shape=(12,), dtype=int32)\n",
      "y Tensor(\"Accuracy/Cast_1:0\", shape=(12,), dtype=int32)\n"
     ]
    },
    {
     "name": "stderr",
     "output_type": "stream",
     "text": [
      " 60%|█████▉    | 4979/8334 [05:11<03:30, 15.97it/s]"
     ]
    },
    {
     "name": "stdout",
     "output_type": "stream",
     "text": [
      "Iter 4980.0, Minibatch Loss= 0.818290, Training Accuracy= 0.58333\n",
      "c Tensor(\"Accuracy/Cast:0\", shape=(12,), dtype=int32)\n",
      "y Tensor(\"Accuracy/Cast_1:0\", shape=(12,), dtype=int32)\n"
     ]
    },
    {
     "name": "stderr",
     "output_type": "stream",
     "text": [
      " 60%|█████▉    | 4999/8334 [05:13<03:28, 15.97it/s]"
     ]
    },
    {
     "name": "stdout",
     "output_type": "stream",
     "text": [
      "Iter 5000.0, Minibatch Loss= 0.826610, Training Accuracy= 0.66667\n",
      "c Tensor(\"Accuracy/Cast:0\", shape=(12,), dtype=int32)\n",
      "y Tensor(\"Accuracy/Cast_1:0\", shape=(12,), dtype=int32)\n"
     ]
    },
    {
     "name": "stderr",
     "output_type": "stream",
     "text": [
      " 60%|██████    | 5019/8334 [05:14<03:27, 15.97it/s]"
     ]
    },
    {
     "name": "stdout",
     "output_type": "stream",
     "text": [
      "Iter 5020.0, Minibatch Loss= 0.929257, Training Accuracy= 0.41667\n",
      "c Tensor(\"Accuracy/Cast:0\", shape=(12,), dtype=int32)\n",
      "y Tensor(\"Accuracy/Cast_1:0\", shape=(12,), dtype=int32)\n"
     ]
    },
    {
     "name": "stderr",
     "output_type": "stream",
     "text": [
      " 60%|██████    | 5039/8334 [05:15<03:26, 15.97it/s]"
     ]
    },
    {
     "name": "stdout",
     "output_type": "stream",
     "text": [
      "Iter 5040.0, Minibatch Loss= 1.097996, Training Accuracy= 0.33333\n",
      "c Tensor(\"Accuracy/Cast:0\", shape=(12,), dtype=int32)\n",
      "y Tensor(\"Accuracy/Cast_1:0\", shape=(12,), dtype=int32)\n"
     ]
    },
    {
     "name": "stderr",
     "output_type": "stream",
     "text": [
      " 61%|██████    | 5059/8334 [05:16<03:25, 15.97it/s]"
     ]
    },
    {
     "name": "stdout",
     "output_type": "stream",
     "text": [
      "Iter 5060.0, Minibatch Loss= 0.790840, Training Accuracy= 0.66667\n",
      "c Tensor(\"Accuracy/Cast:0\", shape=(12,), dtype=int32)\n",
      "y Tensor(\"Accuracy/Cast_1:0\", shape=(12,), dtype=int32)\n"
     ]
    },
    {
     "name": "stderr",
     "output_type": "stream",
     "text": [
      " 61%|██████    | 5079/8334 [05:18<03:23, 15.97it/s]"
     ]
    },
    {
     "name": "stdout",
     "output_type": "stream",
     "text": [
      "Iter 5080.0, Minibatch Loss= 1.218365, Training Accuracy= 0.58333\n",
      "c Tensor(\"Accuracy/Cast:0\", shape=(12,), dtype=int32)\n",
      "y Tensor(\"Accuracy/Cast_1:0\", shape=(12,), dtype=int32)\n"
     ]
    },
    {
     "name": "stderr",
     "output_type": "stream",
     "text": [
      " 61%|██████    | 5099/8334 [05:19<03:22, 15.97it/s]"
     ]
    },
    {
     "name": "stdout",
     "output_type": "stream",
     "text": [
      "Iter 5100.0, Minibatch Loss= 0.842793, Training Accuracy= 0.58333\n",
      "c Tensor(\"Accuracy/Cast:0\", shape=(12,), dtype=int32)\n",
      "y Tensor(\"Accuracy/Cast_1:0\", shape=(12,), dtype=int32)\n"
     ]
    },
    {
     "name": "stderr",
     "output_type": "stream",
     "text": [
      " 61%|██████▏   | 5119/8334 [05:20<03:21, 15.97it/s]"
     ]
    },
    {
     "name": "stdout",
     "output_type": "stream",
     "text": [
      "Iter 5120.0, Minibatch Loss= 0.822538, Training Accuracy= 0.50000\n",
      "c Tensor(\"Accuracy/Cast:0\", shape=(12,), dtype=int32)\n",
      "y Tensor(\"Accuracy/Cast_1:0\", shape=(12,), dtype=int32)\n"
     ]
    },
    {
     "name": "stderr",
     "output_type": "stream",
     "text": [
      " 62%|██████▏   | 5139/8334 [05:21<03:20, 15.97it/s]"
     ]
    },
    {
     "name": "stdout",
     "output_type": "stream",
     "text": [
      "Iter 5140.0, Minibatch Loss= 0.689733, Training Accuracy= 0.41667\n",
      "c Tensor(\"Accuracy/Cast:0\", shape=(12,), dtype=int32)\n",
      "y Tensor(\"Accuracy/Cast_1:0\", shape=(12,), dtype=int32)\n"
     ]
    },
    {
     "name": "stderr",
     "output_type": "stream",
     "text": [
      " 62%|██████▏   | 5159/8334 [05:23<03:18, 15.97it/s]"
     ]
    },
    {
     "name": "stdout",
     "output_type": "stream",
     "text": [
      "Iter 5160.0, Minibatch Loss= 0.748444, Training Accuracy= 0.66667\n",
      "c Tensor(\"Accuracy/Cast:0\", shape=(12,), dtype=int32)\n",
      "y Tensor(\"Accuracy/Cast_1:0\", shape=(12,), dtype=int32)\n"
     ]
    },
    {
     "name": "stderr",
     "output_type": "stream",
     "text": [
      " 62%|██████▏   | 5179/8334 [05:24<03:17, 15.97it/s]"
     ]
    },
    {
     "name": "stdout",
     "output_type": "stream",
     "text": [
      "Iter 5180.0, Minibatch Loss= 1.008843, Training Accuracy= 0.50000\n",
      "c Tensor(\"Accuracy/Cast:0\", shape=(12,), dtype=int32)\n",
      "y Tensor(\"Accuracy/Cast_1:0\", shape=(12,), dtype=int32)\n"
     ]
    },
    {
     "name": "stderr",
     "output_type": "stream",
     "text": [
      " 62%|██████▏   | 5199/8334 [05:25<03:16, 15.97it/s]"
     ]
    },
    {
     "name": "stdout",
     "output_type": "stream",
     "text": [
      "Iter 5200.0, Minibatch Loss= 0.644490, Training Accuracy= 0.66667\n",
      "c Tensor(\"Accuracy/Cast:0\", shape=(12,), dtype=int32)\n",
      "y Tensor(\"Accuracy/Cast_1:0\", shape=(12,), dtype=int32)\n"
     ]
    },
    {
     "name": "stderr",
     "output_type": "stream",
     "text": [
      " 63%|██████▎   | 5219/8334 [05:26<03:15, 15.97it/s]"
     ]
    },
    {
     "name": "stdout",
     "output_type": "stream",
     "text": [
      "Iter 5220.0, Minibatch Loss= 0.922655, Training Accuracy= 0.58333\n",
      "c Tensor(\"Accuracy/Cast:0\", shape=(12,), dtype=int32)\n",
      "y Tensor(\"Accuracy/Cast_1:0\", shape=(12,), dtype=int32)\n"
     ]
    },
    {
     "name": "stderr",
     "output_type": "stream",
     "text": [
      " 63%|██████▎   | 5239/8334 [05:28<03:13, 15.97it/s]"
     ]
    },
    {
     "name": "stdout",
     "output_type": "stream",
     "text": [
      "Iter 5240.0, Minibatch Loss= 0.868896, Training Accuracy= 0.41667\n",
      "c Tensor(\"Accuracy/Cast:0\", shape=(12,), dtype=int32)\n",
      "y Tensor(\"Accuracy/Cast_1:0\", shape=(12,), dtype=int32)\n"
     ]
    },
    {
     "name": "stderr",
     "output_type": "stream",
     "text": [
      " 63%|██████▎   | 5259/8334 [05:29<03:12, 15.97it/s]"
     ]
    },
    {
     "name": "stdout",
     "output_type": "stream",
     "text": [
      "Iter 5260.0, Minibatch Loss= 0.814285, Training Accuracy= 0.58333\n",
      "c Tensor(\"Accuracy/Cast:0\", shape=(12,), dtype=int32)\n",
      "y Tensor(\"Accuracy/Cast_1:0\", shape=(12,), dtype=int32)\n"
     ]
    },
    {
     "name": "stderr",
     "output_type": "stream",
     "text": [
      " 63%|██████▎   | 5279/8334 [05:30<03:11, 15.97it/s]"
     ]
    },
    {
     "name": "stdout",
     "output_type": "stream",
     "text": [
      "Iter 5280.0, Minibatch Loss= 0.973614, Training Accuracy= 0.33333\n",
      "c Tensor(\"Accuracy/Cast:0\", shape=(12,), dtype=int32)\n",
      "y Tensor(\"Accuracy/Cast_1:0\", shape=(12,), dtype=int32)\n"
     ]
    },
    {
     "name": "stderr",
     "output_type": "stream",
     "text": [
      " 64%|██████▎   | 5299/8334 [05:31<03:10, 15.97it/s]"
     ]
    },
    {
     "name": "stdout",
     "output_type": "stream",
     "text": [
      "Iter 5300.0, Minibatch Loss= 0.886852, Training Accuracy= 0.41667\n",
      "c Tensor(\"Accuracy/Cast:0\", shape=(12,), dtype=int32)\n",
      "y Tensor(\"Accuracy/Cast_1:0\", shape=(12,), dtype=int32)\n"
     ]
    },
    {
     "name": "stderr",
     "output_type": "stream",
     "text": [
      " 64%|██████▍   | 5319/8334 [05:33<03:08, 15.97it/s]"
     ]
    },
    {
     "name": "stdout",
     "output_type": "stream",
     "text": [
      "Iter 5320.0, Minibatch Loss= 0.758584, Training Accuracy= 0.83333\n",
      "c Tensor(\"Accuracy/Cast:0\", shape=(12,), dtype=int32)\n",
      "y Tensor(\"Accuracy/Cast_1:0\", shape=(12,), dtype=int32)\n"
     ]
    },
    {
     "name": "stderr",
     "output_type": "stream",
     "text": [
      " 64%|██████▍   | 5339/8334 [05:34<03:07, 15.97it/s]"
     ]
    },
    {
     "name": "stdout",
     "output_type": "stream",
     "text": [
      "Iter 5340.0, Minibatch Loss= 0.792007, Training Accuracy= 0.50000\n",
      "c Tensor(\"Accuracy/Cast:0\", shape=(12,), dtype=int32)\n",
      "y Tensor(\"Accuracy/Cast_1:0\", shape=(12,), dtype=int32)\n"
     ]
    },
    {
     "name": "stderr",
     "output_type": "stream",
     "text": [
      " 64%|██████▍   | 5359/8334 [05:35<03:06, 15.96it/s]"
     ]
    },
    {
     "name": "stdout",
     "output_type": "stream",
     "text": [
      "Iter 5360.0, Minibatch Loss= 0.913708, Training Accuracy= 0.66667\n",
      "c Tensor(\"Accuracy/Cast:0\", shape=(12,), dtype=int32)\n",
      "y Tensor(\"Accuracy/Cast_1:0\", shape=(12,), dtype=int32)\n"
     ]
    },
    {
     "name": "stderr",
     "output_type": "stream",
     "text": [
      " 65%|██████▍   | 5379/8334 [05:37<03:05, 15.96it/s]"
     ]
    },
    {
     "name": "stdout",
     "output_type": "stream",
     "text": [
      "Iter 5380.0, Minibatch Loss= 0.866947, Training Accuracy= 0.41667\n",
      "c Tensor(\"Accuracy/Cast:0\", shape=(12,), dtype=int32)\n",
      "y Tensor(\"Accuracy/Cast_1:0\", shape=(12,), dtype=int32)\n"
     ]
    },
    {
     "name": "stderr",
     "output_type": "stream",
     "text": [
      " 65%|██████▍   | 5399/8334 [05:38<03:03, 15.96it/s]"
     ]
    },
    {
     "name": "stdout",
     "output_type": "stream",
     "text": [
      "Iter 5400.0, Minibatch Loss= 1.119808, Training Accuracy= 0.50000\n",
      "c Tensor(\"Accuracy/Cast:0\", shape=(12,), dtype=int32)\n",
      "y Tensor(\"Accuracy/Cast_1:0\", shape=(12,), dtype=int32)\n"
     ]
    },
    {
     "name": "stderr",
     "output_type": "stream",
     "text": [
      " 65%|██████▌   | 5419/8334 [05:39<03:02, 15.96it/s]"
     ]
    },
    {
     "name": "stdout",
     "output_type": "stream",
     "text": [
      "Iter 5420.0, Minibatch Loss= 0.964831, Training Accuracy= 0.50000\n",
      "c Tensor(\"Accuracy/Cast:0\", shape=(12,), dtype=int32)\n",
      "y Tensor(\"Accuracy/Cast_1:0\", shape=(12,), dtype=int32)\n"
     ]
    },
    {
     "name": "stderr",
     "output_type": "stream",
     "text": [
      " 65%|██████▌   | 5439/8334 [05:40<03:01, 15.96it/s]"
     ]
    },
    {
     "name": "stdout",
     "output_type": "stream",
     "text": [
      "Iter 5440.0, Minibatch Loss= 1.241812, Training Accuracy= 0.41667\n",
      "c Tensor(\"Accuracy/Cast:0\", shape=(12,), dtype=int32)\n",
      "y Tensor(\"Accuracy/Cast_1:0\", shape=(12,), dtype=int32)\n"
     ]
    },
    {
     "name": "stderr",
     "output_type": "stream",
     "text": [
      " 66%|██████▌   | 5459/8334 [05:42<03:00, 15.96it/s]"
     ]
    },
    {
     "name": "stdout",
     "output_type": "stream",
     "text": [
      "Iter 5460.0, Minibatch Loss= 0.772264, Training Accuracy= 0.50000\n",
      "c Tensor(\"Accuracy/Cast:0\", shape=(12,), dtype=int32)\n",
      "y Tensor(\"Accuracy/Cast_1:0\", shape=(12,), dtype=int32)\n"
     ]
    },
    {
     "name": "stderr",
     "output_type": "stream",
     "text": [
      " 66%|██████▌   | 5479/8334 [05:43<02:58, 15.96it/s]"
     ]
    },
    {
     "name": "stdout",
     "output_type": "stream",
     "text": [
      "Iter 5480.0, Minibatch Loss= 0.840460, Training Accuracy= 0.50000\n",
      "c Tensor(\"Accuracy/Cast:0\", shape=(12,), dtype=int32)\n",
      "y Tensor(\"Accuracy/Cast_1:0\", shape=(12,), dtype=int32)\n"
     ]
    },
    {
     "name": "stderr",
     "output_type": "stream",
     "text": [
      " 66%|██████▌   | 5499/8334 [05:44<02:57, 15.96it/s]"
     ]
    },
    {
     "name": "stdout",
     "output_type": "stream",
     "text": [
      "Iter 5500.0, Minibatch Loss= 0.615367, Training Accuracy= 0.83333\n",
      "c Tensor(\"Accuracy/Cast:0\", shape=(12,), dtype=int32)\n",
      "y Tensor(\"Accuracy/Cast_1:0\", shape=(12,), dtype=int32)\n"
     ]
    },
    {
     "name": "stderr",
     "output_type": "stream",
     "text": [
      " 66%|██████▌   | 5519/8334 [05:45<02:56, 15.96it/s]"
     ]
    },
    {
     "name": "stdout",
     "output_type": "stream",
     "text": [
      "Iter 5520.0, Minibatch Loss= 0.632951, Training Accuracy= 0.50000\n",
      "c Tensor(\"Accuracy/Cast:0\", shape=(12,), dtype=int32)\n",
      "y Tensor(\"Accuracy/Cast_1:0\", shape=(12,), dtype=int32)\n"
     ]
    },
    {
     "name": "stderr",
     "output_type": "stream",
     "text": [
      " 66%|██████▋   | 5539/8334 [05:47<02:55, 15.96it/s]"
     ]
    },
    {
     "name": "stdout",
     "output_type": "stream",
     "text": [
      "Iter 5540.0, Minibatch Loss= 0.919941, Training Accuracy= 0.66667\n",
      "c Tensor(\"Accuracy/Cast:0\", shape=(12,), dtype=int32)\n",
      "y Tensor(\"Accuracy/Cast_1:0\", shape=(12,), dtype=int32)\n"
     ]
    },
    {
     "name": "stderr",
     "output_type": "stream",
     "text": [
      " 67%|██████▋   | 5559/8334 [05:48<02:53, 15.96it/s]"
     ]
    },
    {
     "name": "stdout",
     "output_type": "stream",
     "text": [
      "Iter 5560.0, Minibatch Loss= 0.945517, Training Accuracy= 0.50000\n",
      "c Tensor(\"Accuracy/Cast:0\", shape=(12,), dtype=int32)\n",
      "y Tensor(\"Accuracy/Cast_1:0\", shape=(12,), dtype=int32)\n"
     ]
    },
    {
     "name": "stderr",
     "output_type": "stream",
     "text": [
      " 67%|██████▋   | 5579/8334 [05:49<02:52, 15.96it/s]"
     ]
    },
    {
     "name": "stdout",
     "output_type": "stream",
     "text": [
      "Iter 5580.0, Minibatch Loss= 0.787882, Training Accuracy= 0.58333\n",
      "c Tensor(\"Accuracy/Cast:0\", shape=(12,), dtype=int32)\n",
      "y Tensor(\"Accuracy/Cast_1:0\", shape=(12,), dtype=int32)\n"
     ]
    },
    {
     "name": "stderr",
     "output_type": "stream",
     "text": [
      " 67%|██████▋   | 5599/8334 [05:50<02:51, 15.96it/s]"
     ]
    },
    {
     "name": "stdout",
     "output_type": "stream",
     "text": [
      "Iter 5600.0, Minibatch Loss= 0.713355, Training Accuracy= 0.66667\n",
      "c Tensor(\"Accuracy/Cast:0\", shape=(12,), dtype=int32)\n",
      "y Tensor(\"Accuracy/Cast_1:0\", shape=(12,), dtype=int32)\n"
     ]
    },
    {
     "name": "stderr",
     "output_type": "stream",
     "text": [
      " 67%|██████▋   | 5619/8334 [05:52<02:50, 15.96it/s]"
     ]
    },
    {
     "name": "stdout",
     "output_type": "stream",
     "text": [
      "Iter 5620.0, Minibatch Loss= 0.702715, Training Accuracy= 0.50000\n",
      "c Tensor(\"Accuracy/Cast:0\", shape=(12,), dtype=int32)\n",
      "y Tensor(\"Accuracy/Cast_1:0\", shape=(12,), dtype=int32)\n"
     ]
    },
    {
     "name": "stderr",
     "output_type": "stream",
     "text": [
      " 68%|██████▊   | 5639/8334 [05:53<02:48, 15.96it/s]"
     ]
    },
    {
     "name": "stdout",
     "output_type": "stream",
     "text": [
      "Iter 5640.0, Minibatch Loss= 0.752746, Training Accuracy= 0.66667\n",
      "c Tensor(\"Accuracy/Cast:0\", shape=(12,), dtype=int32)\n",
      "y Tensor(\"Accuracy/Cast_1:0\", shape=(12,), dtype=int32)\n"
     ]
    },
    {
     "name": "stderr",
     "output_type": "stream",
     "text": [
      " 68%|██████▊   | 5659/8334 [05:54<02:47, 15.96it/s]"
     ]
    },
    {
     "name": "stdout",
     "output_type": "stream",
     "text": [
      "Iter 5660.0, Minibatch Loss= 0.860641, Training Accuracy= 0.58333\n",
      "c Tensor(\"Accuracy/Cast:0\", shape=(12,), dtype=int32)\n",
      "y Tensor(\"Accuracy/Cast_1:0\", shape=(12,), dtype=int32)\n"
     ]
    },
    {
     "name": "stderr",
     "output_type": "stream",
     "text": [
      " 68%|██████▊   | 5679/8334 [05:55<02:46, 15.96it/s]"
     ]
    },
    {
     "name": "stdout",
     "output_type": "stream",
     "text": [
      "Iter 5680.0, Minibatch Loss= 0.834876, Training Accuracy= 0.58333\n",
      "c Tensor(\"Accuracy/Cast:0\", shape=(12,), dtype=int32)\n",
      "y Tensor(\"Accuracy/Cast_1:0\", shape=(12,), dtype=int32)\n"
     ]
    },
    {
     "name": "stderr",
     "output_type": "stream",
     "text": [
      " 68%|██████▊   | 5699/8334 [05:57<02:45, 15.96it/s]"
     ]
    },
    {
     "name": "stdout",
     "output_type": "stream",
     "text": [
      "Iter 5700.0, Minibatch Loss= 1.049596, Training Accuracy= 0.58333\n",
      "c Tensor(\"Accuracy/Cast:0\", shape=(12,), dtype=int32)\n",
      "y Tensor(\"Accuracy/Cast_1:0\", shape=(12,), dtype=int32)\n"
     ]
    },
    {
     "name": "stderr",
     "output_type": "stream",
     "text": [
      " 69%|██████▊   | 5719/8334 [05:58<02:43, 15.96it/s]"
     ]
    },
    {
     "name": "stdout",
     "output_type": "stream",
     "text": [
      "Iter 5720.0, Minibatch Loss= 0.709691, Training Accuracy= 0.75000\n",
      "c Tensor(\"Accuracy/Cast:0\", shape=(12,), dtype=int32)\n",
      "y Tensor(\"Accuracy/Cast_1:0\", shape=(12,), dtype=int32)\n"
     ]
    },
    {
     "name": "stderr",
     "output_type": "stream",
     "text": [
      " 69%|██████▉   | 5739/8334 [05:59<02:42, 15.96it/s]"
     ]
    },
    {
     "name": "stdout",
     "output_type": "stream",
     "text": [
      "Iter 5740.0, Minibatch Loss= 0.758118, Training Accuracy= 0.66667\n",
      "c Tensor(\"Accuracy/Cast:0\", shape=(12,), dtype=int32)\n",
      "y Tensor(\"Accuracy/Cast_1:0\", shape=(12,), dtype=int32)\n"
     ]
    },
    {
     "name": "stderr",
     "output_type": "stream",
     "text": [
      " 69%|██████▉   | 5759/8334 [06:00<02:41, 15.96it/s]"
     ]
    },
    {
     "name": "stdout",
     "output_type": "stream",
     "text": [
      "Iter 5760.0, Minibatch Loss= 0.827423, Training Accuracy= 0.50000\n",
      "c Tensor(\"Accuracy/Cast:0\", shape=(12,), dtype=int32)\n",
      "y Tensor(\"Accuracy/Cast_1:0\", shape=(12,), dtype=int32)\n"
     ]
    },
    {
     "name": "stderr",
     "output_type": "stream",
     "text": [
      " 69%|██████▉   | 5779/8334 [06:02<02:40, 15.96it/s]"
     ]
    },
    {
     "name": "stdout",
     "output_type": "stream",
     "text": [
      "Iter 5780.0, Minibatch Loss= 0.867111, Training Accuracy= 0.75000\n",
      "c Tensor(\"Accuracy/Cast:0\", shape=(12,), dtype=int32)\n",
      "y Tensor(\"Accuracy/Cast_1:0\", shape=(12,), dtype=int32)\n"
     ]
    },
    {
     "name": "stderr",
     "output_type": "stream",
     "text": [
      " 70%|██████▉   | 5799/8334 [06:03<02:38, 15.96it/s]"
     ]
    },
    {
     "name": "stdout",
     "output_type": "stream",
     "text": [
      "Iter 5800.0, Minibatch Loss= 0.917787, Training Accuracy= 0.25000\n",
      "c Tensor(\"Accuracy/Cast:0\", shape=(12,), dtype=int32)\n",
      "y Tensor(\"Accuracy/Cast_1:0\", shape=(12,), dtype=int32)\n"
     ]
    },
    {
     "name": "stderr",
     "output_type": "stream",
     "text": [
      " 70%|██████▉   | 5819/8334 [06:04<02:37, 15.96it/s]"
     ]
    },
    {
     "name": "stdout",
     "output_type": "stream",
     "text": [
      "Iter 5820.0, Minibatch Loss= 0.579822, Training Accuracy= 0.66667\n",
      "c Tensor(\"Accuracy/Cast:0\", shape=(12,), dtype=int32)\n",
      "y Tensor(\"Accuracy/Cast_1:0\", shape=(12,), dtype=int32)\n"
     ]
    },
    {
     "name": "stderr",
     "output_type": "stream",
     "text": [
      " 70%|███████   | 5839/8334 [06:05<02:36, 15.96it/s]"
     ]
    },
    {
     "name": "stdout",
     "output_type": "stream",
     "text": [
      "Iter 5840.0, Minibatch Loss= 0.683771, Training Accuracy= 0.83333\n",
      "c Tensor(\"Accuracy/Cast:0\", shape=(12,), dtype=int32)\n",
      "y Tensor(\"Accuracy/Cast_1:0\", shape=(12,), dtype=int32)\n"
     ]
    },
    {
     "name": "stderr",
     "output_type": "stream",
     "text": [
      " 70%|███████   | 5859/8334 [06:07<02:35, 15.96it/s]"
     ]
    },
    {
     "name": "stdout",
     "output_type": "stream",
     "text": [
      "Iter 5860.0, Minibatch Loss= 0.916927, Training Accuracy= 0.50000\n",
      "c Tensor(\"Accuracy/Cast:0\", shape=(12,), dtype=int32)\n",
      "y Tensor(\"Accuracy/Cast_1:0\", shape=(12,), dtype=int32)\n"
     ]
    },
    {
     "name": "stderr",
     "output_type": "stream",
     "text": [
      " 71%|███████   | 5879/8334 [06:08<02:33, 15.96it/s]"
     ]
    },
    {
     "name": "stdout",
     "output_type": "stream",
     "text": [
      "Iter 5880.0, Minibatch Loss= 1.091375, Training Accuracy= 0.50000\n",
      "c Tensor(\"Accuracy/Cast:0\", shape=(12,), dtype=int32)\n",
      "y Tensor(\"Accuracy/Cast_1:0\", shape=(12,), dtype=int32)\n"
     ]
    },
    {
     "name": "stderr",
     "output_type": "stream",
     "text": [
      " 71%|███████   | 5899/8334 [06:09<02:32, 15.96it/s]"
     ]
    },
    {
     "name": "stdout",
     "output_type": "stream",
     "text": [
      "Iter 5900.0, Minibatch Loss= 0.552725, Training Accuracy= 0.75000\n",
      "c Tensor(\"Accuracy/Cast:0\", shape=(12,), dtype=int32)\n",
      "y Tensor(\"Accuracy/Cast_1:0\", shape=(12,), dtype=int32)\n"
     ]
    },
    {
     "name": "stderr",
     "output_type": "stream",
     "text": [
      " 71%|███████   | 5919/8334 [06:10<02:31, 15.96it/s]"
     ]
    },
    {
     "name": "stdout",
     "output_type": "stream",
     "text": [
      "Iter 5920.0, Minibatch Loss= 0.723380, Training Accuracy= 0.41667\n",
      "c Tensor(\"Accuracy/Cast:0\", shape=(12,), dtype=int32)\n",
      "y Tensor(\"Accuracy/Cast_1:0\", shape=(12,), dtype=int32)\n"
     ]
    },
    {
     "name": "stderr",
     "output_type": "stream",
     "text": [
      " 71%|███████▏  | 5939/8334 [06:12<02:30, 15.96it/s]"
     ]
    },
    {
     "name": "stdout",
     "output_type": "stream",
     "text": [
      "Iter 5940.0, Minibatch Loss= 0.646732, Training Accuracy= 0.58333\n",
      "c Tensor(\"Accuracy/Cast:0\", shape=(12,), dtype=int32)\n",
      "y Tensor(\"Accuracy/Cast_1:0\", shape=(12,), dtype=int32)\n"
     ]
    },
    {
     "name": "stderr",
     "output_type": "stream",
     "text": [
      " 72%|███████▏  | 5959/8334 [06:13<02:28, 15.96it/s]"
     ]
    },
    {
     "name": "stdout",
     "output_type": "stream",
     "text": [
      "Iter 5960.0, Minibatch Loss= 0.709808, Training Accuracy= 0.50000\n",
      "c Tensor(\"Accuracy/Cast:0\", shape=(12,), dtype=int32)\n",
      "y Tensor(\"Accuracy/Cast_1:0\", shape=(12,), dtype=int32)\n"
     ]
    },
    {
     "name": "stderr",
     "output_type": "stream",
     "text": [
      " 72%|███████▏  | 5979/8334 [06:14<02:27, 15.96it/s]"
     ]
    },
    {
     "name": "stdout",
     "output_type": "stream",
     "text": [
      "Iter 5980.0, Minibatch Loss= 0.828585, Training Accuracy= 0.58333\n",
      "c Tensor(\"Accuracy/Cast:0\", shape=(12,), dtype=int32)\n",
      "y Tensor(\"Accuracy/Cast_1:0\", shape=(12,), dtype=int32)\n"
     ]
    },
    {
     "name": "stderr",
     "output_type": "stream",
     "text": [
      " 72%|███████▏  | 5999/8334 [06:15<02:26, 15.96it/s]"
     ]
    },
    {
     "name": "stdout",
     "output_type": "stream",
     "text": [
      "Iter 6000.0, Minibatch Loss= 0.754166, Training Accuracy= 0.58333\n",
      "c Tensor(\"Accuracy/Cast:0\", shape=(12,), dtype=int32)\n",
      "y Tensor(\"Accuracy/Cast_1:0\", shape=(12,), dtype=int32)\n"
     ]
    },
    {
     "name": "stderr",
     "output_type": "stream",
     "text": [
      " 72%|███████▏  | 6019/8334 [06:17<02:25, 15.96it/s]"
     ]
    },
    {
     "name": "stdout",
     "output_type": "stream",
     "text": [
      "Iter 6020.0, Minibatch Loss= 0.863280, Training Accuracy= 0.58333\n",
      "c Tensor(\"Accuracy/Cast:0\", shape=(12,), dtype=int32)\n",
      "y Tensor(\"Accuracy/Cast_1:0\", shape=(12,), dtype=int32)\n"
     ]
    },
    {
     "name": "stderr",
     "output_type": "stream",
     "text": [
      " 72%|███████▏  | 6039/8334 [06:18<02:23, 15.96it/s]"
     ]
    },
    {
     "name": "stdout",
     "output_type": "stream",
     "text": [
      "Iter 6040.0, Minibatch Loss= 0.755885, Training Accuracy= 0.33333\n",
      "c Tensor(\"Accuracy/Cast:0\", shape=(12,), dtype=int32)\n",
      "y Tensor(\"Accuracy/Cast_1:0\", shape=(12,), dtype=int32)\n"
     ]
    },
    {
     "name": "stderr",
     "output_type": "stream",
     "text": [
      " 73%|███████▎  | 6059/8334 [06:19<02:22, 15.96it/s]"
     ]
    },
    {
     "name": "stdout",
     "output_type": "stream",
     "text": [
      "Iter 6060.0, Minibatch Loss= 0.848608, Training Accuracy= 0.58333\n",
      "c Tensor(\"Accuracy/Cast:0\", shape=(12,), dtype=int32)\n",
      "y Tensor(\"Accuracy/Cast_1:0\", shape=(12,), dtype=int32)\n"
     ]
    },
    {
     "name": "stderr",
     "output_type": "stream",
     "text": [
      " 73%|███████▎  | 6079/8334 [06:20<02:21, 15.96it/s]"
     ]
    },
    {
     "name": "stdout",
     "output_type": "stream",
     "text": [
      "Iter 6080.0, Minibatch Loss= 0.766717, Training Accuracy= 0.75000\n",
      "c Tensor(\"Accuracy/Cast:0\", shape=(12,), dtype=int32)\n",
      "y Tensor(\"Accuracy/Cast_1:0\", shape=(12,), dtype=int32)\n"
     ]
    },
    {
     "name": "stderr",
     "output_type": "stream",
     "text": [
      " 73%|███████▎  | 6099/8334 [06:22<02:20, 15.96it/s]"
     ]
    },
    {
     "name": "stdout",
     "output_type": "stream",
     "text": [
      "Iter 6100.0, Minibatch Loss= 0.693970, Training Accuracy= 0.66667\n",
      "c Tensor(\"Accuracy/Cast:0\", shape=(12,), dtype=int32)\n",
      "y Tensor(\"Accuracy/Cast_1:0\", shape=(12,), dtype=int32)\n"
     ]
    },
    {
     "name": "stderr",
     "output_type": "stream",
     "text": [
      " 73%|███████▎  | 6119/8334 [06:23<02:18, 15.95it/s]"
     ]
    },
    {
     "name": "stdout",
     "output_type": "stream",
     "text": [
      "Iter 6120.0, Minibatch Loss= 0.538308, Training Accuracy= 0.50000\n",
      "c Tensor(\"Accuracy/Cast:0\", shape=(12,), dtype=int32)\n",
      "y Tensor(\"Accuracy/Cast_1:0\", shape=(12,), dtype=int32)\n"
     ]
    },
    {
     "name": "stderr",
     "output_type": "stream",
     "text": [
      " 74%|███████▎  | 6136/8334 [06:24<02:17, 15.95it/s]"
     ]
    },
    {
     "name": "stdout",
     "output_type": "stream",
     "text": [
      "Iter 6140.0, Minibatch Loss= 0.762616, Training Accuracy= 0.50000\n",
      "c Tensor(\"Accuracy/Cast:0\", shape=(12,), dtype=int32)\n",
      "y Tensor(\"Accuracy/Cast_1:0\", shape=(12,), dtype=int32)\n"
     ]
    },
    {
     "name": "stderr",
     "output_type": "stream",
     "text": [
      " 74%|███████▍  | 6160/8334 [06:26<02:16, 15.95it/s]"
     ]
    },
    {
     "name": "stdout",
     "output_type": "stream",
     "text": [
      "Iter 6160.0, Minibatch Loss= 1.059285, Training Accuracy= 0.66667\n",
      "c Tensor(\"Accuracy/Cast:0\", shape=(12,), dtype=int32)\n",
      "y Tensor(\"Accuracy/Cast_1:0\", shape=(12,), dtype=int32)\n"
     ]
    },
    {
     "name": "stderr",
     "output_type": "stream",
     "text": [
      " 74%|███████▍  | 6179/8334 [06:27<02:15, 15.95it/s]"
     ]
    },
    {
     "name": "stdout",
     "output_type": "stream",
     "text": [
      "Iter 6180.0, Minibatch Loss= 0.809128, Training Accuracy= 0.75000\n",
      "c Tensor(\"Accuracy/Cast:0\", shape=(12,), dtype=int32)\n",
      "y Tensor(\"Accuracy/Cast_1:0\", shape=(12,), dtype=int32)\n"
     ]
    },
    {
     "name": "stderr",
     "output_type": "stream",
     "text": [
      " 74%|███████▍  | 6200/8334 [06:28<02:13, 15.95it/s]"
     ]
    },
    {
     "name": "stdout",
     "output_type": "stream",
     "text": [
      "Iter 6200.0, Minibatch Loss= 0.604344, Training Accuracy= 0.66667\n",
      "c Tensor(\"Accuracy/Cast:0\", shape=(12,), dtype=int32)\n",
      "y Tensor(\"Accuracy/Cast_1:0\", shape=(12,), dtype=int32)\n"
     ]
    },
    {
     "name": "stderr",
     "output_type": "stream",
     "text": [
      " 75%|███████▍  | 6219/8334 [06:29<02:12, 15.95it/s]"
     ]
    },
    {
     "name": "stdout",
     "output_type": "stream",
     "text": [
      "Iter 6220.0, Minibatch Loss= 0.804826, Training Accuracy= 0.58333\n",
      "c Tensor(\"Accuracy/Cast:0\", shape=(12,), dtype=int32)\n",
      "y Tensor(\"Accuracy/Cast_1:0\", shape=(12,), dtype=int32)\n"
     ]
    },
    {
     "name": "stderr",
     "output_type": "stream",
     "text": [
      " 75%|███████▍  | 6238/8334 [06:30<02:11, 15.96it/s]"
     ]
    },
    {
     "name": "stdout",
     "output_type": "stream",
     "text": [
      "Iter 6240.0, Minibatch Loss= 0.732384, Training Accuracy= 0.75000\n",
      "c Tensor(\"Accuracy/Cast:0\", shape=(12,), dtype=int32)\n",
      "y Tensor(\"Accuracy/Cast_1:0\", shape=(12,), dtype=int32)\n"
     ]
    },
    {
     "name": "stderr",
     "output_type": "stream",
     "text": [
      " 75%|███████▌  | 6259/8334 [06:32<02:09, 15.96it/s]"
     ]
    },
    {
     "name": "stdout",
     "output_type": "stream",
     "text": [
      "Iter 6260.0, Minibatch Loss= 0.901341, Training Accuracy= 0.75000\n",
      "c Tensor(\"Accuracy/Cast:0\", shape=(12,), dtype=int32)\n",
      "y Tensor(\"Accuracy/Cast_1:0\", shape=(12,), dtype=int32)\n"
     ]
    },
    {
     "name": "stderr",
     "output_type": "stream",
     "text": [
      " 75%|███████▌  | 6278/8334 [06:33<02:08, 15.96it/s]"
     ]
    },
    {
     "name": "stdout",
     "output_type": "stream",
     "text": [
      "Iter 6280.0, Minibatch Loss= 0.741897, Training Accuracy= 0.58333\n",
      "c Tensor(\"Accuracy/Cast:0\", shape=(12,), dtype=int32)\n",
      "y Tensor(\"Accuracy/Cast_1:0\", shape=(12,), dtype=int32)\n"
     ]
    },
    {
     "name": "stderr",
     "output_type": "stream",
     "text": [
      " 76%|███████▌  | 6297/8334 [06:34<02:07, 15.97it/s]"
     ]
    },
    {
     "name": "stdout",
     "output_type": "stream",
     "text": [
      "Iter 6300.0, Minibatch Loss= 1.201171, Training Accuracy= 0.50000\n",
      "c Tensor(\"Accuracy/Cast:0\", shape=(12,), dtype=int32)\n",
      "y Tensor(\"Accuracy/Cast_1:0\", shape=(12,), dtype=int32)\n"
     ]
    },
    {
     "name": "stderr",
     "output_type": "stream",
     "text": [
      " 76%|███████▌  | 6320/8334 [06:35<02:06, 15.98it/s]"
     ]
    },
    {
     "name": "stdout",
     "output_type": "stream",
     "text": [
      "Iter 6320.0, Minibatch Loss= 0.811476, Training Accuracy= 0.41667\n",
      "c Tensor(\"Accuracy/Cast:0\", shape=(12,), dtype=int32)\n",
      "y Tensor(\"Accuracy/Cast_1:0\", shape=(12,), dtype=int32)\n"
     ]
    },
    {
     "name": "stderr",
     "output_type": "stream",
     "text": [
      " 76%|███████▌  | 6339/8334 [06:36<02:04, 15.97it/s]"
     ]
    },
    {
     "name": "stdout",
     "output_type": "stream",
     "text": [
      "Iter 6340.0, Minibatch Loss= 0.670460, Training Accuracy= 0.58333\n",
      "c Tensor(\"Accuracy/Cast:0\", shape=(12,), dtype=int32)\n",
      "y Tensor(\"Accuracy/Cast_1:0\", shape=(12,), dtype=int32)\n"
     ]
    },
    {
     "name": "stderr",
     "output_type": "stream",
     "text": [
      " 76%|███████▋  | 6358/8334 [06:37<02:03, 15.98it/s]"
     ]
    },
    {
     "name": "stdout",
     "output_type": "stream",
     "text": [
      "Iter 6360.0, Minibatch Loss= 0.747005, Training Accuracy= 0.66667\n",
      "c Tensor(\"Accuracy/Cast:0\", shape=(12,), dtype=int32)\n",
      "y Tensor(\"Accuracy/Cast_1:0\", shape=(12,), dtype=int32)\n"
     ]
    },
    {
     "name": "stderr",
     "output_type": "stream",
     "text": [
      " 77%|███████▋  | 6377/8334 [06:39<02:02, 15.98it/s]"
     ]
    },
    {
     "name": "stdout",
     "output_type": "stream",
     "text": [
      "Iter 6380.0, Minibatch Loss= 0.647297, Training Accuracy= 0.66667\n",
      "c Tensor(\"Accuracy/Cast:0\", shape=(12,), dtype=int32)\n",
      "y Tensor(\"Accuracy/Cast_1:0\", shape=(12,), dtype=int32)\n"
     ]
    },
    {
     "name": "stderr",
     "output_type": "stream",
     "text": [
      " 77%|███████▋  | 6399/8334 [06:40<02:01, 15.99it/s]"
     ]
    },
    {
     "name": "stdout",
     "output_type": "stream",
     "text": [
      "Iter 6400.0, Minibatch Loss= 0.735376, Training Accuracy= 0.25000\n",
      "c Tensor(\"Accuracy/Cast:0\", shape=(12,), dtype=int32)\n",
      "y Tensor(\"Accuracy/Cast_1:0\", shape=(12,), dtype=int32)\n"
     ]
    },
    {
     "name": "stderr",
     "output_type": "stream",
     "text": [
      " 77%|███████▋  | 6417/8334 [06:41<01:59, 15.99it/s]"
     ]
    },
    {
     "name": "stdout",
     "output_type": "stream",
     "text": [
      "Iter 6420.0, Minibatch Loss= 0.890713, Training Accuracy= 0.66667\n",
      "c Tensor(\"Accuracy/Cast:0\", shape=(12,), dtype=int32)\n",
      "y Tensor(\"Accuracy/Cast_1:0\", shape=(12,), dtype=int32)\n"
     ]
    },
    {
     "name": "stderr",
     "output_type": "stream",
     "text": [
      " 77%|███████▋  | 6439/8334 [06:42<01:58, 16.00it/s]"
     ]
    },
    {
     "name": "stdout",
     "output_type": "stream",
     "text": [
      "Iter 6440.0, Minibatch Loss= 1.090406, Training Accuracy= 0.33333\n",
      "c Tensor(\"Accuracy/Cast:0\", shape=(12,), dtype=int32)\n",
      "y Tensor(\"Accuracy/Cast_1:0\", shape=(12,), dtype=int32)\n"
     ]
    },
    {
     "name": "stderr",
     "output_type": "stream",
     "text": [
      " 78%|███████▊  | 6460/8334 [06:43<01:57, 16.00it/s]"
     ]
    },
    {
     "name": "stdout",
     "output_type": "stream",
     "text": [
      "Iter 6460.0, Minibatch Loss= 0.973725, Training Accuracy= 0.58333\n",
      "c Tensor(\"Accuracy/Cast:0\", shape=(12,), dtype=int32)\n",
      "y Tensor(\"Accuracy/Cast_1:0\", shape=(12,), dtype=int32)\n"
     ]
    },
    {
     "name": "stderr",
     "output_type": "stream",
     "text": [
      " 78%|███████▊  | 6477/8334 [06:44<01:56, 16.00it/s]"
     ]
    },
    {
     "name": "stdout",
     "output_type": "stream",
     "text": [
      "Iter 6480.0, Minibatch Loss= 0.864884, Training Accuracy= 0.75000\n",
      "c Tensor(\"Accuracy/Cast:0\", shape=(12,), dtype=int32)\n",
      "y Tensor(\"Accuracy/Cast_1:0\", shape=(12,), dtype=int32)\n"
     ]
    },
    {
     "name": "stderr",
     "output_type": "stream",
     "text": [
      " 78%|███████▊  | 6496/8334 [06:45<01:54, 16.00it/s]"
     ]
    },
    {
     "name": "stdout",
     "output_type": "stream",
     "text": [
      "Iter 6500.0, Minibatch Loss= 0.845427, Training Accuracy= 0.66667\n",
      "c Tensor(\"Accuracy/Cast:0\", shape=(12,), dtype=int32)\n",
      "y Tensor(\"Accuracy/Cast_1:0\", shape=(12,), dtype=int32)\n"
     ]
    },
    {
     "name": "stderr",
     "output_type": "stream",
     "text": [
      " 78%|███████▊  | 6516/8334 [06:47<01:53, 16.01it/s]"
     ]
    },
    {
     "name": "stdout",
     "output_type": "stream",
     "text": [
      "Iter 6520.0, Minibatch Loss= 0.896821, Training Accuracy= 0.25000\n",
      "c Tensor(\"Accuracy/Cast:0\", shape=(12,), dtype=int32)\n",
      "y Tensor(\"Accuracy/Cast_1:0\", shape=(12,), dtype=int32)\n"
     ]
    },
    {
     "name": "stderr",
     "output_type": "stream",
     "text": [
      " 78%|███████▊  | 6536/8334 [06:48<01:52, 16.02it/s]"
     ]
    },
    {
     "name": "stdout",
     "output_type": "stream",
     "text": [
      "Iter 6540.0, Minibatch Loss= 0.825451, Training Accuracy= 0.58333\n",
      "c Tensor(\"Accuracy/Cast:0\", shape=(12,), dtype=int32)\n",
      "y Tensor(\"Accuracy/Cast_1:0\", shape=(12,), dtype=int32)\n"
     ]
    },
    {
     "name": "stderr",
     "output_type": "stream",
     "text": [
      " 79%|███████▊  | 6559/8334 [06:49<01:50, 16.03it/s]"
     ]
    },
    {
     "name": "stdout",
     "output_type": "stream",
     "text": [
      "Iter 6560.0, Minibatch Loss= 1.049242, Training Accuracy= 0.58333\n",
      "c Tensor(\"Accuracy/Cast:0\", shape=(12,), dtype=int32)\n",
      "y Tensor(\"Accuracy/Cast_1:0\", shape=(12,), dtype=int32)\n"
     ]
    },
    {
     "name": "stderr",
     "output_type": "stream",
     "text": [
      " 79%|███████▉  | 6578/8334 [06:50<01:49, 16.03it/s]"
     ]
    },
    {
     "name": "stdout",
     "output_type": "stream",
     "text": [
      "Iter 6580.0, Minibatch Loss= 0.624729, Training Accuracy= 0.58333\n",
      "c Tensor(\"Accuracy/Cast:0\", shape=(12,), dtype=int32)\n",
      "y Tensor(\"Accuracy/Cast_1:0\", shape=(12,), dtype=int32)\n"
     ]
    },
    {
     "name": "stderr",
     "output_type": "stream",
     "text": [
      " 79%|███████▉  | 6600/8334 [06:51<01:48, 16.04it/s]"
     ]
    },
    {
     "name": "stdout",
     "output_type": "stream",
     "text": [
      "Iter 6600.0, Minibatch Loss= 0.691280, Training Accuracy= 0.66667\n",
      "c Tensor(\"Accuracy/Cast:0\", shape=(12,), dtype=int32)\n",
      "y Tensor(\"Accuracy/Cast_1:0\", shape=(12,), dtype=int32)\n"
     ]
    },
    {
     "name": "stderr",
     "output_type": "stream",
     "text": [
      " 79%|███████▉  | 6617/8334 [06:52<01:47, 16.04it/s]"
     ]
    },
    {
     "name": "stdout",
     "output_type": "stream",
     "text": [
      "Iter 6620.0, Minibatch Loss= 0.864478, Training Accuracy= 0.58333\n",
      "c Tensor(\"Accuracy/Cast:0\", shape=(12,), dtype=int32)\n",
      "y Tensor(\"Accuracy/Cast_1:0\", shape=(12,), dtype=int32)\n"
     ]
    },
    {
     "name": "stderr",
     "output_type": "stream",
     "text": [
      " 80%|███████▉  | 6639/8334 [06:53<01:45, 16.05it/s]"
     ]
    },
    {
     "name": "stdout",
     "output_type": "stream",
     "text": [
      "Iter 6640.0, Minibatch Loss= 1.201342, Training Accuracy= 0.66667\n",
      "c Tensor(\"Accuracy/Cast:0\", shape=(12,), dtype=int32)\n",
      "y Tensor(\"Accuracy/Cast_1:0\", shape=(12,), dtype=int32)\n"
     ]
    },
    {
     "name": "stderr",
     "output_type": "stream",
     "text": [
      " 80%|███████▉  | 6657/8334 [06:54<01:44, 16.05it/s]"
     ]
    },
    {
     "name": "stdout",
     "output_type": "stream",
     "text": [
      "Iter 6660.0, Minibatch Loss= 1.120760, Training Accuracy= 0.58333\n",
      "c Tensor(\"Accuracy/Cast:0\", shape=(12,), dtype=int32)\n",
      "y Tensor(\"Accuracy/Cast_1:0\", shape=(12,), dtype=int32)\n"
     ]
    },
    {
     "name": "stderr",
     "output_type": "stream",
     "text": [
      " 80%|████████  | 6680/8334 [06:56<01:43, 16.06it/s]"
     ]
    },
    {
     "name": "stdout",
     "output_type": "stream",
     "text": [
      "Iter 6680.0, Minibatch Loss= 0.676811, Training Accuracy= 0.58333\n",
      "c Tensor(\"Accuracy/Cast:0\", shape=(12,), dtype=int32)\n",
      "y Tensor(\"Accuracy/Cast_1:0\", shape=(12,), dtype=int32)\n"
     ]
    },
    {
     "name": "stderr",
     "output_type": "stream",
     "text": [
      " 80%|████████  | 6698/8334 [06:57<01:41, 16.06it/s]"
     ]
    },
    {
     "name": "stdout",
     "output_type": "stream",
     "text": [
      "Iter 6700.0, Minibatch Loss= 1.059512, Training Accuracy= 0.33333\n",
      "c Tensor(\"Accuracy/Cast:0\", shape=(12,), dtype=int32)\n",
      "y Tensor(\"Accuracy/Cast_1:0\", shape=(12,), dtype=int32)\n"
     ]
    },
    {
     "name": "stderr",
     "output_type": "stream",
     "text": [
      " 81%|████████  | 6716/8334 [06:58<01:40, 16.06it/s]"
     ]
    },
    {
     "name": "stdout",
     "output_type": "stream",
     "text": [
      "Iter 6720.0, Minibatch Loss= 1.051551, Training Accuracy= 0.50000\n",
      "c Tensor(\"Accuracy/Cast:0\", shape=(12,), dtype=int32)\n",
      "y Tensor(\"Accuracy/Cast_1:0\", shape=(12,), dtype=int32)\n"
     ]
    },
    {
     "name": "stderr",
     "output_type": "stream",
     "text": [
      " 81%|████████  | 6736/8334 [06:59<01:39, 16.06it/s]"
     ]
    },
    {
     "name": "stdout",
     "output_type": "stream",
     "text": [
      "Iter 6740.0, Minibatch Loss= 0.739513, Training Accuracy= 0.58333\n",
      "c Tensor(\"Accuracy/Cast:0\", shape=(12,), dtype=int32)\n",
      "y Tensor(\"Accuracy/Cast_1:0\", shape=(12,), dtype=int32)\n"
     ]
    },
    {
     "name": "stderr",
     "output_type": "stream",
     "text": [
      " 81%|████████  | 6756/8334 [07:00<01:38, 16.07it/s]"
     ]
    },
    {
     "name": "stdout",
     "output_type": "stream",
     "text": [
      "Iter 6760.0, Minibatch Loss= 0.601589, Training Accuracy= 0.58333\n",
      "c Tensor(\"Accuracy/Cast:0\", shape=(12,), dtype=int32)\n",
      "y Tensor(\"Accuracy/Cast_1:0\", shape=(12,), dtype=int32)\n"
     ]
    },
    {
     "name": "stderr",
     "output_type": "stream",
     "text": [
      " 81%|████████▏ | 6780/8334 [07:01<01:36, 16.07it/s]"
     ]
    },
    {
     "name": "stdout",
     "output_type": "stream",
     "text": [
      "Iter 6780.0, Minibatch Loss= 0.853456, Training Accuracy= 0.66667\n",
      "c Tensor(\"Accuracy/Cast:0\", shape=(12,), dtype=int32)\n",
      "y Tensor(\"Accuracy/Cast_1:0\", shape=(12,), dtype=int32)\n"
     ]
    },
    {
     "name": "stderr",
     "output_type": "stream",
     "text": [
      " 82%|████████▏ | 6798/8334 [07:02<01:35, 16.07it/s]"
     ]
    },
    {
     "name": "stdout",
     "output_type": "stream",
     "text": [
      "Iter 6800.0, Minibatch Loss= 0.981525, Training Accuracy= 0.50000\n",
      "c Tensor(\"Accuracy/Cast:0\", shape=(12,), dtype=int32)\n",
      "y Tensor(\"Accuracy/Cast_1:0\", shape=(12,), dtype=int32)\n"
     ]
    },
    {
     "name": "stderr",
     "output_type": "stream",
     "text": [
      " 82%|████████▏ | 6816/8334 [07:03<01:34, 16.08it/s]"
     ]
    },
    {
     "name": "stdout",
     "output_type": "stream",
     "text": [
      "Iter 6820.0, Minibatch Loss= 0.997575, Training Accuracy= 0.58333\n",
      "c Tensor(\"Accuracy/Cast:0\", shape=(12,), dtype=int32)\n",
      "y Tensor(\"Accuracy/Cast_1:0\", shape=(12,), dtype=int32)\n"
     ]
    },
    {
     "name": "stderr",
     "output_type": "stream",
     "text": [
      " 82%|████████▏ | 6836/8334 [07:05<01:33, 16.08it/s]"
     ]
    },
    {
     "name": "stdout",
     "output_type": "stream",
     "text": [
      "Iter 6840.0, Minibatch Loss= 0.886796, Training Accuracy= 0.50000\n",
      "c Tensor(\"Accuracy/Cast:0\", shape=(12,), dtype=int32)\n",
      "y Tensor(\"Accuracy/Cast_1:0\", shape=(12,), dtype=int32)\n"
     ]
    },
    {
     "name": "stderr",
     "output_type": "stream",
     "text": [
      " 82%|████████▏ | 6856/8334 [07:06<01:31, 16.09it/s]"
     ]
    },
    {
     "name": "stdout",
     "output_type": "stream",
     "text": [
      "Iter 6860.0, Minibatch Loss= 0.796085, Training Accuracy= 0.66667\n",
      "c Tensor(\"Accuracy/Cast:0\", shape=(12,), dtype=int32)\n",
      "y Tensor(\"Accuracy/Cast_1:0\", shape=(12,), dtype=int32)\n"
     ]
    },
    {
     "name": "stderr",
     "output_type": "stream",
     "text": [
      " 83%|████████▎ | 6876/8334 [07:07<01:30, 16.09it/s]"
     ]
    },
    {
     "name": "stdout",
     "output_type": "stream",
     "text": [
      "Iter 6880.0, Minibatch Loss= 0.827379, Training Accuracy= 0.66667\n",
      "c Tensor(\"Accuracy/Cast:0\", shape=(12,), dtype=int32)\n",
      "y Tensor(\"Accuracy/Cast_1:0\", shape=(12,), dtype=int32)\n"
     ]
    },
    {
     "name": "stderr",
     "output_type": "stream",
     "text": [
      " 83%|████████▎ | 6896/8334 [07:08<01:29, 16.10it/s]"
     ]
    },
    {
     "name": "stdout",
     "output_type": "stream",
     "text": [
      "Iter 6900.0, Minibatch Loss= 0.656662, Training Accuracy= 0.83333\n",
      "c Tensor(\"Accuracy/Cast:0\", shape=(12,), dtype=int32)\n",
      "y Tensor(\"Accuracy/Cast_1:0\", shape=(12,), dtype=int32)\n"
     ]
    },
    {
     "name": "stderr",
     "output_type": "stream",
     "text": [
      " 83%|████████▎ | 6916/8334 [07:09<01:28, 16.11it/s]"
     ]
    },
    {
     "name": "stdout",
     "output_type": "stream",
     "text": [
      "Iter 6920.0, Minibatch Loss= 0.707151, Training Accuracy= 0.66667\n",
      "c Tensor(\"Accuracy/Cast:0\", shape=(12,), dtype=int32)\n",
      "y Tensor(\"Accuracy/Cast_1:0\", shape=(12,), dtype=int32)\n"
     ]
    },
    {
     "name": "stderr",
     "output_type": "stream",
     "text": [
      " 83%|████████▎ | 6936/8334 [07:10<01:26, 16.12it/s]"
     ]
    },
    {
     "name": "stdout",
     "output_type": "stream",
     "text": [
      "Iter 6940.0, Minibatch Loss= 0.593562, Training Accuracy= 0.41667\n",
      "c Tensor(\"Accuracy/Cast:0\", shape=(12,), dtype=int32)\n",
      "y Tensor(\"Accuracy/Cast_1:0\", shape=(12,), dtype=int32)\n"
     ]
    },
    {
     "name": "stderr",
     "output_type": "stream",
     "text": [
      " 83%|████████▎ | 6956/8334 [07:11<01:25, 16.12it/s]"
     ]
    },
    {
     "name": "stdout",
     "output_type": "stream",
     "text": [
      "Iter 6960.0, Minibatch Loss= 1.007292, Training Accuracy= 0.58333\n",
      "c Tensor(\"Accuracy/Cast:0\", shape=(12,), dtype=int32)\n",
      "y Tensor(\"Accuracy/Cast_1:0\", shape=(12,), dtype=int32)\n"
     ]
    },
    {
     "name": "stderr",
     "output_type": "stream",
     "text": [
      " 84%|████████▎ | 6976/8334 [07:12<01:24, 16.13it/s]"
     ]
    },
    {
     "name": "stdout",
     "output_type": "stream",
     "text": [
      "Iter 6980.0, Minibatch Loss= 0.923799, Training Accuracy= 0.58333\n",
      "c Tensor(\"Accuracy/Cast:0\", shape=(12,), dtype=int32)\n",
      "y Tensor(\"Accuracy/Cast_1:0\", shape=(12,), dtype=int32)\n"
     ]
    },
    {
     "name": "stderr",
     "output_type": "stream",
     "text": [
      " 84%|████████▍ | 6996/8334 [07:13<01:22, 16.14it/s]"
     ]
    },
    {
     "name": "stdout",
     "output_type": "stream",
     "text": [
      "Iter 7000.0, Minibatch Loss= 0.763229, Training Accuracy= 0.58333\n",
      "c Tensor(\"Accuracy/Cast:0\", shape=(12,), dtype=int32)\n",
      "y Tensor(\"Accuracy/Cast_1:0\", shape=(12,), dtype=int32)\n"
     ]
    },
    {
     "name": "stderr",
     "output_type": "stream",
     "text": [
      " 84%|████████▍ | 7016/8334 [07:14<01:21, 16.15it/s]"
     ]
    },
    {
     "name": "stdout",
     "output_type": "stream",
     "text": [
      "Iter 7020.0, Minibatch Loss= 0.755075, Training Accuracy= 0.50000\n",
      "c Tensor(\"Accuracy/Cast:0\", shape=(12,), dtype=int32)\n",
      "y Tensor(\"Accuracy/Cast_1:0\", shape=(12,), dtype=int32)\n"
     ]
    },
    {
     "name": "stderr",
     "output_type": "stream",
     "text": [
      " 84%|████████▍ | 7036/8334 [07:15<01:20, 16.15it/s]"
     ]
    },
    {
     "name": "stdout",
     "output_type": "stream",
     "text": [
      "Iter 7040.0, Minibatch Loss= 0.621365, Training Accuracy= 0.66667\n",
      "c Tensor(\"Accuracy/Cast:0\", shape=(12,), dtype=int32)\n",
      "y Tensor(\"Accuracy/Cast_1:0\", shape=(12,), dtype=int32)\n"
     ]
    },
    {
     "name": "stderr",
     "output_type": "stream",
     "text": [
      " 85%|████████▍ | 7056/8334 [07:16<01:19, 16.16it/s]"
     ]
    },
    {
     "name": "stdout",
     "output_type": "stream",
     "text": [
      "Iter 7060.0, Minibatch Loss= 0.660443, Training Accuracy= 0.50000\n",
      "c Tensor(\"Accuracy/Cast:0\", shape=(12,), dtype=int32)\n",
      "y Tensor(\"Accuracy/Cast_1:0\", shape=(12,), dtype=int32)\n"
     ]
    },
    {
     "name": "stderr",
     "output_type": "stream",
     "text": [
      " 85%|████████▍ | 7076/8334 [07:17<01:17, 16.17it/s]"
     ]
    },
    {
     "name": "stdout",
     "output_type": "stream",
     "text": [
      "Iter 7080.0, Minibatch Loss= 0.753679, Training Accuracy= 0.66667\n",
      "c Tensor(\"Accuracy/Cast:0\", shape=(12,), dtype=int32)\n",
      "y Tensor(\"Accuracy/Cast_1:0\", shape=(12,), dtype=int32)\n"
     ]
    },
    {
     "name": "stderr",
     "output_type": "stream",
     "text": [
      " 85%|████████▌ | 7096/8334 [07:18<01:16, 16.18it/s]"
     ]
    },
    {
     "name": "stdout",
     "output_type": "stream",
     "text": [
      "Iter 7100.0, Minibatch Loss= 0.865432, Training Accuracy= 0.75000\n",
      "c Tensor(\"Accuracy/Cast:0\", shape=(12,), dtype=int32)\n",
      "y Tensor(\"Accuracy/Cast_1:0\", shape=(12,), dtype=int32)\n"
     ]
    },
    {
     "name": "stderr",
     "output_type": "stream",
     "text": [
      " 85%|████████▌ | 7116/8334 [07:19<01:15, 16.19it/s]"
     ]
    },
    {
     "name": "stdout",
     "output_type": "stream",
     "text": [
      "Iter 7120.0, Minibatch Loss= 0.635362, Training Accuracy= 0.50000\n",
      "c Tensor(\"Accuracy/Cast:0\", shape=(12,), dtype=int32)\n",
      "y Tensor(\"Accuracy/Cast_1:0\", shape=(12,), dtype=int32)\n"
     ]
    },
    {
     "name": "stderr",
     "output_type": "stream",
     "text": [
      " 86%|████████▌ | 7136/8334 [07:20<01:13, 16.19it/s]"
     ]
    },
    {
     "name": "stdout",
     "output_type": "stream",
     "text": [
      "Iter 7140.0, Minibatch Loss= 0.568655, Training Accuracy= 0.58333\n",
      "c Tensor(\"Accuracy/Cast:0\", shape=(12,), dtype=int32)\n",
      "y Tensor(\"Accuracy/Cast_1:0\", shape=(12,), dtype=int32)\n"
     ]
    },
    {
     "name": "stderr",
     "output_type": "stream",
     "text": [
      " 86%|████████▌ | 7156/8334 [07:21<01:12, 16.20it/s]"
     ]
    },
    {
     "name": "stdout",
     "output_type": "stream",
     "text": [
      "Iter 7160.0, Minibatch Loss= 0.851401, Training Accuracy= 0.75000\n",
      "c Tensor(\"Accuracy/Cast:0\", shape=(12,), dtype=int32)\n",
      "y Tensor(\"Accuracy/Cast_1:0\", shape=(12,), dtype=int32)\n"
     ]
    },
    {
     "name": "stderr",
     "output_type": "stream",
     "text": [
      " 86%|████████▌ | 7176/8334 [07:22<01:11, 16.21it/s]"
     ]
    },
    {
     "name": "stdout",
     "output_type": "stream",
     "text": [
      "Iter 7180.0, Minibatch Loss= 0.591033, Training Accuracy= 0.66667\n",
      "c Tensor(\"Accuracy/Cast:0\", shape=(12,), dtype=int32)\n",
      "y Tensor(\"Accuracy/Cast_1:0\", shape=(12,), dtype=int32)\n"
     ]
    },
    {
     "name": "stderr",
     "output_type": "stream",
     "text": [
      " 86%|████████▋ | 7199/8334 [07:24<01:10, 16.21it/s]"
     ]
    },
    {
     "name": "stdout",
     "output_type": "stream",
     "text": [
      "Iter 7200.0, Minibatch Loss= 0.590417, Training Accuracy= 0.66667\n",
      "c Tensor(\"Accuracy/Cast:0\", shape=(12,), dtype=int32)\n",
      "y Tensor(\"Accuracy/Cast_1:0\", shape=(12,), dtype=int32)\n"
     ]
    },
    {
     "name": "stderr",
     "output_type": "stream",
     "text": [
      " 87%|████████▋ | 7220/8334 [07:25<01:08, 16.21it/s]"
     ]
    },
    {
     "name": "stdout",
     "output_type": "stream",
     "text": [
      "Iter 7220.0, Minibatch Loss= 0.893395, Training Accuracy= 0.50000\n",
      "c Tensor(\"Accuracy/Cast:0\", shape=(12,), dtype=int32)\n",
      "y Tensor(\"Accuracy/Cast_1:0\", shape=(12,), dtype=int32)\n"
     ]
    },
    {
     "name": "stderr",
     "output_type": "stream",
     "text": [
      " 87%|████████▋ | 7238/8334 [07:26<01:07, 16.21it/s]"
     ]
    },
    {
     "name": "stdout",
     "output_type": "stream",
     "text": [
      "Iter 7240.0, Minibatch Loss= 1.101521, Training Accuracy= 0.41667\n",
      "c Tensor(\"Accuracy/Cast:0\", shape=(12,), dtype=int32)\n",
      "y Tensor(\"Accuracy/Cast_1:0\", shape=(12,), dtype=int32)\n"
     ]
    },
    {
     "name": "stderr",
     "output_type": "stream",
     "text": [
      " 87%|████████▋ | 7258/8334 [07:27<01:06, 16.21it/s]"
     ]
    },
    {
     "name": "stdout",
     "output_type": "stream",
     "text": [
      "Iter 7260.0, Minibatch Loss= 0.912607, Training Accuracy= 0.50000\n",
      "c Tensor(\"Accuracy/Cast:0\", shape=(12,), dtype=int32)\n",
      "y Tensor(\"Accuracy/Cast_1:0\", shape=(12,), dtype=int32)\n"
     ]
    },
    {
     "name": "stderr",
     "output_type": "stream",
     "text": [
      " 87%|████████▋ | 7279/8334 [07:28<01:05, 16.21it/s]"
     ]
    },
    {
     "name": "stdout",
     "output_type": "stream",
     "text": [
      "Iter 7280.0, Minibatch Loss= 0.716800, Training Accuracy= 0.75000\n",
      "c Tensor(\"Accuracy/Cast:0\", shape=(12,), dtype=int32)\n",
      "y Tensor(\"Accuracy/Cast_1:0\", shape=(12,), dtype=int32)\n"
     ]
    },
    {
     "name": "stderr",
     "output_type": "stream",
     "text": [
      " 88%|████████▊ | 7300/8334 [07:30<01:03, 16.22it/s]"
     ]
    },
    {
     "name": "stdout",
     "output_type": "stream",
     "text": [
      "Iter 7300.0, Minibatch Loss= 0.736493, Training Accuracy= 0.58333\n",
      "c Tensor(\"Accuracy/Cast:0\", shape=(12,), dtype=int32)\n",
      "y Tensor(\"Accuracy/Cast_1:0\", shape=(12,), dtype=int32)\n"
     ]
    },
    {
     "name": "stderr",
     "output_type": "stream",
     "text": [
      " 88%|████████▊ | 7317/8334 [07:31<01:02, 16.21it/s]"
     ]
    },
    {
     "name": "stdout",
     "output_type": "stream",
     "text": [
      "Iter 7320.0, Minibatch Loss= 0.616514, Training Accuracy= 0.66667\n",
      "c Tensor(\"Accuracy/Cast:0\", shape=(12,), dtype=int32)\n",
      "y Tensor(\"Accuracy/Cast_1:0\", shape=(12,), dtype=int32)\n"
     ]
    },
    {
     "name": "stderr",
     "output_type": "stream",
     "text": [
      " 88%|████████▊ | 7337/8334 [07:32<01:01, 16.22it/s]"
     ]
    },
    {
     "name": "stdout",
     "output_type": "stream",
     "text": [
      "Iter 7340.0, Minibatch Loss= 0.763466, Training Accuracy= 0.50000\n",
      "c Tensor(\"Accuracy/Cast:0\", shape=(12,), dtype=int32)\n",
      "y Tensor(\"Accuracy/Cast_1:0\", shape=(12,), dtype=int32)\n"
     ]
    },
    {
     "name": "stderr",
     "output_type": "stream",
     "text": [
      " 88%|████████▊ | 7358/8334 [07:33<01:00, 16.22it/s]"
     ]
    },
    {
     "name": "stdout",
     "output_type": "stream",
     "text": [
      "Iter 7360.0, Minibatch Loss= 0.662535, Training Accuracy= 0.75000\n",
      "c Tensor(\"Accuracy/Cast:0\", shape=(12,), dtype=int32)\n",
      "y Tensor(\"Accuracy/Cast_1:0\", shape=(12,), dtype=int32)\n"
     ]
    },
    {
     "name": "stderr",
     "output_type": "stream",
     "text": [
      " 89%|████████▊ | 7379/8334 [07:34<00:58, 16.22it/s]"
     ]
    },
    {
     "name": "stdout",
     "output_type": "stream",
     "text": [
      "Iter 7380.0, Minibatch Loss= 0.622894, Training Accuracy= 0.58333\n",
      "c Tensor(\"Accuracy/Cast:0\", shape=(12,), dtype=int32)\n",
      "y Tensor(\"Accuracy/Cast_1:0\", shape=(12,), dtype=int32)\n"
     ]
    },
    {
     "name": "stderr",
     "output_type": "stream",
     "text": [
      " 89%|████████▉ | 7400/8334 [07:36<00:57, 16.23it/s]"
     ]
    },
    {
     "name": "stdout",
     "output_type": "stream",
     "text": [
      "Iter 7400.0, Minibatch Loss= 0.841689, Training Accuracy= 0.58333\n",
      "c Tensor(\"Accuracy/Cast:0\", shape=(12,), dtype=int32)\n",
      "y Tensor(\"Accuracy/Cast_1:0\", shape=(12,), dtype=int32)\n"
     ]
    },
    {
     "name": "stderr",
     "output_type": "stream",
     "text": [
      " 89%|████████▉ | 7419/8334 [07:37<00:56, 16.23it/s]"
     ]
    },
    {
     "name": "stdout",
     "output_type": "stream",
     "text": [
      "Iter 7420.0, Minibatch Loss= 0.599864, Training Accuracy= 0.50000\n",
      "c Tensor(\"Accuracy/Cast:0\", shape=(12,), dtype=int32)\n",
      "y Tensor(\"Accuracy/Cast_1:0\", shape=(12,), dtype=int32)\n"
     ]
    },
    {
     "name": "stderr",
     "output_type": "stream",
     "text": [
      " 89%|████████▉ | 7439/8334 [07:38<00:55, 16.23it/s]"
     ]
    },
    {
     "name": "stdout",
     "output_type": "stream",
     "text": [
      "Iter 7440.0, Minibatch Loss= 0.582352, Training Accuracy= 0.83333\n",
      "c Tensor(\"Accuracy/Cast:0\", shape=(12,), dtype=int32)\n",
      "y Tensor(\"Accuracy/Cast_1:0\", shape=(12,), dtype=int32)\n"
     ]
    },
    {
     "name": "stderr",
     "output_type": "stream",
     "text": [
      " 90%|████████▉ | 7460/8334 [07:39<00:53, 16.23it/s]"
     ]
    },
    {
     "name": "stdout",
     "output_type": "stream",
     "text": [
      "Iter 7460.0, Minibatch Loss= 0.644123, Training Accuracy= 0.58333\n",
      "c Tensor(\"Accuracy/Cast:0\", shape=(12,), dtype=int32)\n",
      "y Tensor(\"Accuracy/Cast_1:0\", shape=(12,), dtype=int32)\n"
     ]
    },
    {
     "name": "stderr",
     "output_type": "stream",
     "text": [
      " 90%|████████▉ | 7480/8334 [07:40<00:52, 16.23it/s]"
     ]
    },
    {
     "name": "stdout",
     "output_type": "stream",
     "text": [
      "Iter 7480.0, Minibatch Loss= 0.668901, Training Accuracy= 0.66667\n",
      "c Tensor(\"Accuracy/Cast:0\", shape=(12,), dtype=int32)\n",
      "y Tensor(\"Accuracy/Cast_1:0\", shape=(12,), dtype=int32)\n"
     ]
    },
    {
     "name": "stderr",
     "output_type": "stream",
     "text": [
      " 90%|████████▉ | 7497/8334 [07:41<00:51, 16.23it/s]"
     ]
    },
    {
     "name": "stdout",
     "output_type": "stream",
     "text": [
      "Iter 7500.0, Minibatch Loss= 0.730134, Training Accuracy= 0.75000\n",
      "c Tensor(\"Accuracy/Cast:0\", shape=(12,), dtype=int32)\n",
      "y Tensor(\"Accuracy/Cast_1:0\", shape=(12,), dtype=int32)\n"
     ]
    },
    {
     "name": "stderr",
     "output_type": "stream",
     "text": [
      " 90%|█████████ | 7519/8334 [07:43<00:50, 16.24it/s]"
     ]
    },
    {
     "name": "stdout",
     "output_type": "stream",
     "text": [
      "Iter 7520.0, Minibatch Loss= 1.041476, Training Accuracy= 0.41667\n",
      "c Tensor(\"Accuracy/Cast:0\", shape=(12,), dtype=int32)\n",
      "y Tensor(\"Accuracy/Cast_1:0\", shape=(12,), dtype=int32)\n"
     ]
    },
    {
     "name": "stderr",
     "output_type": "stream",
     "text": [
      " 90%|█████████ | 7540/8334 [07:44<00:48, 16.24it/s]"
     ]
    },
    {
     "name": "stdout",
     "output_type": "stream",
     "text": [
      "Iter 7540.0, Minibatch Loss= 1.031734, Training Accuracy= 0.41667\n",
      "c Tensor(\"Accuracy/Cast:0\", shape=(12,), dtype=int32)\n",
      "y Tensor(\"Accuracy/Cast_1:0\", shape=(12,), dtype=int32)\n"
     ]
    },
    {
     "name": "stderr",
     "output_type": "stream",
     "text": [
      " 91%|█████████ | 7560/8334 [07:45<00:47, 16.24it/s]"
     ]
    },
    {
     "name": "stdout",
     "output_type": "stream",
     "text": [
      "Iter 7560.0, Minibatch Loss= 0.532875, Training Accuracy= 0.41667\n",
      "c Tensor(\"Accuracy/Cast:0\", shape=(12,), dtype=int32)\n",
      "y Tensor(\"Accuracy/Cast_1:0\", shape=(12,), dtype=int32)\n"
     ]
    },
    {
     "name": "stderr",
     "output_type": "stream",
     "text": [
      " 91%|█████████ | 7577/8334 [07:46<00:46, 16.24it/s]"
     ]
    },
    {
     "name": "stdout",
     "output_type": "stream",
     "text": [
      "Iter 7580.0, Minibatch Loss= 0.909478, Training Accuracy= 0.41667\n",
      "c Tensor(\"Accuracy/Cast:0\", shape=(12,), dtype=int32)\n",
      "y Tensor(\"Accuracy/Cast_1:0\", shape=(12,), dtype=int32)\n"
     ]
    },
    {
     "name": "stderr",
     "output_type": "stream",
     "text": [
      " 91%|█████████ | 7599/8334 [07:47<00:45, 16.25it/s]"
     ]
    },
    {
     "name": "stdout",
     "output_type": "stream",
     "text": [
      "Iter 7600.0, Minibatch Loss= 0.881468, Training Accuracy= 0.41667\n",
      "c Tensor(\"Accuracy/Cast:0\", shape=(12,), dtype=int32)\n",
      "y Tensor(\"Accuracy/Cast_1:0\", shape=(12,), dtype=int32)\n"
     ]
    },
    {
     "name": "stderr",
     "output_type": "stream",
     "text": [
      " 91%|█████████▏| 7619/8334 [07:48<00:44, 16.25it/s]"
     ]
    },
    {
     "name": "stdout",
     "output_type": "stream",
     "text": [
      "Iter 7620.0, Minibatch Loss= 0.665314, Training Accuracy= 0.75000\n",
      "c Tensor(\"Accuracy/Cast:0\", shape=(12,), dtype=int32)\n",
      "y Tensor(\"Accuracy/Cast_1:0\", shape=(12,), dtype=int32)\n"
     ]
    },
    {
     "name": "stderr",
     "output_type": "stream",
     "text": [
      " 92%|█████████▏| 7639/8334 [07:50<00:42, 16.24it/s]"
     ]
    },
    {
     "name": "stdout",
     "output_type": "stream",
     "text": [
      "Iter 7640.0, Minibatch Loss= 0.696876, Training Accuracy= 0.58333\n",
      "c Tensor(\"Accuracy/Cast:0\", shape=(12,), dtype=int32)\n",
      "y Tensor(\"Accuracy/Cast_1:0\", shape=(12,), dtype=int32)\n"
     ]
    },
    {
     "name": "stderr",
     "output_type": "stream",
     "text": [
      " 92%|█████████▏| 7660/8334 [07:51<00:41, 16.25it/s]"
     ]
    },
    {
     "name": "stdout",
     "output_type": "stream",
     "text": [
      "Iter 7660.0, Minibatch Loss= 0.777700, Training Accuracy= 0.50000\n",
      "c Tensor(\"Accuracy/Cast:0\", shape=(12,), dtype=int32)\n",
      "y Tensor(\"Accuracy/Cast_1:0\", shape=(12,), dtype=int32)\n"
     ]
    },
    {
     "name": "stderr",
     "output_type": "stream",
     "text": [
      " 92%|█████████▏| 7678/8334 [07:52<00:40, 16.25it/s]"
     ]
    },
    {
     "name": "stdout",
     "output_type": "stream",
     "text": [
      "Iter 7680.0, Minibatch Loss= 1.145077, Training Accuracy= 0.41667\n",
      "c Tensor(\"Accuracy/Cast:0\", shape=(12,), dtype=int32)\n",
      "y Tensor(\"Accuracy/Cast_1:0\", shape=(12,), dtype=int32)\n"
     ]
    },
    {
     "name": "stderr",
     "output_type": "stream",
     "text": [
      " 92%|█████████▏| 7700/8334 [07:53<00:39, 16.25it/s]"
     ]
    },
    {
     "name": "stdout",
     "output_type": "stream",
     "text": [
      "Iter 7700.0, Minibatch Loss= 0.847093, Training Accuracy= 0.75000\n",
      "c Tensor(\"Accuracy/Cast:0\", shape=(12,), dtype=int32)\n",
      "y Tensor(\"Accuracy/Cast_1:0\", shape=(12,), dtype=int32)\n"
     ]
    },
    {
     "name": "stderr",
     "output_type": "stream",
     "text": [
      " 93%|█████████▎| 7717/8334 [07:54<00:37, 16.25it/s]"
     ]
    },
    {
     "name": "stdout",
     "output_type": "stream",
     "text": [
      "Iter 7720.0, Minibatch Loss= 0.815278, Training Accuracy= 0.50000\n",
      "c Tensor(\"Accuracy/Cast:0\", shape=(12,), dtype=int32)\n",
      "y Tensor(\"Accuracy/Cast_1:0\", shape=(12,), dtype=int32)\n"
     ]
    },
    {
     "name": "stderr",
     "output_type": "stream",
     "text": [
      " 93%|█████████▎| 7739/8334 [07:56<00:36, 16.26it/s]"
     ]
    },
    {
     "name": "stdout",
     "output_type": "stream",
     "text": [
      "Iter 7740.0, Minibatch Loss= 1.009435, Training Accuracy= 0.33333\n",
      "c Tensor(\"Accuracy/Cast:0\", shape=(12,), dtype=int32)\n",
      "y Tensor(\"Accuracy/Cast_1:0\", shape=(12,), dtype=int32)\n"
     ]
    },
    {
     "name": "stderr",
     "output_type": "stream",
     "text": [
      " 93%|█████████▎| 7760/8334 [07:57<00:35, 16.26it/s]"
     ]
    },
    {
     "name": "stdout",
     "output_type": "stream",
     "text": [
      "Iter 7760.0, Minibatch Loss= 0.927417, Training Accuracy= 0.66667\n",
      "c Tensor(\"Accuracy/Cast:0\", shape=(12,), dtype=int32)\n",
      "y Tensor(\"Accuracy/Cast_1:0\", shape=(12,), dtype=int32)\n"
     ]
    },
    {
     "name": "stderr",
     "output_type": "stream",
     "text": [
      " 93%|█████████▎| 7777/8334 [07:58<00:34, 16.26it/s]"
     ]
    },
    {
     "name": "stdout",
     "output_type": "stream",
     "text": [
      "Iter 7780.0, Minibatch Loss= 0.677863, Training Accuracy= 0.58333\n",
      "c Tensor(\"Accuracy/Cast:0\", shape=(12,), dtype=int32)\n",
      "y Tensor(\"Accuracy/Cast_1:0\", shape=(12,), dtype=int32)\n"
     ]
    },
    {
     "name": "stderr",
     "output_type": "stream",
     "text": [
      " 94%|█████████▎| 7798/8334 [07:59<00:32, 16.26it/s]"
     ]
    },
    {
     "name": "stdout",
     "output_type": "stream",
     "text": [
      "Iter 7800.0, Minibatch Loss= 0.741389, Training Accuracy= 0.58333\n",
      "c Tensor(\"Accuracy/Cast:0\", shape=(12,), dtype=int32)\n",
      "y Tensor(\"Accuracy/Cast_1:0\", shape=(12,), dtype=int32)\n"
     ]
    },
    {
     "name": "stderr",
     "output_type": "stream",
     "text": [
      " 94%|█████████▍| 7819/8334 [08:00<00:31, 16.27it/s]"
     ]
    },
    {
     "name": "stdout",
     "output_type": "stream",
     "text": [
      "Iter 7820.0, Minibatch Loss= 1.090101, Training Accuracy= 0.58333\n",
      "c Tensor(\"Accuracy/Cast:0\", shape=(12,), dtype=int32)\n",
      "y Tensor(\"Accuracy/Cast_1:0\", shape=(12,), dtype=int32)\n"
     ]
    },
    {
     "name": "stderr",
     "output_type": "stream",
     "text": [
      " 94%|█████████▍| 7840/8334 [08:01<00:30, 16.27it/s]"
     ]
    },
    {
     "name": "stdout",
     "output_type": "stream",
     "text": [
      "Iter 7840.0, Minibatch Loss= 0.767421, Training Accuracy= 0.50000\n",
      "c Tensor(\"Accuracy/Cast:0\", shape=(12,), dtype=int32)\n",
      "y Tensor(\"Accuracy/Cast_1:0\", shape=(12,), dtype=int32)\n"
     ]
    },
    {
     "name": "stderr",
     "output_type": "stream",
     "text": [
      " 94%|█████████▍| 7860/8334 [08:03<00:29, 16.27it/s]"
     ]
    },
    {
     "name": "stdout",
     "output_type": "stream",
     "text": [
      "Iter 7860.0, Minibatch Loss= 0.660685, Training Accuracy= 0.66667\n",
      "c Tensor(\"Accuracy/Cast:0\", shape=(12,), dtype=int32)\n",
      "y Tensor(\"Accuracy/Cast_1:0\", shape=(12,), dtype=int32)\n"
     ]
    },
    {
     "name": "stderr",
     "output_type": "stream",
     "text": [
      " 95%|█████████▍| 7876/8334 [08:04<00:28, 16.27it/s]"
     ]
    },
    {
     "name": "stdout",
     "output_type": "stream",
     "text": [
      "Iter 7880.0, Minibatch Loss= 0.695102, Training Accuracy= 0.75000\n",
      "c Tensor(\"Accuracy/Cast:0\", shape=(12,), dtype=int32)\n",
      "y Tensor(\"Accuracy/Cast_1:0\", shape=(12,), dtype=int32)\n"
     ]
    },
    {
     "name": "stderr",
     "output_type": "stream",
     "text": [
      " 95%|█████████▍| 7898/8334 [08:05<00:26, 16.27it/s]"
     ]
    },
    {
     "name": "stdout",
     "output_type": "stream",
     "text": [
      "Iter 7900.0, Minibatch Loss= 0.710435, Training Accuracy= 0.75000\n",
      "c Tensor(\"Accuracy/Cast:0\", shape=(12,), dtype=int32)\n",
      "y Tensor(\"Accuracy/Cast_1:0\", shape=(12,), dtype=int32)\n"
     ]
    },
    {
     "name": "stderr",
     "output_type": "stream",
     "text": [
      " 95%|█████████▌| 7919/8334 [08:06<00:25, 16.27it/s]"
     ]
    },
    {
     "name": "stdout",
     "output_type": "stream",
     "text": [
      "Iter 7920.0, Minibatch Loss= 0.642650, Training Accuracy= 0.25000\n",
      "c Tensor(\"Accuracy/Cast:0\", shape=(12,), dtype=int32)\n",
      "y Tensor(\"Accuracy/Cast_1:0\", shape=(12,), dtype=int32)\n"
     ]
    },
    {
     "name": "stderr",
     "output_type": "stream",
     "text": [
      " 95%|█████████▌| 7939/8334 [08:07<00:24, 16.28it/s]"
     ]
    },
    {
     "name": "stdout",
     "output_type": "stream",
     "text": [
      "Iter 7940.0, Minibatch Loss= 0.772244, Training Accuracy= 0.66667\n",
      "c Tensor(\"Accuracy/Cast:0\", shape=(12,), dtype=int32)\n",
      "y Tensor(\"Accuracy/Cast_1:0\", shape=(12,), dtype=int32)\n"
     ]
    },
    {
     "name": "stderr",
     "output_type": "stream",
     "text": [
      " 96%|█████████▌| 7959/8334 [08:08<00:23, 16.28it/s]"
     ]
    },
    {
     "name": "stdout",
     "output_type": "stream",
     "text": [
      "Iter 7960.0, Minibatch Loss= 0.649733, Training Accuracy= 0.66667\n",
      "c Tensor(\"Accuracy/Cast:0\", shape=(12,), dtype=int32)\n",
      "y Tensor(\"Accuracy/Cast_1:0\", shape=(12,), dtype=int32)\n"
     ]
    },
    {
     "name": "stderr",
     "output_type": "stream",
     "text": [
      " 96%|█████████▌| 7977/8334 [08:10<00:21, 16.28it/s]"
     ]
    },
    {
     "name": "stdout",
     "output_type": "stream",
     "text": [
      "Iter 7980.0, Minibatch Loss= 0.775964, Training Accuracy= 0.58333\n",
      "c Tensor(\"Accuracy/Cast:0\", shape=(12,), dtype=int32)\n",
      "y Tensor(\"Accuracy/Cast_1:0\", shape=(12,), dtype=int32)\n"
     ]
    },
    {
     "name": "stderr",
     "output_type": "stream",
     "text": [
      " 96%|█████████▌| 7998/8334 [08:11<00:20, 16.28it/s]"
     ]
    },
    {
     "name": "stdout",
     "output_type": "stream",
     "text": [
      "Iter 8000.0, Minibatch Loss= 0.696928, Training Accuracy= 0.50000\n",
      "c Tensor(\"Accuracy/Cast:0\", shape=(12,), dtype=int32)\n",
      "y Tensor(\"Accuracy/Cast_1:0\", shape=(12,), dtype=int32)\n"
     ]
    },
    {
     "name": "stderr",
     "output_type": "stream",
     "text": [
      " 96%|█████████▌| 8019/8334 [08:12<00:19, 16.28it/s]"
     ]
    },
    {
     "name": "stdout",
     "output_type": "stream",
     "text": [
      "Iter 8020.0, Minibatch Loss= 1.201197, Training Accuracy= 0.58333\n",
      "c Tensor(\"Accuracy/Cast:0\", shape=(12,), dtype=int32)\n",
      "y Tensor(\"Accuracy/Cast_1:0\", shape=(12,), dtype=int32)\n"
     ]
    },
    {
     "name": "stderr",
     "output_type": "stream",
     "text": [
      " 96%|█████████▋| 8040/8334 [08:13<00:18, 16.28it/s]"
     ]
    },
    {
     "name": "stdout",
     "output_type": "stream",
     "text": [
      "Iter 8040.0, Minibatch Loss= 0.723943, Training Accuracy= 0.75000\n",
      "c Tensor(\"Accuracy/Cast:0\", shape=(12,), dtype=int32)\n",
      "y Tensor(\"Accuracy/Cast_1:0\", shape=(12,), dtype=int32)\n"
     ]
    },
    {
     "name": "stderr",
     "output_type": "stream",
     "text": [
      " 97%|█████████▋| 8060/8334 [08:14<00:16, 16.28it/s]"
     ]
    },
    {
     "name": "stdout",
     "output_type": "stream",
     "text": [
      "Iter 8060.0, Minibatch Loss= 0.784935, Training Accuracy= 0.58333\n",
      "c Tensor(\"Accuracy/Cast:0\", shape=(12,), dtype=int32)\n",
      "y Tensor(\"Accuracy/Cast_1:0\", shape=(12,), dtype=int32)\n"
     ]
    },
    {
     "name": "stderr",
     "output_type": "stream",
     "text": [
      " 97%|█████████▋| 8077/8334 [08:16<00:15, 16.28it/s]"
     ]
    },
    {
     "name": "stdout",
     "output_type": "stream",
     "text": [
      "Iter 8080.0, Minibatch Loss= 0.944409, Training Accuracy= 0.75000\n",
      "c Tensor(\"Accuracy/Cast:0\", shape=(12,), dtype=int32)\n",
      "y Tensor(\"Accuracy/Cast_1:0\", shape=(12,), dtype=int32)\n"
     ]
    },
    {
     "name": "stderr",
     "output_type": "stream",
     "text": [
      " 97%|█████████▋| 8099/8334 [08:17<00:14, 16.29it/s]"
     ]
    },
    {
     "name": "stdout",
     "output_type": "stream",
     "text": [
      "Iter 8100.0, Minibatch Loss= 0.759283, Training Accuracy= 0.50000\n",
      "c Tensor(\"Accuracy/Cast:0\", shape=(12,), dtype=int32)\n",
      "y Tensor(\"Accuracy/Cast_1:0\", shape=(12,), dtype=int32)\n"
     ]
    },
    {
     "name": "stderr",
     "output_type": "stream",
     "text": [
      " 97%|█████████▋| 8116/8334 [08:18<00:13, 16.29it/s]"
     ]
    },
    {
     "name": "stdout",
     "output_type": "stream",
     "text": [
      "Iter 8120.0, Minibatch Loss= 0.610132, Training Accuracy= 0.83333\n",
      "c Tensor(\"Accuracy/Cast:0\", shape=(12,), dtype=int32)\n",
      "y Tensor(\"Accuracy/Cast_1:0\", shape=(12,), dtype=int32)\n"
     ]
    },
    {
     "name": "stderr",
     "output_type": "stream",
     "text": [
      " 98%|█████████▊| 8139/8334 [08:19<00:11, 16.29it/s]"
     ]
    },
    {
     "name": "stdout",
     "output_type": "stream",
     "text": [
      "Iter 8140.0, Minibatch Loss= 0.802249, Training Accuracy= 0.58333\n",
      "c Tensor(\"Accuracy/Cast:0\", shape=(12,), dtype=int32)\n",
      "y Tensor(\"Accuracy/Cast_1:0\", shape=(12,), dtype=int32)\n"
     ]
    },
    {
     "name": "stderr",
     "output_type": "stream",
     "text": [
      " 98%|█████████▊| 8160/8334 [08:20<00:10, 16.29it/s]"
     ]
    },
    {
     "name": "stdout",
     "output_type": "stream",
     "text": [
      "Iter 8160.0, Minibatch Loss= 0.803880, Training Accuracy= 0.58333\n",
      "c Tensor(\"Accuracy/Cast:0\", shape=(12,), dtype=int32)\n",
      "y Tensor(\"Accuracy/Cast_1:0\", shape=(12,), dtype=int32)\n"
     ]
    },
    {
     "name": "stderr",
     "output_type": "stream",
     "text": [
      " 98%|█████████▊| 8177/8334 [08:21<00:09, 16.29it/s]"
     ]
    },
    {
     "name": "stdout",
     "output_type": "stream",
     "text": [
      "Iter 8180.0, Minibatch Loss= 0.760499, Training Accuracy= 0.75000\n",
      "c Tensor(\"Accuracy/Cast:0\", shape=(12,), dtype=int32)\n",
      "y Tensor(\"Accuracy/Cast_1:0\", shape=(12,), dtype=int32)\n"
     ]
    },
    {
     "name": "stderr",
     "output_type": "stream",
     "text": [
      " 98%|█████████▊| 8199/8334 [08:23<00:08, 16.30it/s]"
     ]
    },
    {
     "name": "stdout",
     "output_type": "stream",
     "text": [
      "Iter 8200.0, Minibatch Loss= 0.639069, Training Accuracy= 0.75000\n",
      "c Tensor(\"Accuracy/Cast:0\", shape=(12,), dtype=int32)\n",
      "y Tensor(\"Accuracy/Cast_1:0\", shape=(12,), dtype=int32)\n"
     ]
    },
    {
     "name": "stderr",
     "output_type": "stream",
     "text": [
      " 99%|█████████▊| 8217/8334 [08:24<00:07, 16.30it/s]"
     ]
    },
    {
     "name": "stdout",
     "output_type": "stream",
     "text": [
      "Iter 8220.0, Minibatch Loss= 0.661422, Training Accuracy= 0.75000\n",
      "c Tensor(\"Accuracy/Cast:0\", shape=(12,), dtype=int32)\n",
      "y Tensor(\"Accuracy/Cast_1:0\", shape=(12,), dtype=int32)\n"
     ]
    },
    {
     "name": "stderr",
     "output_type": "stream",
     "text": [
      " 99%|█████████▉| 8238/8334 [08:25<00:05, 16.30it/s]"
     ]
    },
    {
     "name": "stdout",
     "output_type": "stream",
     "text": [
      "Iter 8240.0, Minibatch Loss= 0.723648, Training Accuracy= 0.66667\n",
      "c Tensor(\"Accuracy/Cast:0\", shape=(12,), dtype=int32)\n",
      "y Tensor(\"Accuracy/Cast_1:0\", shape=(12,), dtype=int32)\n"
     ]
    },
    {
     "name": "stderr",
     "output_type": "stream",
     "text": [
      " 99%|█████████▉| 8260/8334 [08:26<00:04, 16.30it/s]"
     ]
    },
    {
     "name": "stdout",
     "output_type": "stream",
     "text": [
      "Iter 8260.0, Minibatch Loss= 0.716047, Training Accuracy= 0.66667\n",
      "c Tensor(\"Accuracy/Cast:0\", shape=(12,), dtype=int32)\n",
      "y Tensor(\"Accuracy/Cast_1:0\", shape=(12,), dtype=int32)\n"
     ]
    },
    {
     "name": "stderr",
     "output_type": "stream",
     "text": [
      " 99%|█████████▉| 8277/8334 [08:27<00:03, 16.30it/s]"
     ]
    },
    {
     "name": "stdout",
     "output_type": "stream",
     "text": [
      "Iter 8280.0, Minibatch Loss= 0.792084, Training Accuracy= 0.50000\n",
      "c Tensor(\"Accuracy/Cast:0\", shape=(12,), dtype=int32)\n",
      "y Tensor(\"Accuracy/Cast_1:0\", shape=(12,), dtype=int32)\n"
     ]
    },
    {
     "name": "stderr",
     "output_type": "stream",
     "text": [
      "100%|█████████▉| 8299/8334 [08:28<00:02, 16.31it/s]"
     ]
    },
    {
     "name": "stdout",
     "output_type": "stream",
     "text": [
      "Iter 8300.0, Minibatch Loss= 0.566374, Training Accuracy= 0.91667\n",
      "c Tensor(\"Accuracy/Cast:0\", shape=(12,), dtype=int32)\n",
      "y Tensor(\"Accuracy/Cast_1:0\", shape=(12,), dtype=int32)\n"
     ]
    },
    {
     "name": "stderr",
     "output_type": "stream",
     "text": [
      "100%|█████████▉| 8320/8334 [08:30<00:00, 16.31it/s]"
     ]
    },
    {
     "name": "stdout",
     "output_type": "stream",
     "text": [
      "Iter 8320.0, Minibatch Loss= 1.031343, Training Accuracy= 0.58333\n",
      "c Tensor(\"Accuracy/Cast:0\", shape=(12,), dtype=int32)\n",
      "y Tensor(\"Accuracy/Cast_1:0\", shape=(12,), dtype=int32)\n"
     ]
    },
    {
     "name": "stderr",
     "output_type": "stream",
     "text": [
      "100%|██████████| 8334/8334 [08:31<00:00, 16.30it/s]\n"
     ]
    }
   ],
   "source": [
    "# Initialize variables\n",
    "init = tf.global_variables_initializer()\n",
    "\n",
    "# Use TQDM if installed\n",
    "tqdm_installed = False\n",
    "try:\n",
    "    from tqdm import tqdm\n",
    "    tqdm_installed = True\n",
    "except:\n",
    "    pass\n",
    "\n",
    "# Launch the Tensorflow session\n",
    "sess = tf.Session()\n",
    "sess.run(init)\n",
    "training_writer = tf.summary.FileWriter('./logs/training', sess.graph)\n",
    "#sess.run(y)\n",
    "#sess.run(classification_scores)\n",
    "\n",
    "# training_iterations_count: The number of data pieces to train on in total\n",
    "# batch_size: The number of data pieces per batch\n",
    "training_iterations = range(0,training_iterations_count,batch_size)\n",
    "if tqdm_installed:\n",
    "    # Add a progress bar if TQDM is installed\n",
    "    training_iterations = tqdm(training_iterations)\n",
    "\n",
    "for i in training_iterations:\n",
    "\n",
    "    # Select indices for a random data subset\n",
    "    batch = np.random.randint(data_feature_list[0].shape[0], size=batch_size)\n",
    "    \n",
    "    # Use the selected subset indices to initialize the graph's \n",
    "    #   placeholder values\n",
    "    hyps, evis, ys = (data_feature_list[0][batch,:],\n",
    "                      data_feature_list[1][batch,:],\n",
    "                      correct_scores[batch])\n",
    "    \n",
    "    # Run the optimization with these initialized values\n",
    "    sess.run([opt_op], feed_dict={hyp: hyps, evi: evis, y: ys})\n",
    "    # display_step: how often the accuracy and loss should \n",
    "    #   be tested and displayed.\n",
    "    if (i/batch_size) % display_step == 0:\n",
    "        # Calculate batch accuracy\n",
    "        acc,training_summary = sess.run([accuracy,summary] ,feed_dict={hyp: hyps, evi: evis, y: ys})\n",
    "        # Calculate batch loss\n",
    "        tmp_loss = sess.run(loss, feed_dict={hyp: hyps, evi: evis, y: ys})\n",
    "        training_writer.add_summary(training_summary, i/batch_size)\n",
    "        # Display results\n",
    "        print(\"Iter \" + str(i/batch_size) + \", Minibatch Loss= \" + \\\n",
    "              \"{:.6f}\".format(tmp_loss) + \", Training Accuracy= \" + \\\n",
    "              \"{:.5f}\".format(acc))\n",
    "        print('c',predicts)\n",
    "        print('y',y_label)\n",
    "        save_path = saver.save(sess, \"logs/trained_model.ckpt\")\n"
   ]
  },
  {
   "cell_type": "code",
   "execution_count": 15,
   "metadata": {},
   "outputs": [],
   "source": [
    "\n",
    "def split_data_into_scores():\n",
    "    import csv\n",
    "    with open(\"snli_1.0_test.txt\",\"r\") as data:\n",
    "        train = csv.DictReader(data, delimiter='\\t')\n",
    "        evi_sentences = []\n",
    "        hyp_sentences = []\n",
    "        labels = []\n",
    "        scores = []\n",
    "        for i,row in enumerate(train):\n",
    "            #print(i)\n",
    "            if i < 20000:\n",
    "                #print(i)\n",
    "                hyp_sentences.append(np.vstack(\n",
    "                        sentence2sequence(row[\"sentence1\"].lower())[0]))\n",
    "                evi_sentences.append(np.vstack(\n",
    "                        sentence2sequence(row[\"sentence2\"].lower())[0]))\n",
    "                labels.append(row[\"gold_label\"])\n",
    "                scores.append(score_setup(row))\n",
    "\n",
    "        hyp_sentences = np.stack([fit_to_size(x, (max_hypothesis_length, vector_size))\n",
    "                          for x in hyp_sentences])\n",
    "        evi_sentences = np.stack([fit_to_size(x, (max_evidence_length, vector_size))\n",
    "                          for x in evi_sentences])\n",
    "                                 \n",
    "        return (hyp_sentences, evi_sentences), labels, np.array(scores)\n",
    "    \n",
    "data_feature_list, correct_values, correct_scores = split_data_into_scores()\n",
    "l_h, l_e = max_hypothesis_length, max_evidence_length\n",
    "N, D, H = batch_size, vector_size, hidden_size\n",
    "l_seq = l_h + l_e\n",
    "hyps, evis, ys = (data_feature_list[0][batch,:],\n",
    "                      data_feature_list[1][batch,:],\n",
    "                      correct_scores[batch])\n",
    "\n",
    "prediction = sess.run(classification_scores, feed_dict={hyp: hyps,\n",
    "                                                        evi: evis,\n",
    "                                                        y: ys})\n"
   ]
  }
 ],
 "metadata": {
  "anaconda-cloud": {},
  "kernelspec": {
   "display_name": "Python 3",
   "language": "python",
   "name": "python3"
  },
  "language_info": {
   "codemirror_mode": {
    "name": "ipython",
    "version": 3
   },
   "file_extension": ".py",
   "mimetype": "text/x-python",
   "name": "python",
   "nbconvert_exporter": "python",
   "pygments_lexer": "ipython3",
   "version": "3.6.4"
  }
 },
 "nbformat": 4,
 "nbformat_minor": 1
}
