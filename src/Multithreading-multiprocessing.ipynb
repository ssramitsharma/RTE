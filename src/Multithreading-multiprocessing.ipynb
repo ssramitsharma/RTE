{
 "cells": [
  {
   "cell_type": "code",
   "execution_count": 16,
   "metadata": {},
   "outputs": [],
   "source": [
    "#Reference: https://www.youtube.com/watch?v=PJ4t2U15ACo&list=PLeo1K3hjS3uub3PRhdoCTY8BxMKSW7RjN\n",
    "import time #Without thereading\n",
    "import threading\n",
    "import multiprocessing"
   ]
  },
  {
   "cell_type": "code",
   "execution_count": 14,
   "metadata": {},
   "outputs": [
    {
     "name": "stdout",
     "output_type": "stream",
     "text": [
      "square : 1\n",
      "square : 4\n",
      "square : 9\n",
      "square : 16\n",
      "square : 4489\n",
      "cube :  1\n",
      "cube :  8\n",
      "cube :  27\n",
      "cube :  64\n",
      "cube :  300763\n",
      "done in 2.0069828033447266secs\n"
     ]
    }
   ],
   "source": [
    "def calc_square(numbers):\n",
    "    for n in numbers:\n",
    "        time.sleep(0.2)\n",
    "        print(\"square :\",n*n)\n",
    "def calc_cube(numbers):\n",
    "    for n in numbers:\n",
    "        time.sleep(0.2)\n",
    "        print(\"cube : \",n*n*n)\n",
    "a = [1,2,3,4,67]\n",
    "t = time.time()\n",
    "calc_square(a)\n",
    "calc_cube(a)\n",
    "print(\"done in \"+str(time.time()-t)+\"secs\")        \n",
    "    "
   ]
  },
  {
   "cell_type": "code",
   "execution_count": 15,
   "metadata": {},
   "outputs": [
    {
     "name": "stdout",
     "output_type": "stream",
     "text": [
      "square : 1\n",
      "cube :  1\n",
      "square : cube :  8\n",
      "4\n",
      "square : 9\n",
      "cube :  27\n",
      "square :cube :  16\n",
      " 64\n",
      "square : 4489\n",
      "cube :  300763\n",
      "done in 1.0050084590911865secs\n"
     ]
    }
   ],
   "source": [
    "#with threading\n",
    "def calc_square(numbers):\n",
    "    for n in numbers:\n",
    "        time.sleep(0.2)\n",
    "        print(\"square :\",n*n)\n",
    "def calc_cube(numbers):\n",
    "    for n in numbers:\n",
    "        time.sleep(0.2)\n",
    "        print(\"cube : \",n*n*n)\n",
    "a = [1,2,3,4,67]\n",
    "t = time.time()\n",
    "t1 = threading.Thread(target = calc_square,args=(a,))\n",
    "t2 = threading.Thread(target = calc_cube,args=(a,))\n",
    "t1.start()\n",
    "t2.start()\n",
    "t1.join()\n",
    "t2.join()\n",
    "print(\"done in \"+str(time.time()-t)+\"secs\")        \n",
    "    "
   ]
  },
  {
   "cell_type": "code",
   "execution_count": 17,
   "metadata": {},
   "outputs": [
    {
     "name": "stdout",
     "output_type": "stream",
     "text": [
      "square : 1\n",
      "cube :  1\n",
      "square : 4\n",
      "cube :  8\n",
      "square : 9\n",
      "cube :  27\n",
      "square : 16\n",
      "cube :  64\n",
      "square : 4489\n",
      "cube :  300763\n",
      "done in 1.0456106662750244secs\n"
     ]
    }
   ],
   "source": [
    "#with threading\n",
    "def calc_square(numbers):\n",
    "    for n in numbers:\n",
    "        time.sleep(0.2)\n",
    "        print(\"square :\",n*n)\n",
    "def calc_cube(numbers):\n",
    "    for n in numbers:\n",
    "        time.sleep(0.2)\n",
    "        print(\"cube : \",n*n*n)\n",
    "a = [1,2,3,4,67]\n",
    "t = time.time()\n",
    "p1 = multiprocessing.Process(target = calc_square,args=(a,))\n",
    "p2 = multiprocessing.Process(target = calc_cube,args=(a,))\n",
    "p1.start()\n",
    "p2.start()\n",
    "p1.join()\n",
    "p2.join()\n",
    "print(\"done in \"+str(time.time()-t)+\"secs\")        \n",
    "    "
   ]
  },
  {
   "cell_type": "code",
   "execution_count": null,
   "metadata": {},
   "outputs": [],
   "source": []
  }
 ],
 "metadata": {
  "kernelspec": {
   "display_name": "Python 2",
   "language": "python",
   "name": "python2"
  },
  "language_info": {
   "codemirror_mode": {
    "name": "ipython",
    "version": 2
   },
   "file_extension": ".py",
   "mimetype": "text/x-python",
   "name": "python",
   "nbconvert_exporter": "python",
   "pygments_lexer": "ipython2",
   "version": "2.7.14"
  }
 },
 "nbformat": 4,
 "nbformat_minor": 2
}
