{
 "cells": [
  {
   "cell_type": "code",
   "execution_count": 14,
   "metadata": {},
   "outputs": [
    {
     "name": "stdout",
     "output_type": "stream",
     "text": [
      "0.25\n",
      "[0, 0, 0, 1, 0, 0, 0]\n"
     ]
    }
   ],
   "source": [
    "import math\n",
    "z = [1.0, 2.0, 3.0, 4.0, 1.0, 2.0, 3.0]\n",
    "ze = [math.exp(i) for i in z]\n",
    "ze = sum(z)\n",
    "softmax = [round(i/ze,3) for i in z]\n",
    "print max(softmax)\n",
    "p = []\n",
    "for i in softmax:\n",
    "    if i == max(softmax):\n",
    "        a = 1\n",
    "    else:\n",
    "        a = 0\n",
    "    p.append(a)\n",
    "print p"
   ]
  },
  {
   "cell_type": "code",
   "execution_count": null,
   "metadata": {},
   "outputs": [],
   "source": []
  }
 ],
 "metadata": {
  "kernelspec": {
   "display_name": "Python 2",
   "language": "python",
   "name": "python2"
  },
  "language_info": {
   "codemirror_mode": {
    "name": "ipython",
    "version": 2
   },
   "file_extension": ".py",
   "mimetype": "text/x-python",
   "name": "python",
   "nbconvert_exporter": "python",
   "pygments_lexer": "ipython2",
   "version": "2.7.14"
  }
 },
 "nbformat": 4,
 "nbformat_minor": 2
}
